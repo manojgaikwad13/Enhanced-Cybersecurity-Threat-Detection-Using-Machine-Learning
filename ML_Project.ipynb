{
 "cells": [
  {
   "cell_type": "markdown",
   "id": "68773a96-32d7-44a8-ac0a-de47b365ad60",
   "metadata": {
    "tags": []
   },
   "source": [
    "### Reading the Imported Data and Storing each Data in a Particular Variable"
   ]
  },
  {
   "cell_type": "code",
   "execution_count": 1,
   "id": "e3b8b9d0-5366-4e7a-b95f-1d4d035e2405",
   "metadata": {
    "tags": []
   },
   "outputs": [],
   "source": [
    "import pandas as pd"
   ]
  },
  {
   "cell_type": "code",
   "execution_count": 2,
   "id": "c645ef93-e673-4c6f-8c63-e803928b288f",
   "metadata": {
    "tags": []
   },
   "outputs": [
    {
     "data": {
      "text/html": [
       "<div>\n",
       "<style scoped>\n",
       "    .dataframe tbody tr th:only-of-type {\n",
       "        vertical-align: middle;\n",
       "    }\n",
       "\n",
       "    .dataframe tbody tr th {\n",
       "        vertical-align: top;\n",
       "    }\n",
       "\n",
       "    .dataframe thead th {\n",
       "        text-align: right;\n",
       "    }\n",
       "</style>\n",
       "<table border=\"1\" class=\"dataframe\">\n",
       "  <thead>\n",
       "    <tr style=\"text-align: right;\">\n",
       "      <th></th>\n",
       "      <th>duration</th>\n",
       "      <th>protocol_type</th>\n",
       "      <th>service</th>\n",
       "      <th>flag</th>\n",
       "      <th>src_bytes</th>\n",
       "      <th>dst_bytes</th>\n",
       "      <th>land</th>\n",
       "      <th>wrong_fragment</th>\n",
       "      <th>urgent</th>\n",
       "      <th>hot</th>\n",
       "      <th>...</th>\n",
       "      <th>dst_host_count</th>\n",
       "      <th>dst_host_srv_count</th>\n",
       "      <th>dst_host_same_srv_rate</th>\n",
       "      <th>dst_host_diff_srv_rate</th>\n",
       "      <th>dst_host_same_src_port_rate</th>\n",
       "      <th>dst_host_srv_diff_host_rate</th>\n",
       "      <th>dst_host_serror_rate</th>\n",
       "      <th>dst_host_srv_serror_rate</th>\n",
       "      <th>dst_host_rerror_rate</th>\n",
       "      <th>dst_host_srv_rerror_rate</th>\n",
       "    </tr>\n",
       "  </thead>\n",
       "  <tbody>\n",
       "    <tr>\n",
       "      <th>0</th>\n",
       "      <td>0.0</td>\n",
       "      <td>0</td>\n",
       "      <td>0</td>\n",
       "      <td>0.0</td>\n",
       "      <td>0.5454</td>\n",
       "      <td>0.08314</td>\n",
       "      <td>0</td>\n",
       "      <td>0</td>\n",
       "      <td>0</td>\n",
       "      <td>0.2</td>\n",
       "      <td>...</td>\n",
       "      <td>0.001</td>\n",
       "      <td>0.001</td>\n",
       "      <td>0.1</td>\n",
       "      <td>0</td>\n",
       "      <td>0.100</td>\n",
       "      <td>0</td>\n",
       "      <td>0.0</td>\n",
       "      <td>0.0</td>\n",
       "      <td>0.0</td>\n",
       "      <td>0.0</td>\n",
       "    </tr>\n",
       "    <tr>\n",
       "      <th>1</th>\n",
       "      <td>0.0</td>\n",
       "      <td>0</td>\n",
       "      <td>0</td>\n",
       "      <td>0.0</td>\n",
       "      <td>0.5454</td>\n",
       "      <td>0.08314</td>\n",
       "      <td>0</td>\n",
       "      <td>0</td>\n",
       "      <td>0</td>\n",
       "      <td>0.2</td>\n",
       "      <td>...</td>\n",
       "      <td>0.002</td>\n",
       "      <td>0.002</td>\n",
       "      <td>0.1</td>\n",
       "      <td>0</td>\n",
       "      <td>0.050</td>\n",
       "      <td>0</td>\n",
       "      <td>0.0</td>\n",
       "      <td>0.0</td>\n",
       "      <td>0.0</td>\n",
       "      <td>0.0</td>\n",
       "    </tr>\n",
       "    <tr>\n",
       "      <th>2</th>\n",
       "      <td>0.0</td>\n",
       "      <td>0</td>\n",
       "      <td>0</td>\n",
       "      <td>0.0</td>\n",
       "      <td>0.5454</td>\n",
       "      <td>0.08314</td>\n",
       "      <td>0</td>\n",
       "      <td>0</td>\n",
       "      <td>0</td>\n",
       "      <td>0.2</td>\n",
       "      <td>...</td>\n",
       "      <td>0.003</td>\n",
       "      <td>0.003</td>\n",
       "      <td>0.1</td>\n",
       "      <td>0</td>\n",
       "      <td>0.033</td>\n",
       "      <td>0</td>\n",
       "      <td>0.0</td>\n",
       "      <td>0.0</td>\n",
       "      <td>0.0</td>\n",
       "      <td>0.0</td>\n",
       "    </tr>\n",
       "  </tbody>\n",
       "</table>\n",
       "<p>3 rows × 41 columns</p>\n",
       "</div>"
      ],
      "text/plain": [
       "   duration   protocol_type   service   flag   src_bytes   dst_bytes   land  \\\n",
       "0       0.0               0         0    0.0      0.5454     0.08314      0   \n",
       "1       0.0               0         0    0.0      0.5454     0.08314      0   \n",
       "2       0.0               0         0    0.0      0.5454     0.08314      0   \n",
       "\n",
       "    wrong_fragment   urgent   hot  ...   dst_host_count   dst_host_srv_count  \\\n",
       "0                0        0   0.2  ...            0.001                0.001   \n",
       "1                0        0   0.2  ...            0.002                0.002   \n",
       "2                0        0   0.2  ...            0.003                0.003   \n",
       "\n",
       "    dst_host_same_srv_rate   dst_host_diff_srv_rate  \\\n",
       "0                      0.1                        0   \n",
       "1                      0.1                        0   \n",
       "2                      0.1                        0   \n",
       "\n",
       "    dst_host_same_src_port_rate   dst_host_srv_diff_host_rate  \\\n",
       "0                         0.100                             0   \n",
       "1                         0.050                             0   \n",
       "2                         0.033                             0   \n",
       "\n",
       "    dst_host_serror_rate   dst_host_srv_serror_rate   dst_host_rerror_rate  \\\n",
       "0                    0.0                        0.0                    0.0   \n",
       "1                    0.0                        0.0                    0.0   \n",
       "2                    0.0                        0.0                    0.0   \n",
       "\n",
       "    dst_host_srv_rerror_rate  \n",
       "0                        0.0  \n",
       "1                        0.0  \n",
       "2                        0.0  \n",
       "\n",
       "[3 rows x 41 columns]"
      ]
     },
     "execution_count": 2,
     "metadata": {},
     "output_type": "execute_result"
    }
   ],
   "source": [
    "back = pd.read_csv(\"Data_of_Attack_Back (1).csv\")\n",
    "back.head(3)"
   ]
  },
  {
   "cell_type": "code",
   "execution_count": 3,
   "id": "0b6acff5-f397-437c-aab2-62dfc9fd4928",
   "metadata": {
    "tags": []
   },
   "outputs": [
    {
     "data": {
      "text/html": [
       "<div>\n",
       "<style scoped>\n",
       "    .dataframe tbody tr th:only-of-type {\n",
       "        vertical-align: middle;\n",
       "    }\n",
       "\n",
       "    .dataframe tbody tr th {\n",
       "        vertical-align: top;\n",
       "    }\n",
       "\n",
       "    .dataframe thead th {\n",
       "        text-align: right;\n",
       "    }\n",
       "</style>\n",
       "<table border=\"1\" class=\"dataframe\">\n",
       "  <thead>\n",
       "    <tr style=\"text-align: right;\">\n",
       "      <th></th>\n",
       "      <th>duration</th>\n",
       "      <th>protocol_type</th>\n",
       "      <th>service</th>\n",
       "      <th>flag</th>\n",
       "      <th>src_bytes</th>\n",
       "      <th>dst_bytes</th>\n",
       "      <th>land</th>\n",
       "      <th>wrong_fragment</th>\n",
       "      <th>urgent</th>\n",
       "      <th>hot</th>\n",
       "      <th>...</th>\n",
       "      <th>dst_host_count</th>\n",
       "      <th>dst_host_srv_count</th>\n",
       "      <th>dst_host_same_srv_rate</th>\n",
       "      <th>dst_host_diff_srv_rate</th>\n",
       "      <th>dst_host_same_src_port_rate</th>\n",
       "      <th>dst_host_srv_diff_host_rate</th>\n",
       "      <th>dst_host_serror_rate</th>\n",
       "      <th>dst_host_srv_serror_rate</th>\n",
       "      <th>dst_host_rerror_rate</th>\n",
       "      <th>dst_host_srv_rerror_rate</th>\n",
       "    </tr>\n",
       "  </thead>\n",
       "  <tbody>\n",
       "    <tr>\n",
       "      <th>0</th>\n",
       "      <td>0.0184</td>\n",
       "      <td>0</td>\n",
       "      <td>0.05</td>\n",
       "      <td>0.0</td>\n",
       "      <td>0.01511</td>\n",
       "      <td>0.02957</td>\n",
       "      <td>0</td>\n",
       "      <td>0</td>\n",
       "      <td>0</td>\n",
       "      <td>0.3</td>\n",
       "      <td>...</td>\n",
       "      <td>0.001</td>\n",
       "      <td>0.003</td>\n",
       "      <td>0.1</td>\n",
       "      <td>0</td>\n",
       "      <td>0.10</td>\n",
       "      <td>0.067</td>\n",
       "      <td>0</td>\n",
       "      <td>0</td>\n",
       "      <td>0.0</td>\n",
       "      <td>0.0</td>\n",
       "    </tr>\n",
       "    <tr>\n",
       "      <th>1</th>\n",
       "      <td>0.0305</td>\n",
       "      <td>0</td>\n",
       "      <td>0.05</td>\n",
       "      <td>0.0</td>\n",
       "      <td>0.01735</td>\n",
       "      <td>0.02766</td>\n",
       "      <td>0</td>\n",
       "      <td>0</td>\n",
       "      <td>0</td>\n",
       "      <td>0.3</td>\n",
       "      <td>...</td>\n",
       "      <td>0.002</td>\n",
       "      <td>0.004</td>\n",
       "      <td>0.1</td>\n",
       "      <td>0</td>\n",
       "      <td>0.05</td>\n",
       "      <td>0.050</td>\n",
       "      <td>0</td>\n",
       "      <td>0</td>\n",
       "      <td>0.0</td>\n",
       "      <td>0.0</td>\n",
       "    </tr>\n",
       "    <tr>\n",
       "      <th>2</th>\n",
       "      <td>0.0150</td>\n",
       "      <td>0</td>\n",
       "      <td>0.05</td>\n",
       "      <td>0.0</td>\n",
       "      <td>0.01587</td>\n",
       "      <td>0.06707</td>\n",
       "      <td>0</td>\n",
       "      <td>0</td>\n",
       "      <td>0</td>\n",
       "      <td>0.1</td>\n",
       "      <td>...</td>\n",
       "      <td>0.001</td>\n",
       "      <td>0.001</td>\n",
       "      <td>0.1</td>\n",
       "      <td>0</td>\n",
       "      <td>0.10</td>\n",
       "      <td>0.000</td>\n",
       "      <td>0</td>\n",
       "      <td>0</td>\n",
       "      <td>0.0</td>\n",
       "      <td>0.0</td>\n",
       "    </tr>\n",
       "  </tbody>\n",
       "</table>\n",
       "<p>3 rows × 41 columns</p>\n",
       "</div>"
      ],
      "text/plain": [
       "   duration   protocol_type   service   flag   src_bytes   dst_bytes   land  \\\n",
       "0    0.0184               0      0.05    0.0     0.01511     0.02957      0   \n",
       "1    0.0305               0      0.05    0.0     0.01735     0.02766      0   \n",
       "2    0.0150               0      0.05    0.0     0.01587     0.06707      0   \n",
       "\n",
       "    wrong_fragment   urgent   hot  ...   dst_host_count   dst_host_srv_count  \\\n",
       "0                0        0   0.3  ...            0.001                0.003   \n",
       "1                0        0   0.3  ...            0.002                0.004   \n",
       "2                0        0   0.1  ...            0.001                0.001   \n",
       "\n",
       "    dst_host_same_srv_rate   dst_host_diff_srv_rate  \\\n",
       "0                      0.1                        0   \n",
       "1                      0.1                        0   \n",
       "2                      0.1                        0   \n",
       "\n",
       "    dst_host_same_src_port_rate   dst_host_srv_diff_host_rate  \\\n",
       "0                          0.10                         0.067   \n",
       "1                          0.05                         0.050   \n",
       "2                          0.10                         0.000   \n",
       "\n",
       "    dst_host_serror_rate   dst_host_srv_serror_rate   dst_host_rerror_rate  \\\n",
       "0                      0                          0                    0.0   \n",
       "1                      0                          0                    0.0   \n",
       "2                      0                          0                    0.0   \n",
       "\n",
       "    dst_host_srv_rerror_rate  \n",
       "0                        0.0  \n",
       "1                        0.0  \n",
       "2                        0.0  \n",
       "\n",
       "[3 rows x 41 columns]"
      ]
     },
     "execution_count": 3,
     "metadata": {},
     "output_type": "execute_result"
    }
   ],
   "source": [
    "bufferoverflow = pd.read_csv(\"Data_of_Attack_Back_BufferOverflow (1).csv\")\n",
    "bufferoverflow.head(3)"
   ]
  },
  {
   "cell_type": "code",
   "execution_count": 4,
   "id": "77362790-2edb-4281-b80c-b06263e83cf9",
   "metadata": {
    "tags": []
   },
   "outputs": [
    {
     "data": {
      "text/html": [
       "<div>\n",
       "<style scoped>\n",
       "    .dataframe tbody tr th:only-of-type {\n",
       "        vertical-align: middle;\n",
       "    }\n",
       "\n",
       "    .dataframe tbody tr th {\n",
       "        vertical-align: top;\n",
       "    }\n",
       "\n",
       "    .dataframe thead th {\n",
       "        text-align: right;\n",
       "    }\n",
       "</style>\n",
       "<table border=\"1\" class=\"dataframe\">\n",
       "  <thead>\n",
       "    <tr style=\"text-align: right;\">\n",
       "      <th></th>\n",
       "      <th>0.0026</th>\n",
       "      <th>0</th>\n",
       "      <th>0.07</th>\n",
       "      <th>0.3</th>\n",
       "      <th>0.00116</th>\n",
       "      <th>0.00451</th>\n",
       "      <th>0.4</th>\n",
       "      <th>0.5</th>\n",
       "      <th>0.6</th>\n",
       "      <th>0.2</th>\n",
       "      <th>...</th>\n",
       "      <th>0.001.2</th>\n",
       "      <th>0.001.3</th>\n",
       "      <th>0.1.5</th>\n",
       "      <th>0.21</th>\n",
       "      <th>0.1.6</th>\n",
       "      <th>0.22</th>\n",
       "      <th>0.23</th>\n",
       "      <th>0.24</th>\n",
       "      <th>0.25</th>\n",
       "      <th>0.26</th>\n",
       "    </tr>\n",
       "  </thead>\n",
       "  <tbody>\n",
       "    <tr>\n",
       "      <th>0</th>\n",
       "      <td>0.0134</td>\n",
       "      <td>0</td>\n",
       "      <td>0.34</td>\n",
       "      <td>0</td>\n",
       "      <td>0.00100</td>\n",
       "      <td>0.39445</td>\n",
       "      <td>0</td>\n",
       "      <td>0</td>\n",
       "      <td>0.2</td>\n",
       "      <td>0.0</td>\n",
       "      <td>...</td>\n",
       "      <td>0.002</td>\n",
       "      <td>0.001</td>\n",
       "      <td>0.05</td>\n",
       "      <td>0.1</td>\n",
       "      <td>0.05</td>\n",
       "      <td>0.000</td>\n",
       "      <td>0</td>\n",
       "      <td>0</td>\n",
       "      <td>0</td>\n",
       "      <td>0</td>\n",
       "    </tr>\n",
       "    <tr>\n",
       "      <th>1</th>\n",
       "      <td>0.0000</td>\n",
       "      <td>0</td>\n",
       "      <td>0.14</td>\n",
       "      <td>0</td>\n",
       "      <td>0.00613</td>\n",
       "      <td>0.00000</td>\n",
       "      <td>0</td>\n",
       "      <td>0</td>\n",
       "      <td>0.0</td>\n",
       "      <td>0.0</td>\n",
       "      <td>...</td>\n",
       "      <td>0.001</td>\n",
       "      <td>0.084</td>\n",
       "      <td>0.10</td>\n",
       "      <td>0.0</td>\n",
       "      <td>0.10</td>\n",
       "      <td>0.002</td>\n",
       "      <td>0</td>\n",
       "      <td>0</td>\n",
       "      <td>0</td>\n",
       "      <td>0</td>\n",
       "    </tr>\n",
       "    <tr>\n",
       "      <th>2</th>\n",
       "      <td>0.0000</td>\n",
       "      <td>0</td>\n",
       "      <td>0.14</td>\n",
       "      <td>0</td>\n",
       "      <td>0.00000</td>\n",
       "      <td>0.00005</td>\n",
       "      <td>0</td>\n",
       "      <td>0</td>\n",
       "      <td>0.0</td>\n",
       "      <td>0.0</td>\n",
       "      <td>...</td>\n",
       "      <td>0.002</td>\n",
       "      <td>0.085</td>\n",
       "      <td>0.10</td>\n",
       "      <td>0.0</td>\n",
       "      <td>0.10</td>\n",
       "      <td>0.002</td>\n",
       "      <td>0</td>\n",
       "      <td>0</td>\n",
       "      <td>0</td>\n",
       "      <td>0</td>\n",
       "    </tr>\n",
       "  </tbody>\n",
       "</table>\n",
       "<p>3 rows × 41 columns</p>\n",
       "</div>"
      ],
      "text/plain": [
       "   0.0026   0   0.07   0.3   0.00116   0.00451   0.4   0.5   0.6   0.2  ...  \\\n",
       "0  0.0134   0   0.34     0   0.00100   0.39445     0     0   0.2   0.0  ...   \n",
       "1  0.0000   0   0.14     0   0.00613   0.00000     0     0   0.0   0.0  ...   \n",
       "2  0.0000   0   0.14     0   0.00000   0.00005     0     0   0.0   0.0  ...   \n",
       "\n",
       "    0.001.2   0.001.3   0.1.5   0.21   0.1.6   0.22   0.23   0.24   0.25  \\\n",
       "0     0.002     0.001    0.05    0.1    0.05  0.000      0      0      0   \n",
       "1     0.001     0.084    0.10    0.0    0.10  0.002      0      0      0   \n",
       "2     0.002     0.085    0.10    0.0    0.10  0.002      0      0      0   \n",
       "\n",
       "    0.26  \n",
       "0      0  \n",
       "1      0  \n",
       "2      0  \n",
       "\n",
       "[3 rows x 41 columns]"
      ]
     },
     "execution_count": 4,
     "metadata": {},
     "output_type": "execute_result"
    }
   ],
   "source": [
    "ftpwriteup = pd.read_csv(\"Data_of_Attack_Back_FTPWrite (1).csv\")\n",
    "ftpwriteup.head(3)"
   ]
  },
  {
   "cell_type": "code",
   "execution_count": 5,
   "id": "bc60e396-ad9d-4ca2-9442-898a7b915208",
   "metadata": {
    "tags": []
   },
   "outputs": [],
   "source": [
    "#Re-naming the Columns \n",
    "ftpwriteup.rename = pd.DataFrame(ftpwriteup)"
   ]
  },
  {
   "cell_type": "code",
   "execution_count": 6,
   "id": "7e71f473-4477-48f5-8aa4-1d293f50b713",
   "metadata": {
    "tags": []
   },
   "outputs": [],
   "source": [
    "ftpwriteup.columns = ['duration', ' protocol_type', ' service', ' flag', ' src_bytes',\n",
    "       ' dst_bytes', ' land', ' wrong_fragment', ' urgent', ' hot',\n",
    "       ' num_failed_logins', ' logged_in', ' num_compromised', ' root_shell',\n",
    "       ' su_attempted', ' num_root', ' num_file_creations', ' num_shells',\n",
    "       ' num_access_files', ' num_outbound_cmds', ' is_host_login',\n",
    "       ' is_guest_login', ' count', ' srv_count', ' serror_rate',\n",
    "       ' srv_error_rate', ' rerror_rate', ' srv_rerror_rate', ' same_srv_rate',\n",
    "       ' diff_srv_rate', ' srv_diff_host_rate', ' dst_host_count',\n",
    "       ' dst_host_srv_count', ' dst_host_same_srv_rate',\n",
    "       ' dst_host_diff_srv_rate', ' dst_host_same_src_port_rate',\n",
    "       ' dst_host_srv_diff_host_rate', ' dst_host_serror_rate',\n",
    "       ' dst_host_srv_serror_rate', ' dst_host_rerror_rate',\n",
    "       ' dst_host_srv_rerror_rate']"
   ]
  },
  {
   "cell_type": "code",
   "execution_count": 7,
   "id": "689c4caa-95a4-48c0-aac0-6e4ab5085913",
   "metadata": {
    "tags": []
   },
   "outputs": [
    {
     "data": {
      "text/html": [
       "<div>\n",
       "<style scoped>\n",
       "    .dataframe tbody tr th:only-of-type {\n",
       "        vertical-align: middle;\n",
       "    }\n",
       "\n",
       "    .dataframe tbody tr th {\n",
       "        vertical-align: top;\n",
       "    }\n",
       "\n",
       "    .dataframe thead th {\n",
       "        text-align: right;\n",
       "    }\n",
       "</style>\n",
       "<table border=\"1\" class=\"dataframe\">\n",
       "  <thead>\n",
       "    <tr style=\"text-align: right;\">\n",
       "      <th></th>\n",
       "      <th>duration</th>\n",
       "      <th>protocol_type</th>\n",
       "      <th>service</th>\n",
       "      <th>flag</th>\n",
       "      <th>src_bytes</th>\n",
       "      <th>dst_bytes</th>\n",
       "      <th>land</th>\n",
       "      <th>wrong_fragment</th>\n",
       "      <th>urgent</th>\n",
       "      <th>hot</th>\n",
       "      <th>...</th>\n",
       "      <th>dst_host_count</th>\n",
       "      <th>dst_host_srv_count</th>\n",
       "      <th>dst_host_same_srv_rate</th>\n",
       "      <th>dst_host_diff_srv_rate</th>\n",
       "      <th>dst_host_same_src_port_rate</th>\n",
       "      <th>dst_host_srv_diff_host_rate</th>\n",
       "      <th>dst_host_serror_rate</th>\n",
       "      <th>dst_host_srv_serror_rate</th>\n",
       "      <th>dst_host_rerror_rate</th>\n",
       "      <th>dst_host_srv_rerror_rate</th>\n",
       "    </tr>\n",
       "  </thead>\n",
       "  <tbody>\n",
       "    <tr>\n",
       "      <th>0</th>\n",
       "      <td>0.0134</td>\n",
       "      <td>0</td>\n",
       "      <td>0.34</td>\n",
       "      <td>0</td>\n",
       "      <td>0.00100</td>\n",
       "      <td>0.39445</td>\n",
       "      <td>0</td>\n",
       "      <td>0</td>\n",
       "      <td>0.2</td>\n",
       "      <td>0.0</td>\n",
       "      <td>...</td>\n",
       "      <td>0.002</td>\n",
       "      <td>0.001</td>\n",
       "      <td>0.05</td>\n",
       "      <td>0.1</td>\n",
       "      <td>0.05</td>\n",
       "      <td>0.000</td>\n",
       "      <td>0</td>\n",
       "      <td>0</td>\n",
       "      <td>0</td>\n",
       "      <td>0</td>\n",
       "    </tr>\n",
       "    <tr>\n",
       "      <th>1</th>\n",
       "      <td>0.0000</td>\n",
       "      <td>0</td>\n",
       "      <td>0.14</td>\n",
       "      <td>0</td>\n",
       "      <td>0.00613</td>\n",
       "      <td>0.00000</td>\n",
       "      <td>0</td>\n",
       "      <td>0</td>\n",
       "      <td>0.0</td>\n",
       "      <td>0.0</td>\n",
       "      <td>...</td>\n",
       "      <td>0.001</td>\n",
       "      <td>0.084</td>\n",
       "      <td>0.10</td>\n",
       "      <td>0.0</td>\n",
       "      <td>0.10</td>\n",
       "      <td>0.002</td>\n",
       "      <td>0</td>\n",
       "      <td>0</td>\n",
       "      <td>0</td>\n",
       "      <td>0</td>\n",
       "    </tr>\n",
       "    <tr>\n",
       "      <th>2</th>\n",
       "      <td>0.0000</td>\n",
       "      <td>0</td>\n",
       "      <td>0.14</td>\n",
       "      <td>0</td>\n",
       "      <td>0.00000</td>\n",
       "      <td>0.00005</td>\n",
       "      <td>0</td>\n",
       "      <td>0</td>\n",
       "      <td>0.0</td>\n",
       "      <td>0.0</td>\n",
       "      <td>...</td>\n",
       "      <td>0.002</td>\n",
       "      <td>0.085</td>\n",
       "      <td>0.10</td>\n",
       "      <td>0.0</td>\n",
       "      <td>0.10</td>\n",
       "      <td>0.002</td>\n",
       "      <td>0</td>\n",
       "      <td>0</td>\n",
       "      <td>0</td>\n",
       "      <td>0</td>\n",
       "    </tr>\n",
       "    <tr>\n",
       "      <th>3</th>\n",
       "      <td>0.0032</td>\n",
       "      <td>0</td>\n",
       "      <td>0.07</td>\n",
       "      <td>0</td>\n",
       "      <td>0.00104</td>\n",
       "      <td>0.00449</td>\n",
       "      <td>0</td>\n",
       "      <td>0</td>\n",
       "      <td>0.0</td>\n",
       "      <td>0.2</td>\n",
       "      <td>...</td>\n",
       "      <td>0.001</td>\n",
       "      <td>0.001</td>\n",
       "      <td>0.10</td>\n",
       "      <td>0.0</td>\n",
       "      <td>0.10</td>\n",
       "      <td>0.000</td>\n",
       "      <td>0</td>\n",
       "      <td>0</td>\n",
       "      <td>0</td>\n",
       "      <td>0</td>\n",
       "    </tr>\n",
       "    <tr>\n",
       "      <th>4</th>\n",
       "      <td>0.0067</td>\n",
       "      <td>0</td>\n",
       "      <td>0.34</td>\n",
       "      <td>0</td>\n",
       "      <td>0.00157</td>\n",
       "      <td>0.02703</td>\n",
       "      <td>0</td>\n",
       "      <td>0</td>\n",
       "      <td>0.1</td>\n",
       "      <td>0.0</td>\n",
       "      <td>...</td>\n",
       "      <td>0.002</td>\n",
       "      <td>0.001</td>\n",
       "      <td>0.05</td>\n",
       "      <td>0.1</td>\n",
       "      <td>0.05</td>\n",
       "      <td>0.000</td>\n",
       "      <td>0</td>\n",
       "      <td>0</td>\n",
       "      <td>0</td>\n",
       "      <td>0</td>\n",
       "    </tr>\n",
       "  </tbody>\n",
       "</table>\n",
       "<p>5 rows × 41 columns</p>\n",
       "</div>"
      ],
      "text/plain": [
       "   duration   protocol_type   service   flag   src_bytes   dst_bytes   land  \\\n",
       "0    0.0134               0      0.34      0     0.00100     0.39445      0   \n",
       "1    0.0000               0      0.14      0     0.00613     0.00000      0   \n",
       "2    0.0000               0      0.14      0     0.00000     0.00005      0   \n",
       "3    0.0032               0      0.07      0     0.00104     0.00449      0   \n",
       "4    0.0067               0      0.34      0     0.00157     0.02703      0   \n",
       "\n",
       "    wrong_fragment   urgent   hot  ...   dst_host_count   dst_host_srv_count  \\\n",
       "0                0      0.2   0.0  ...            0.002                0.001   \n",
       "1                0      0.0   0.0  ...            0.001                0.084   \n",
       "2                0      0.0   0.0  ...            0.002                0.085   \n",
       "3                0      0.0   0.2  ...            0.001                0.001   \n",
       "4                0      0.1   0.0  ...            0.002                0.001   \n",
       "\n",
       "    dst_host_same_srv_rate   dst_host_diff_srv_rate  \\\n",
       "0                     0.05                      0.1   \n",
       "1                     0.10                      0.0   \n",
       "2                     0.10                      0.0   \n",
       "3                     0.10                      0.0   \n",
       "4                     0.05                      0.1   \n",
       "\n",
       "    dst_host_same_src_port_rate   dst_host_srv_diff_host_rate  \\\n",
       "0                          0.05                         0.000   \n",
       "1                          0.10                         0.002   \n",
       "2                          0.10                         0.002   \n",
       "3                          0.10                         0.000   \n",
       "4                          0.05                         0.000   \n",
       "\n",
       "    dst_host_serror_rate   dst_host_srv_serror_rate   dst_host_rerror_rate  \\\n",
       "0                      0                          0                      0   \n",
       "1                      0                          0                      0   \n",
       "2                      0                          0                      0   \n",
       "3                      0                          0                      0   \n",
       "4                      0                          0                      0   \n",
       "\n",
       "    dst_host_srv_rerror_rate  \n",
       "0                          0  \n",
       "1                          0  \n",
       "2                          0  \n",
       "3                          0  \n",
       "4                          0  \n",
       "\n",
       "[5 rows x 41 columns]"
      ]
     },
     "execution_count": 7,
     "metadata": {},
     "output_type": "execute_result"
    }
   ],
   "source": [
    "ftpwriteup.head()"
   ]
  },
  {
   "cell_type": "code",
   "execution_count": 8,
   "id": "3a1fc371-9f85-4d9a-af91-935d872b1762",
   "metadata": {
    "tags": []
   },
   "outputs": [
    {
     "data": {
      "text/html": [
       "<div>\n",
       "<style scoped>\n",
       "    .dataframe tbody tr th:only-of-type {\n",
       "        vertical-align: middle;\n",
       "    }\n",
       "\n",
       "    .dataframe tbody tr th {\n",
       "        vertical-align: top;\n",
       "    }\n",
       "\n",
       "    .dataframe thead th {\n",
       "        text-align: right;\n",
       "    }\n",
       "</style>\n",
       "<table border=\"1\" class=\"dataframe\">\n",
       "  <thead>\n",
       "    <tr style=\"text-align: right;\">\n",
       "      <th></th>\n",
       "      <th>duration</th>\n",
       "      <th>protocol_type</th>\n",
       "      <th>service</th>\n",
       "      <th>flag</th>\n",
       "      <th>src_bytes</th>\n",
       "      <th>dst_bytes</th>\n",
       "      <th>land</th>\n",
       "      <th>wrong_fragment</th>\n",
       "      <th>urgent</th>\n",
       "      <th>hot</th>\n",
       "      <th>...</th>\n",
       "      <th>dst_host_count</th>\n",
       "      <th>dst_host_srv_count</th>\n",
       "      <th>dst_host_same_srv_rate</th>\n",
       "      <th>dst_host_diff_srv_rate</th>\n",
       "      <th>dst_host_same_src_port_rate</th>\n",
       "      <th>dst_host_srv_diff_host_rate</th>\n",
       "      <th>dst_host_serror_rate</th>\n",
       "      <th>dst_host_srv_serror_rate</th>\n",
       "      <th>dst_host_rerror_rate</th>\n",
       "      <th>dst_host_srv_rerror_rate</th>\n",
       "    </tr>\n",
       "  </thead>\n",
       "  <tbody>\n",
       "    <tr>\n",
       "      <th>0</th>\n",
       "      <td>0.0023</td>\n",
       "      <td>0</td>\n",
       "      <td>0.05</td>\n",
       "      <td>0.00</td>\n",
       "      <td>0.00104</td>\n",
       "      <td>0.00276</td>\n",
       "      <td>0</td>\n",
       "      <td>0</td>\n",
       "      <td>0</td>\n",
       "      <td>0.0</td>\n",
       "      <td>...</td>\n",
       "      <td>0.001</td>\n",
       "      <td>0.002</td>\n",
       "      <td>0.1</td>\n",
       "      <td>0</td>\n",
       "      <td>0.10</td>\n",
       "      <td>0.1</td>\n",
       "      <td>0.00</td>\n",
       "      <td>0.00</td>\n",
       "      <td>0.00</td>\n",
       "      <td>0.00</td>\n",
       "    </tr>\n",
       "    <tr>\n",
       "      <th>1</th>\n",
       "      <td>0.0060</td>\n",
       "      <td>0</td>\n",
       "      <td>0.05</td>\n",
       "      <td>0.03</td>\n",
       "      <td>0.00125</td>\n",
       "      <td>0.00179</td>\n",
       "      <td>0</td>\n",
       "      <td>0</td>\n",
       "      <td>0</td>\n",
       "      <td>0.1</td>\n",
       "      <td>...</td>\n",
       "      <td>0.001</td>\n",
       "      <td>0.001</td>\n",
       "      <td>0.1</td>\n",
       "      <td>0</td>\n",
       "      <td>0.10</td>\n",
       "      <td>0.0</td>\n",
       "      <td>0.10</td>\n",
       "      <td>0.10</td>\n",
       "      <td>0.00</td>\n",
       "      <td>0.00</td>\n",
       "    </tr>\n",
       "    <tr>\n",
       "      <th>2</th>\n",
       "      <td>0.0000</td>\n",
       "      <td>0</td>\n",
       "      <td>0.05</td>\n",
       "      <td>0.06</td>\n",
       "      <td>0.00125</td>\n",
       "      <td>0.00179</td>\n",
       "      <td>0</td>\n",
       "      <td>0</td>\n",
       "      <td>0</td>\n",
       "      <td>0.1</td>\n",
       "      <td>...</td>\n",
       "      <td>0.002</td>\n",
       "      <td>0.002</td>\n",
       "      <td>0.1</td>\n",
       "      <td>0</td>\n",
       "      <td>0.05</td>\n",
       "      <td>0.0</td>\n",
       "      <td>0.05</td>\n",
       "      <td>0.05</td>\n",
       "      <td>0.05</td>\n",
       "      <td>0.05</td>\n",
       "    </tr>\n",
       "  </tbody>\n",
       "</table>\n",
       "<p>3 rows × 41 columns</p>\n",
       "</div>"
      ],
      "text/plain": [
       "   duration   protocol_type   service   flag   src_bytes   dst_bytes   land  \\\n",
       "0    0.0023               0      0.05   0.00     0.00104     0.00276      0   \n",
       "1    0.0060               0      0.05   0.03     0.00125     0.00179      0   \n",
       "2    0.0000               0      0.05   0.06     0.00125     0.00179      0   \n",
       "\n",
       "    wrong_fragment   urgent   hot  ...   dst_host_count   dst_host_srv_count  \\\n",
       "0                0        0   0.0  ...            0.001                0.002   \n",
       "1                0        0   0.1  ...            0.001                0.001   \n",
       "2                0        0   0.1  ...            0.002                0.002   \n",
       "\n",
       "    dst_host_same_srv_rate   dst_host_diff_srv_rate  \\\n",
       "0                      0.1                        0   \n",
       "1                      0.1                        0   \n",
       "2                      0.1                        0   \n",
       "\n",
       "    dst_host_same_src_port_rate   dst_host_srv_diff_host_rate  \\\n",
       "0                          0.10                           0.1   \n",
       "1                          0.10                           0.0   \n",
       "2                          0.05                           0.0   \n",
       "\n",
       "    dst_host_serror_rate   dst_host_srv_serror_rate   dst_host_rerror_rate  \\\n",
       "0                   0.00                       0.00                   0.00   \n",
       "1                   0.10                       0.10                   0.00   \n",
       "2                   0.05                       0.05                   0.05   \n",
       "\n",
       "    dst_host_srv_rerror_rate  \n",
       "0                       0.00  \n",
       "1                       0.00  \n",
       "2                       0.05  \n",
       "\n",
       "[3 rows x 41 columns]"
      ]
     },
     "execution_count": 8,
     "metadata": {},
     "output_type": "execute_result"
    }
   ],
   "source": [
    "guesspassword = pd.read_csv(\"Data_of_Attack_Back_GuessPassword (1).csv\")\n",
    "guesspassword.head(3)"
   ]
  },
  {
   "cell_type": "code",
   "execution_count": 9,
   "id": "6bcb7631-d037-4d00-a2c0-d36091d67285",
   "metadata": {
    "tags": []
   },
   "outputs": [
    {
     "data": {
      "text/html": [
       "<div>\n",
       "<style scoped>\n",
       "    .dataframe tbody tr th:only-of-type {\n",
       "        vertical-align: middle;\n",
       "    }\n",
       "\n",
       "    .dataframe tbody tr th {\n",
       "        vertical-align: top;\n",
       "    }\n",
       "\n",
       "    .dataframe thead th {\n",
       "        text-align: right;\n",
       "    }\n",
       "</style>\n",
       "<table border=\"1\" class=\"dataframe\">\n",
       "  <thead>\n",
       "    <tr style=\"text-align: right;\">\n",
       "      <th></th>\n",
       "      <th>duration</th>\n",
       "      <th>protocol_type</th>\n",
       "      <th>service</th>\n",
       "      <th>flag</th>\n",
       "      <th>src_bytes</th>\n",
       "      <th>dst_bytes</th>\n",
       "      <th>land</th>\n",
       "      <th>wrong_fragment</th>\n",
       "      <th>urgent</th>\n",
       "      <th>hot</th>\n",
       "      <th>...</th>\n",
       "      <th>dst_host_count</th>\n",
       "      <th>dst_host_srv_count</th>\n",
       "      <th>dst_host_same_srv_rate</th>\n",
       "      <th>dst_host_diff_srv_rate</th>\n",
       "      <th>dst_host_same_src_port_rate</th>\n",
       "      <th>dst_host_srv_diff_host_rate</th>\n",
       "      <th>dst_host_serror_rate</th>\n",
       "      <th>dst_host_srv_serror_rate</th>\n",
       "      <th>dst_host_rerror_rate</th>\n",
       "      <th>dst_host_srv_rerror_rate</th>\n",
       "    </tr>\n",
       "  </thead>\n",
       "  <tbody>\n",
       "    <tr>\n",
       "      <th>0</th>\n",
       "      <td>0.0</td>\n",
       "      <td>0</td>\n",
       "      <td>0.05</td>\n",
       "      <td>0.07</td>\n",
       "      <td>0.0</td>\n",
       "      <td>0.0</td>\n",
       "      <td>0</td>\n",
       "      <td>0</td>\n",
       "      <td>0</td>\n",
       "      <td>0</td>\n",
       "      <td>...</td>\n",
       "      <td>0.001</td>\n",
       "      <td>0.002</td>\n",
       "      <td>0.1</td>\n",
       "      <td>0.0</td>\n",
       "      <td>0.100</td>\n",
       "      <td>0.100</td>\n",
       "      <td>0.1</td>\n",
       "      <td>0.050</td>\n",
       "      <td>0.0</td>\n",
       "      <td>0.0</td>\n",
       "    </tr>\n",
       "    <tr>\n",
       "      <th>1</th>\n",
       "      <td>0.0</td>\n",
       "      <td>0</td>\n",
       "      <td>0.05</td>\n",
       "      <td>0.07</td>\n",
       "      <td>0.0</td>\n",
       "      <td>0.0</td>\n",
       "      <td>0</td>\n",
       "      <td>0</td>\n",
       "      <td>0</td>\n",
       "      <td>0</td>\n",
       "      <td>...</td>\n",
       "      <td>0.002</td>\n",
       "      <td>0.003</td>\n",
       "      <td>0.1</td>\n",
       "      <td>0.0</td>\n",
       "      <td>0.050</td>\n",
       "      <td>0.067</td>\n",
       "      <td>0.1</td>\n",
       "      <td>0.067</td>\n",
       "      <td>0.0</td>\n",
       "      <td>0.0</td>\n",
       "    </tr>\n",
       "    <tr>\n",
       "      <th>2</th>\n",
       "      <td>0.0</td>\n",
       "      <td>0</td>\n",
       "      <td>0.05</td>\n",
       "      <td>0.07</td>\n",
       "      <td>0.0</td>\n",
       "      <td>0.0</td>\n",
       "      <td>0</td>\n",
       "      <td>0</td>\n",
       "      <td>0</td>\n",
       "      <td>0</td>\n",
       "      <td>...</td>\n",
       "      <td>0.003</td>\n",
       "      <td>0.004</td>\n",
       "      <td>0.1</td>\n",
       "      <td>0.0</td>\n",
       "      <td>0.033</td>\n",
       "      <td>0.050</td>\n",
       "      <td>0.1</td>\n",
       "      <td>0.075</td>\n",
       "      <td>0.0</td>\n",
       "      <td>0.0</td>\n",
       "    </tr>\n",
       "  </tbody>\n",
       "</table>\n",
       "<p>3 rows × 41 columns</p>\n",
       "</div>"
      ],
      "text/plain": [
       "   duration   protocol_type   service   flag   src_bytes   dst_bytes   land  \\\n",
       "0       0.0               0      0.05   0.07         0.0         0.0      0   \n",
       "1       0.0               0      0.05   0.07         0.0         0.0      0   \n",
       "2       0.0               0      0.05   0.07         0.0         0.0      0   \n",
       "\n",
       "    wrong_fragment   urgent   hot  ...   dst_host_count   dst_host_srv_count  \\\n",
       "0                0        0     0  ...            0.001                0.002   \n",
       "1                0        0     0  ...            0.002                0.003   \n",
       "2                0        0     0  ...            0.003                0.004   \n",
       "\n",
       "    dst_host_same_srv_rate   dst_host_diff_srv_rate  \\\n",
       "0                      0.1                      0.0   \n",
       "1                      0.1                      0.0   \n",
       "2                      0.1                      0.0   \n",
       "\n",
       "    dst_host_same_src_port_rate   dst_host_srv_diff_host_rate  \\\n",
       "0                         0.100                         0.100   \n",
       "1                         0.050                         0.067   \n",
       "2                         0.033                         0.050   \n",
       "\n",
       "    dst_host_serror_rate   dst_host_srv_serror_rate   dst_host_rerror_rate  \\\n",
       "0                    0.1                      0.050                    0.0   \n",
       "1                    0.1                      0.067                    0.0   \n",
       "2                    0.1                      0.075                    0.0   \n",
       "\n",
       "    dst_host_srv_rerror_rate  \n",
       "0                        0.0  \n",
       "1                        0.0  \n",
       "2                        0.0  \n",
       "\n",
       "[3 rows x 41 columns]"
      ]
     },
     "execution_count": 9,
     "metadata": {},
     "output_type": "execute_result"
    }
   ],
   "source": [
    "neptune = pd.read_csv(\"Data_of_Attack_Back_Neptune (1).csv\")\n",
    "neptune.head(3)"
   ]
  },
  {
   "cell_type": "code",
   "execution_count": 10,
   "id": "df72986d-4dda-42cd-8d47-073f09674b15",
   "metadata": {
    "tags": []
   },
   "outputs": [
    {
     "data": {
      "text/html": [
       "<div>\n",
       "<style scoped>\n",
       "    .dataframe tbody tr th:only-of-type {\n",
       "        vertical-align: middle;\n",
       "    }\n",
       "\n",
       "    .dataframe tbody tr th {\n",
       "        vertical-align: top;\n",
       "    }\n",
       "\n",
       "    .dataframe thead th {\n",
       "        text-align: right;\n",
       "    }\n",
       "</style>\n",
       "<table border=\"1\" class=\"dataframe\">\n",
       "  <thead>\n",
       "    <tr style=\"text-align: right;\">\n",
       "      <th></th>\n",
       "      <th>duration</th>\n",
       "      <th>protocol_type</th>\n",
       "      <th>service</th>\n",
       "      <th>flag</th>\n",
       "      <th>src_bytes</th>\n",
       "      <th>dst_bytes</th>\n",
       "      <th>land</th>\n",
       "      <th>wrong_fragment</th>\n",
       "      <th>urgent</th>\n",
       "      <th>hot</th>\n",
       "      <th>...</th>\n",
       "      <th>dst_host_count</th>\n",
       "      <th>dst_host_srv_count</th>\n",
       "      <th>dst_host_same_srv_rate</th>\n",
       "      <th>dst_host_diff_srv_rate</th>\n",
       "      <th>dst_host_same_src_port_rate</th>\n",
       "      <th>dst_host_srv_diff_host_rate</th>\n",
       "      <th>dst_host_serror_rate</th>\n",
       "      <th>dst_host_srv_serror_rate</th>\n",
       "      <th>dst_host_rerror_rate</th>\n",
       "      <th>dst_host_srv_rerror_rate</th>\n",
       "    </tr>\n",
       "  </thead>\n",
       "  <tbody>\n",
       "    <tr>\n",
       "      <th>0</th>\n",
       "      <td>0</td>\n",
       "      <td>0.02</td>\n",
       "      <td>0.06</td>\n",
       "      <td>0.0</td>\n",
       "      <td>0.00008</td>\n",
       "      <td>0.0</td>\n",
       "      <td>0</td>\n",
       "      <td>0</td>\n",
       "      <td>0</td>\n",
       "      <td>0</td>\n",
       "      <td>...</td>\n",
       "      <td>0.003</td>\n",
       "      <td>0.001</td>\n",
       "      <td>0.033</td>\n",
       "      <td>0.100</td>\n",
       "      <td>0.033</td>\n",
       "      <td>0.0</td>\n",
       "      <td>0.0</td>\n",
       "      <td>0.0</td>\n",
       "      <td>0</td>\n",
       "      <td>0</td>\n",
       "    </tr>\n",
       "    <tr>\n",
       "      <th>1</th>\n",
       "      <td>0</td>\n",
       "      <td>0.02</td>\n",
       "      <td>0.06</td>\n",
       "      <td>0.0</td>\n",
       "      <td>0.00008</td>\n",
       "      <td>0.0</td>\n",
       "      <td>0</td>\n",
       "      <td>0</td>\n",
       "      <td>0</td>\n",
       "      <td>0</td>\n",
       "      <td>...</td>\n",
       "      <td>0.004</td>\n",
       "      <td>0.002</td>\n",
       "      <td>0.050</td>\n",
       "      <td>0.075</td>\n",
       "      <td>0.050</td>\n",
       "      <td>0.0</td>\n",
       "      <td>0.0</td>\n",
       "      <td>0.0</td>\n",
       "      <td>0</td>\n",
       "      <td>0</td>\n",
       "    </tr>\n",
       "    <tr>\n",
       "      <th>2</th>\n",
       "      <td>0</td>\n",
       "      <td>0.02</td>\n",
       "      <td>0.06</td>\n",
       "      <td>0.0</td>\n",
       "      <td>0.00008</td>\n",
       "      <td>0.0</td>\n",
       "      <td>0</td>\n",
       "      <td>0</td>\n",
       "      <td>0</td>\n",
       "      <td>0</td>\n",
       "      <td>...</td>\n",
       "      <td>0.005</td>\n",
       "      <td>0.003</td>\n",
       "      <td>0.060</td>\n",
       "      <td>0.060</td>\n",
       "      <td>0.060</td>\n",
       "      <td>0.0</td>\n",
       "      <td>0.0</td>\n",
       "      <td>0.0</td>\n",
       "      <td>0</td>\n",
       "      <td>0</td>\n",
       "    </tr>\n",
       "  </tbody>\n",
       "</table>\n",
       "<p>3 rows × 41 columns</p>\n",
       "</div>"
      ],
      "text/plain": [
       "   duration   protocol_type   service   flag   src_bytes   dst_bytes   land  \\\n",
       "0         0            0.02      0.06    0.0     0.00008         0.0      0   \n",
       "1         0            0.02      0.06    0.0     0.00008         0.0      0   \n",
       "2         0            0.02      0.06    0.0     0.00008         0.0      0   \n",
       "\n",
       "    wrong_fragment   urgent   hot  ...   dst_host_count   dst_host_srv_count  \\\n",
       "0                0        0     0  ...            0.003                0.001   \n",
       "1                0        0     0  ...            0.004                0.002   \n",
       "2                0        0     0  ...            0.005                0.003   \n",
       "\n",
       "    dst_host_same_srv_rate   dst_host_diff_srv_rate  \\\n",
       "0                    0.033                    0.100   \n",
       "1                    0.050                    0.075   \n",
       "2                    0.060                    0.060   \n",
       "\n",
       "    dst_host_same_src_port_rate   dst_host_srv_diff_host_rate  \\\n",
       "0                         0.033                           0.0   \n",
       "1                         0.050                           0.0   \n",
       "2                         0.060                           0.0   \n",
       "\n",
       "    dst_host_serror_rate   dst_host_srv_serror_rate   dst_host_rerror_rate  \\\n",
       "0                    0.0                        0.0                      0   \n",
       "1                    0.0                        0.0                      0   \n",
       "2                    0.0                        0.0                      0   \n",
       "\n",
       "    dst_host_srv_rerror_rate  \n",
       "0                          0  \n",
       "1                          0  \n",
       "2                          0  \n",
       "\n",
       "[3 rows x 41 columns]"
      ]
     },
     "execution_count": 10,
     "metadata": {},
     "output_type": "execute_result"
    }
   ],
   "source": [
    "nmap = pd.read_csv(\"Data_of_Attack_Back_NMap.csv\")\n",
    "nmap.head(3)"
   ]
  },
  {
   "cell_type": "code",
   "execution_count": 11,
   "id": "242e191a-0790-406a-81d9-3baf9810f388",
   "metadata": {
    "tags": []
   },
   "outputs": [
    {
     "data": {
      "text/html": [
       "<div>\n",
       "<style scoped>\n",
       "    .dataframe tbody tr th:only-of-type {\n",
       "        vertical-align: middle;\n",
       "    }\n",
       "\n",
       "    .dataframe tbody tr th {\n",
       "        vertical-align: top;\n",
       "    }\n",
       "\n",
       "    .dataframe thead th {\n",
       "        text-align: right;\n",
       "    }\n",
       "</style>\n",
       "<table border=\"1\" class=\"dataframe\">\n",
       "  <thead>\n",
       "    <tr style=\"text-align: right;\">\n",
       "      <th></th>\n",
       "      <th>duration</th>\n",
       "      <th>protocol_type</th>\n",
       "      <th>service</th>\n",
       "      <th>flag</th>\n",
       "      <th>src_bytes</th>\n",
       "      <th>dst_bytes</th>\n",
       "      <th>land</th>\n",
       "      <th>wrong_fragment</th>\n",
       "      <th>urgent</th>\n",
       "      <th>hot</th>\n",
       "      <th>...</th>\n",
       "      <th>dst_host_count</th>\n",
       "      <th>dst_host_srv_count</th>\n",
       "      <th>dst_host_same_srv_rate</th>\n",
       "      <th>dst_host_diff_srv_rate</th>\n",
       "      <th>dst_host_same_src_port_rate</th>\n",
       "      <th>dst_host_srv_diff_host_rate</th>\n",
       "      <th>dst_host_serror_rate</th>\n",
       "      <th>dst_host_srv_serror_rate</th>\n",
       "      <th>dst_host_rerror_rate</th>\n",
       "      <th>dst_host_srv_rerror_rate</th>\n",
       "    </tr>\n",
       "  </thead>\n",
       "  <tbody>\n",
       "    <tr>\n",
       "      <th>0</th>\n",
       "      <td>0.0</td>\n",
       "      <td>0.0</td>\n",
       "      <td>0.0</td>\n",
       "      <td>0.0</td>\n",
       "      <td>0.00215</td>\n",
       "      <td>0.45076</td>\n",
       "      <td>0</td>\n",
       "      <td>0</td>\n",
       "      <td>0.0</td>\n",
       "      <td>0.0</td>\n",
       "      <td>...</td>\n",
       "      <td>0.000</td>\n",
       "      <td>0.000</td>\n",
       "      <td>0.0</td>\n",
       "      <td>0.0</td>\n",
       "      <td>0.00</td>\n",
       "      <td>0.0</td>\n",
       "      <td>0.0</td>\n",
       "      <td>0.0</td>\n",
       "      <td>0.0</td>\n",
       "      <td>0.0</td>\n",
       "    </tr>\n",
       "    <tr>\n",
       "      <th>1</th>\n",
       "      <td>0.0</td>\n",
       "      <td>0.0</td>\n",
       "      <td>0.0</td>\n",
       "      <td>0.0</td>\n",
       "      <td>0.00162</td>\n",
       "      <td>0.04528</td>\n",
       "      <td>0</td>\n",
       "      <td>0</td>\n",
       "      <td>0.0</td>\n",
       "      <td>0.0</td>\n",
       "      <td>...</td>\n",
       "      <td>0.001</td>\n",
       "      <td>0.001</td>\n",
       "      <td>0.1</td>\n",
       "      <td>0.0</td>\n",
       "      <td>0.10</td>\n",
       "      <td>0.0</td>\n",
       "      <td>0.0</td>\n",
       "      <td>0.0</td>\n",
       "      <td>0.0</td>\n",
       "      <td>0.0</td>\n",
       "    </tr>\n",
       "    <tr>\n",
       "      <th>2</th>\n",
       "      <td>0.0</td>\n",
       "      <td>0.0</td>\n",
       "      <td>0.0</td>\n",
       "      <td>0.0</td>\n",
       "      <td>0.00236</td>\n",
       "      <td>0.01228</td>\n",
       "      <td>0</td>\n",
       "      <td>0</td>\n",
       "      <td>0.0</td>\n",
       "      <td>0.0</td>\n",
       "      <td>...</td>\n",
       "      <td>0.002</td>\n",
       "      <td>0.002</td>\n",
       "      <td>0.1</td>\n",
       "      <td>0.0</td>\n",
       "      <td>0.05</td>\n",
       "      <td>0.0</td>\n",
       "      <td>0.0</td>\n",
       "      <td>0.0</td>\n",
       "      <td>0.0</td>\n",
       "      <td>0.0</td>\n",
       "    </tr>\n",
       "  </tbody>\n",
       "</table>\n",
       "<p>3 rows × 41 columns</p>\n",
       "</div>"
      ],
      "text/plain": [
       "   duration   protocol_type   service   flag   src_bytes   dst_bytes   land  \\\n",
       "0       0.0             0.0       0.0    0.0     0.00215     0.45076      0   \n",
       "1       0.0             0.0       0.0    0.0     0.00162     0.04528      0   \n",
       "2       0.0             0.0       0.0    0.0     0.00236     0.01228      0   \n",
       "\n",
       "    wrong_fragment   urgent   hot  ...   dst_host_count   dst_host_srv_count  \\\n",
       "0                0      0.0   0.0  ...            0.000                0.000   \n",
       "1                0      0.0   0.0  ...            0.001                0.001   \n",
       "2                0      0.0   0.0  ...            0.002                0.002   \n",
       "\n",
       "    dst_host_same_srv_rate   dst_host_diff_srv_rate  \\\n",
       "0                      0.0                      0.0   \n",
       "1                      0.1                      0.0   \n",
       "2                      0.1                      0.0   \n",
       "\n",
       "    dst_host_same_src_port_rate   dst_host_srv_diff_host_rate  \\\n",
       "0                          0.00                           0.0   \n",
       "1                          0.10                           0.0   \n",
       "2                          0.05                           0.0   \n",
       "\n",
       "    dst_host_serror_rate   dst_host_srv_serror_rate   dst_host_rerror_rate  \\\n",
       "0                    0.0                        0.0                    0.0   \n",
       "1                    0.0                        0.0                    0.0   \n",
       "2                    0.0                        0.0                    0.0   \n",
       "\n",
       "    dst_host_srv_rerror_rate  \n",
       "0                        0.0  \n",
       "1                        0.0  \n",
       "2                        0.0  \n",
       "\n",
       "[3 rows x 41 columns]"
      ]
     },
     "execution_count": 11,
     "metadata": {},
     "output_type": "execute_result"
    }
   ],
   "source": [
    "normal = pd.read_csv(\"Data_of_Attack_Back_Normal.csv\")\n",
    "normal.head(3)"
   ]
  },
  {
   "cell_type": "code",
   "execution_count": 12,
   "id": "e6d425ed-ea12-4eb8-b43c-feaf5289c1f0",
   "metadata": {
    "tags": []
   },
   "outputs": [
    {
     "data": {
      "text/html": [
       "<div>\n",
       "<style scoped>\n",
       "    .dataframe tbody tr th:only-of-type {\n",
       "        vertical-align: middle;\n",
       "    }\n",
       "\n",
       "    .dataframe tbody tr th {\n",
       "        vertical-align: top;\n",
       "    }\n",
       "\n",
       "    .dataframe thead th {\n",
       "        text-align: right;\n",
       "    }\n",
       "</style>\n",
       "<table border=\"1\" class=\"dataframe\">\n",
       "  <thead>\n",
       "    <tr style=\"text-align: right;\">\n",
       "      <th></th>\n",
       "      <th>duration</th>\n",
       "      <th>protocol_type</th>\n",
       "      <th>service</th>\n",
       "      <th>flag</th>\n",
       "      <th>src_bytes</th>\n",
       "      <th>dst_bytes</th>\n",
       "      <th>land</th>\n",
       "      <th>wrong_fragment</th>\n",
       "      <th>urgent</th>\n",
       "      <th>hot</th>\n",
       "      <th>...</th>\n",
       "      <th>dst_host_count</th>\n",
       "      <th>dst_host_srv_count</th>\n",
       "      <th>dst_host_same_srv_rate</th>\n",
       "      <th>dst_host_diff_srv_rate</th>\n",
       "      <th>dst_host_same_src_port_rate</th>\n",
       "      <th>dst_host_srv_diff_host_rate</th>\n",
       "      <th>dst_host_serror_rate</th>\n",
       "      <th>dst_host_srv_serror_rate</th>\n",
       "      <th>dst_host_rerror_rate</th>\n",
       "      <th>dst_host_srv_rerror_rate</th>\n",
       "    </tr>\n",
       "  </thead>\n",
       "  <tbody>\n",
       "    <tr>\n",
       "      <th>0</th>\n",
       "      <td>0.0000</td>\n",
       "      <td>0.0</td>\n",
       "      <td>0.14</td>\n",
       "      <td>0.05</td>\n",
       "      <td>0.0</td>\n",
       "      <td>0.0</td>\n",
       "      <td>0</td>\n",
       "      <td>0</td>\n",
       "      <td>0</td>\n",
       "      <td>0.0</td>\n",
       "      <td>...</td>\n",
       "      <td>0.171</td>\n",
       "      <td>0.062</td>\n",
       "      <td>0.027</td>\n",
       "      <td>0.002</td>\n",
       "      <td>0.001</td>\n",
       "      <td>0.003</td>\n",
       "      <td>0.001</td>\n",
       "      <td>0.0</td>\n",
       "      <td>0.029</td>\n",
       "      <td>0.002</td>\n",
       "    </tr>\n",
       "    <tr>\n",
       "      <th>1</th>\n",
       "      <td>0.0001</td>\n",
       "      <td>0.0</td>\n",
       "      <td>0.14</td>\n",
       "      <td>0.08</td>\n",
       "      <td>0.0</td>\n",
       "      <td>0.0</td>\n",
       "      <td>0</td>\n",
       "      <td>0</td>\n",
       "      <td>0</td>\n",
       "      <td>0.0</td>\n",
       "      <td>...</td>\n",
       "      <td>0.172</td>\n",
       "      <td>0.062</td>\n",
       "      <td>0.027</td>\n",
       "      <td>0.002</td>\n",
       "      <td>0.001</td>\n",
       "      <td>0.003</td>\n",
       "      <td>0.001</td>\n",
       "      <td>0.0</td>\n",
       "      <td>0.030</td>\n",
       "      <td>0.003</td>\n",
       "    </tr>\n",
       "    <tr>\n",
       "      <th>2</th>\n",
       "      <td>0.0000</td>\n",
       "      <td>0.0</td>\n",
       "      <td>0.12</td>\n",
       "      <td>0.05</td>\n",
       "      <td>0.0</td>\n",
       "      <td>0.0</td>\n",
       "      <td>0</td>\n",
       "      <td>0</td>\n",
       "      <td>0</td>\n",
       "      <td>0.0</td>\n",
       "      <td>...</td>\n",
       "      <td>0.173</td>\n",
       "      <td>0.001</td>\n",
       "      <td>0.001</td>\n",
       "      <td>0.003</td>\n",
       "      <td>0.002</td>\n",
       "      <td>0.000</td>\n",
       "      <td>0.001</td>\n",
       "      <td>0.0</td>\n",
       "      <td>0.030</td>\n",
       "      <td>0.100</td>\n",
       "    </tr>\n",
       "  </tbody>\n",
       "</table>\n",
       "<p>3 rows × 41 columns</p>\n",
       "</div>"
      ],
      "text/plain": [
       "   duration   protocol_type   service   flag   src_bytes   dst_bytes   land  \\\n",
       "0    0.0000             0.0      0.14   0.05         0.0         0.0      0   \n",
       "1    0.0001             0.0      0.14   0.08         0.0         0.0      0   \n",
       "2    0.0000             0.0      0.12   0.05         0.0         0.0      0   \n",
       "\n",
       "    wrong_fragment   urgent   hot  ...   dst_host_count   dst_host_srv_count  \\\n",
       "0                0        0   0.0  ...            0.171                0.062   \n",
       "1                0        0   0.0  ...            0.172                0.062   \n",
       "2                0        0   0.0  ...            0.173                0.001   \n",
       "\n",
       "    dst_host_same_srv_rate   dst_host_diff_srv_rate  \\\n",
       "0                    0.027                    0.002   \n",
       "1                    0.027                    0.002   \n",
       "2                    0.001                    0.003   \n",
       "\n",
       "    dst_host_same_src_port_rate   dst_host_srv_diff_host_rate  \\\n",
       "0                         0.001                         0.003   \n",
       "1                         0.001                         0.003   \n",
       "2                         0.002                         0.000   \n",
       "\n",
       "    dst_host_serror_rate   dst_host_srv_serror_rate   dst_host_rerror_rate  \\\n",
       "0                  0.001                        0.0                  0.029   \n",
       "1                  0.001                        0.0                  0.030   \n",
       "2                  0.001                        0.0                  0.030   \n",
       "\n",
       "    dst_host_srv_rerror_rate  \n",
       "0                      0.002  \n",
       "1                      0.003  \n",
       "2                      0.100  \n",
       "\n",
       "[3 rows x 41 columns]"
      ]
     },
     "execution_count": 12,
     "metadata": {},
     "output_type": "execute_result"
    }
   ],
   "source": [
    "portsweep = pd.read_csv(\"Data_of_Attack_Back_PortSweep.csv\")\n",
    "portsweep.head(3)"
   ]
  },
  {
   "cell_type": "code",
   "execution_count": 13,
   "id": "7a91601b-bf03-4468-821b-9b04aee40798",
   "metadata": {
    "tags": []
   },
   "outputs": [
    {
     "data": {
      "text/html": [
       "<div>\n",
       "<style scoped>\n",
       "    .dataframe tbody tr th:only-of-type {\n",
       "        vertical-align: middle;\n",
       "    }\n",
       "\n",
       "    .dataframe tbody tr th {\n",
       "        vertical-align: top;\n",
       "    }\n",
       "\n",
       "    .dataframe thead th {\n",
       "        text-align: right;\n",
       "    }\n",
       "</style>\n",
       "<table border=\"1\" class=\"dataframe\">\n",
       "  <thead>\n",
       "    <tr style=\"text-align: right;\">\n",
       "      <th></th>\n",
       "      <th>duration</th>\n",
       "      <th>protocol_type</th>\n",
       "      <th>service</th>\n",
       "      <th>flag</th>\n",
       "      <th>src_bytes</th>\n",
       "      <th>dst_bytes</th>\n",
       "      <th>land</th>\n",
       "      <th>wrong_fragment</th>\n",
       "      <th>urgent</th>\n",
       "      <th>hot</th>\n",
       "      <th>...</th>\n",
       "      <th>dst_host_count</th>\n",
       "      <th>dst_host_srv_count</th>\n",
       "      <th>dst_host_same_srv_rate</th>\n",
       "      <th>dst_host_diff_srv_rate</th>\n",
       "      <th>dst_host_same_src_port_rate</th>\n",
       "      <th>dst_host_srv_diff_host_rate</th>\n",
       "      <th>dst_host_serror_rate</th>\n",
       "      <th>dst_host_srv_serror_rate</th>\n",
       "      <th>dst_host_rerror_rate</th>\n",
       "      <th>dst_host_srv_rerror_rate</th>\n",
       "    </tr>\n",
       "  </thead>\n",
       "  <tbody>\n",
       "    <tr>\n",
       "      <th>0</th>\n",
       "      <td>0.0060</td>\n",
       "      <td>0.0</td>\n",
       "      <td>0.05</td>\n",
       "      <td>0</td>\n",
       "      <td>0.00086</td>\n",
       "      <td>0.00183</td>\n",
       "      <td>0</td>\n",
       "      <td>0</td>\n",
       "      <td>0.0</td>\n",
       "      <td>0.0</td>\n",
       "      <td>...</td>\n",
       "      <td>0.255</td>\n",
       "      <td>0.001</td>\n",
       "      <td>0.000</td>\n",
       "      <td>0.002</td>\n",
       "      <td>0.0</td>\n",
       "      <td>0.0</td>\n",
       "      <td>0</td>\n",
       "      <td>0.0</td>\n",
       "      <td>0.0</td>\n",
       "      <td>0.0</td>\n",
       "    </tr>\n",
       "    <tr>\n",
       "      <th>1</th>\n",
       "      <td>0.0060</td>\n",
       "      <td>0.0</td>\n",
       "      <td>0.05</td>\n",
       "      <td>0</td>\n",
       "      <td>0.00090</td>\n",
       "      <td>0.00233</td>\n",
       "      <td>0</td>\n",
       "      <td>0</td>\n",
       "      <td>0.0</td>\n",
       "      <td>0.0</td>\n",
       "      <td>...</td>\n",
       "      <td>0.255</td>\n",
       "      <td>0.002</td>\n",
       "      <td>0.001</td>\n",
       "      <td>0.002</td>\n",
       "      <td>0.0</td>\n",
       "      <td>0.0</td>\n",
       "      <td>0</td>\n",
       "      <td>0.0</td>\n",
       "      <td>0.0</td>\n",
       "      <td>0.0</td>\n",
       "    </tr>\n",
       "    <tr>\n",
       "      <th>2</th>\n",
       "      <td>0.0708</td>\n",
       "      <td>0.0</td>\n",
       "      <td>0.05</td>\n",
       "      <td>0</td>\n",
       "      <td>0.01727</td>\n",
       "      <td>0.24080</td>\n",
       "      <td>0</td>\n",
       "      <td>0</td>\n",
       "      <td>0.0</td>\n",
       "      <td>0.0</td>\n",
       "      <td>...</td>\n",
       "      <td>0.255</td>\n",
       "      <td>0.003</td>\n",
       "      <td>0.001</td>\n",
       "      <td>0.002</td>\n",
       "      <td>0.0</td>\n",
       "      <td>0.0</td>\n",
       "      <td>0</td>\n",
       "      <td>0.0</td>\n",
       "      <td>0.0</td>\n",
       "      <td>0.0</td>\n",
       "    </tr>\n",
       "  </tbody>\n",
       "</table>\n",
       "<p>3 rows × 41 columns</p>\n",
       "</div>"
      ],
      "text/plain": [
       "   duration   protocol_type   service   flag   src_bytes   dst_bytes   land  \\\n",
       "0    0.0060             0.0      0.05      0     0.00086     0.00183      0   \n",
       "1    0.0060             0.0      0.05      0     0.00090     0.00233      0   \n",
       "2    0.0708             0.0      0.05      0     0.01727     0.24080      0   \n",
       "\n",
       "    wrong_fragment   urgent   hot  ...   dst_host_count   dst_host_srv_count  \\\n",
       "0                0      0.0   0.0  ...            0.255                0.001   \n",
       "1                0      0.0   0.0  ...            0.255                0.002   \n",
       "2                0      0.0   0.0  ...            0.255                0.003   \n",
       "\n",
       "    dst_host_same_srv_rate   dst_host_diff_srv_rate  \\\n",
       "0                    0.000                    0.002   \n",
       "1                    0.001                    0.002   \n",
       "2                    0.001                    0.002   \n",
       "\n",
       "    dst_host_same_src_port_rate   dst_host_srv_diff_host_rate  \\\n",
       "0                           0.0                           0.0   \n",
       "1                           0.0                           0.0   \n",
       "2                           0.0                           0.0   \n",
       "\n",
       "    dst_host_serror_rate   dst_host_srv_serror_rate   dst_host_rerror_rate  \\\n",
       "0                      0                        0.0                    0.0   \n",
       "1                      0                        0.0                    0.0   \n",
       "2                      0                        0.0                    0.0   \n",
       "\n",
       "    dst_host_srv_rerror_rate  \n",
       "0                        0.0  \n",
       "1                        0.0  \n",
       "2                        0.0  \n",
       "\n",
       "[3 rows x 41 columns]"
      ]
     },
     "execution_count": 13,
     "metadata": {},
     "output_type": "execute_result"
    }
   ],
   "source": [
    "rootkit = pd.read_csv(\"Data_of_Attack_Back_RootKit.csv\")\n",
    "rootkit.head(3)"
   ]
  },
  {
   "cell_type": "code",
   "execution_count": 14,
   "id": "e972f353-a050-4ee5-a3ff-fd13b23f3480",
   "metadata": {
    "tags": []
   },
   "outputs": [
    {
     "data": {
      "text/html": [
       "<div>\n",
       "<style scoped>\n",
       "    .dataframe tbody tr th:only-of-type {\n",
       "        vertical-align: middle;\n",
       "    }\n",
       "\n",
       "    .dataframe tbody tr th {\n",
       "        vertical-align: top;\n",
       "    }\n",
       "\n",
       "    .dataframe thead th {\n",
       "        text-align: right;\n",
       "    }\n",
       "</style>\n",
       "<table border=\"1\" class=\"dataframe\">\n",
       "  <thead>\n",
       "    <tr style=\"text-align: right;\">\n",
       "      <th></th>\n",
       "      <th>duration</th>\n",
       "      <th>protocol_type</th>\n",
       "      <th>service</th>\n",
       "      <th>flag</th>\n",
       "      <th>src_bytes</th>\n",
       "      <th>dst_bytes</th>\n",
       "      <th>land</th>\n",
       "      <th>wrong_fragment</th>\n",
       "      <th>urgent</th>\n",
       "      <th>hot</th>\n",
       "      <th>...</th>\n",
       "      <th>dst_host_count</th>\n",
       "      <th>dst_host_srv_count</th>\n",
       "      <th>dst_host_same_srv_rate</th>\n",
       "      <th>dst_host_diff_srv_rate</th>\n",
       "      <th>dst_host_same_src_port_rate</th>\n",
       "      <th>dst_host_srv_diff_host_rate</th>\n",
       "      <th>dst_host_serror_rate</th>\n",
       "      <th>dst_host_srv_serror_rate</th>\n",
       "      <th>dst_host_rerror_rate</th>\n",
       "      <th>dst_host_srv_rerror_rate</th>\n",
       "    </tr>\n",
       "  </thead>\n",
       "  <tbody>\n",
       "    <tr>\n",
       "      <th>0</th>\n",
       "      <td>0.0</td>\n",
       "      <td>0.02</td>\n",
       "      <td>0.06</td>\n",
       "      <td>0.0</td>\n",
       "      <td>0.0002</td>\n",
       "      <td>0.0</td>\n",
       "      <td>0</td>\n",
       "      <td>0</td>\n",
       "      <td>0</td>\n",
       "      <td>0.0</td>\n",
       "      <td>...</td>\n",
       "      <td>0.143</td>\n",
       "      <td>0.001</td>\n",
       "      <td>0.001</td>\n",
       "      <td>0.004</td>\n",
       "      <td>0.001</td>\n",
       "      <td>0.0</td>\n",
       "      <td>0.001</td>\n",
       "      <td>0.0</td>\n",
       "      <td>0.0</td>\n",
       "      <td>0.0</td>\n",
       "    </tr>\n",
       "    <tr>\n",
       "      <th>1</th>\n",
       "      <td>0.0</td>\n",
       "      <td>0.02</td>\n",
       "      <td>0.06</td>\n",
       "      <td>0.0</td>\n",
       "      <td>0.0002</td>\n",
       "      <td>0.0</td>\n",
       "      <td>0</td>\n",
       "      <td>0</td>\n",
       "      <td>0</td>\n",
       "      <td>0.0</td>\n",
       "      <td>...</td>\n",
       "      <td>0.144</td>\n",
       "      <td>0.002</td>\n",
       "      <td>0.001</td>\n",
       "      <td>0.004</td>\n",
       "      <td>0.002</td>\n",
       "      <td>0.0</td>\n",
       "      <td>0.001</td>\n",
       "      <td>0.0</td>\n",
       "      <td>0.0</td>\n",
       "      <td>0.0</td>\n",
       "    </tr>\n",
       "    <tr>\n",
       "      <th>2</th>\n",
       "      <td>0.0</td>\n",
       "      <td>0.02</td>\n",
       "      <td>0.06</td>\n",
       "      <td>0.0</td>\n",
       "      <td>0.0002</td>\n",
       "      <td>0.0</td>\n",
       "      <td>0</td>\n",
       "      <td>0</td>\n",
       "      <td>0</td>\n",
       "      <td>0.0</td>\n",
       "      <td>...</td>\n",
       "      <td>0.145</td>\n",
       "      <td>0.003</td>\n",
       "      <td>0.002</td>\n",
       "      <td>0.004</td>\n",
       "      <td>0.003</td>\n",
       "      <td>0.0</td>\n",
       "      <td>0.001</td>\n",
       "      <td>0.0</td>\n",
       "      <td>0.0</td>\n",
       "      <td>0.0</td>\n",
       "    </tr>\n",
       "  </tbody>\n",
       "</table>\n",
       "<p>3 rows × 41 columns</p>\n",
       "</div>"
      ],
      "text/plain": [
       "   duration   protocol_type   service   flag   src_bytes   dst_bytes   land  \\\n",
       "0       0.0            0.02      0.06    0.0      0.0002         0.0      0   \n",
       "1       0.0            0.02      0.06    0.0      0.0002         0.0      0   \n",
       "2       0.0            0.02      0.06    0.0      0.0002         0.0      0   \n",
       "\n",
       "    wrong_fragment   urgent   hot  ...   dst_host_count   dst_host_srv_count  \\\n",
       "0                0        0   0.0  ...            0.143                0.001   \n",
       "1                0        0   0.0  ...            0.144                0.002   \n",
       "2                0        0   0.0  ...            0.145                0.003   \n",
       "\n",
       "    dst_host_same_srv_rate   dst_host_diff_srv_rate  \\\n",
       "0                    0.001                    0.004   \n",
       "1                    0.001                    0.004   \n",
       "2                    0.002                    0.004   \n",
       "\n",
       "    dst_host_same_src_port_rate   dst_host_srv_diff_host_rate  \\\n",
       "0                         0.001                           0.0   \n",
       "1                         0.002                           0.0   \n",
       "2                         0.003                           0.0   \n",
       "\n",
       "    dst_host_serror_rate   dst_host_srv_serror_rate   dst_host_rerror_rate  \\\n",
       "0                  0.001                        0.0                    0.0   \n",
       "1                  0.001                        0.0                    0.0   \n",
       "2                  0.001                        0.0                    0.0   \n",
       "\n",
       "    dst_host_srv_rerror_rate  \n",
       "0                        0.0  \n",
       "1                        0.0  \n",
       "2                        0.0  \n",
       "\n",
       "[3 rows x 41 columns]"
      ]
     },
     "execution_count": 14,
     "metadata": {},
     "output_type": "execute_result"
    }
   ],
   "source": [
    "satan = pd.read_csv(\"Data_of_Attack_Back_Satan.csv\")\n",
    "satan.head(3)"
   ]
  },
  {
   "cell_type": "code",
   "execution_count": 15,
   "id": "b5f01990-bfee-4c02-ba16-6af2fde841d1",
   "metadata": {
    "tags": []
   },
   "outputs": [
    {
     "data": {
      "text/html": [
       "<div>\n",
       "<style scoped>\n",
       "    .dataframe tbody tr th:only-of-type {\n",
       "        vertical-align: middle;\n",
       "    }\n",
       "\n",
       "    .dataframe tbody tr th {\n",
       "        vertical-align: top;\n",
       "    }\n",
       "\n",
       "    .dataframe thead th {\n",
       "        text-align: right;\n",
       "    }\n",
       "</style>\n",
       "<table border=\"1\" class=\"dataframe\">\n",
       "  <thead>\n",
       "    <tr style=\"text-align: right;\">\n",
       "      <th></th>\n",
       "      <th>duration</th>\n",
       "      <th>protocol_type</th>\n",
       "      <th>service</th>\n",
       "      <th>flag</th>\n",
       "      <th>src_bytes</th>\n",
       "      <th>dst_bytes</th>\n",
       "      <th>land</th>\n",
       "      <th>wrong_fragment</th>\n",
       "      <th>urgent</th>\n",
       "      <th>hot</th>\n",
       "      <th>...</th>\n",
       "      <th>dst_host_count</th>\n",
       "      <th>dst_host_srv_count</th>\n",
       "      <th>dst_host_same_srv_rate</th>\n",
       "      <th>dst_host_diff_srv_rate</th>\n",
       "      <th>dst_host_same_src_port_rate</th>\n",
       "      <th>dst_host_srv_diff_host_rate</th>\n",
       "      <th>dst_host_serror_rate</th>\n",
       "      <th>dst_host_srv_serror_rate</th>\n",
       "      <th>dst_host_rerror_rate</th>\n",
       "      <th>dst_host_srv_rerror_rate</th>\n",
       "    </tr>\n",
       "  </thead>\n",
       "  <tbody>\n",
       "    <tr>\n",
       "      <th>0</th>\n",
       "      <td>0</td>\n",
       "      <td>0.02</td>\n",
       "      <td>0.09</td>\n",
       "      <td>0</td>\n",
       "      <td>0.01032</td>\n",
       "      <td>0</td>\n",
       "      <td>0</td>\n",
       "      <td>0.0</td>\n",
       "      <td>0</td>\n",
       "      <td>0</td>\n",
       "      <td>...</td>\n",
       "      <td>0.146</td>\n",
       "      <td>0.001</td>\n",
       "      <td>0.001</td>\n",
       "      <td>0.002</td>\n",
       "      <td>0.001</td>\n",
       "      <td>0</td>\n",
       "      <td>0.0</td>\n",
       "      <td>0</td>\n",
       "      <td>0.0</td>\n",
       "      <td>0</td>\n",
       "    </tr>\n",
       "    <tr>\n",
       "      <th>1</th>\n",
       "      <td>0</td>\n",
       "      <td>0.02</td>\n",
       "      <td>0.09</td>\n",
       "      <td>0</td>\n",
       "      <td>0.01032</td>\n",
       "      <td>0</td>\n",
       "      <td>0</td>\n",
       "      <td>0.0</td>\n",
       "      <td>0</td>\n",
       "      <td>0</td>\n",
       "      <td>...</td>\n",
       "      <td>0.147</td>\n",
       "      <td>0.002</td>\n",
       "      <td>0.001</td>\n",
       "      <td>0.002</td>\n",
       "      <td>0.001</td>\n",
       "      <td>0</td>\n",
       "      <td>0.0</td>\n",
       "      <td>0</td>\n",
       "      <td>0.0</td>\n",
       "      <td>0</td>\n",
       "    </tr>\n",
       "    <tr>\n",
       "      <th>2</th>\n",
       "      <td>0</td>\n",
       "      <td>0.02</td>\n",
       "      <td>0.09</td>\n",
       "      <td>0</td>\n",
       "      <td>0.01032</td>\n",
       "      <td>0</td>\n",
       "      <td>0</td>\n",
       "      <td>0.0</td>\n",
       "      <td>0</td>\n",
       "      <td>0</td>\n",
       "      <td>...</td>\n",
       "      <td>0.148</td>\n",
       "      <td>0.003</td>\n",
       "      <td>0.002</td>\n",
       "      <td>0.002</td>\n",
       "      <td>0.002</td>\n",
       "      <td>0</td>\n",
       "      <td>0.0</td>\n",
       "      <td>0</td>\n",
       "      <td>0.0</td>\n",
       "      <td>0</td>\n",
       "    </tr>\n",
       "  </tbody>\n",
       "</table>\n",
       "<p>3 rows × 41 columns</p>\n",
       "</div>"
      ],
      "text/plain": [
       "   duration   protocol_type   service   flag   src_bytes   dst_bytes   land  \\\n",
       "0         0            0.02      0.09      0     0.01032           0      0   \n",
       "1         0            0.02      0.09      0     0.01032           0      0   \n",
       "2         0            0.02      0.09      0     0.01032           0      0   \n",
       "\n",
       "    wrong_fragment   urgent   hot  ...   dst_host_count   dst_host_srv_count  \\\n",
       "0              0.0        0     0  ...            0.146                0.001   \n",
       "1              0.0        0     0  ...            0.147                0.002   \n",
       "2              0.0        0     0  ...            0.148                0.003   \n",
       "\n",
       "    dst_host_same_srv_rate   dst_host_diff_srv_rate  \\\n",
       "0                    0.001                    0.002   \n",
       "1                    0.001                    0.002   \n",
       "2                    0.002                    0.002   \n",
       "\n",
       "    dst_host_same_src_port_rate   dst_host_srv_diff_host_rate  \\\n",
       "0                         0.001                             0   \n",
       "1                         0.001                             0   \n",
       "2                         0.002                             0   \n",
       "\n",
       "    dst_host_serror_rate   dst_host_srv_serror_rate   dst_host_rerror_rate  \\\n",
       "0                    0.0                          0                    0.0   \n",
       "1                    0.0                          0                    0.0   \n",
       "2                    0.0                          0                    0.0   \n",
       "\n",
       "    dst_host_srv_rerror_rate  \n",
       "0                          0  \n",
       "1                          0  \n",
       "2                          0  \n",
       "\n",
       "[3 rows x 41 columns]"
      ]
     },
     "execution_count": 15,
     "metadata": {},
     "output_type": "execute_result"
    }
   ],
   "source": [
    "smurf = pd.read_csv(\"Data_of_Attack_Back_Smurf.csv\")\n",
    "smurf.head(3)"
   ]
  },
  {
   "cell_type": "markdown",
   "id": "95649932-746e-4ae5-a658-f21c1e3a58a4",
   "metadata": {
    "tags": []
   },
   "source": [
    "### Adding a New-Column named 'Attack' in Each Data File "
   ]
  },
  {
   "cell_type": "code",
   "execution_count": 16,
   "id": "d9dc900c-1932-4fb7-b19f-21df20d8c42c",
   "metadata": {},
   "outputs": [],
   "source": [
    "back['Attack'] = 'back'\n",
    "bufferoverflow['Attack'] = 'bufferoverflow'\n",
    "ftpwriteup['Attack'] = 'ftpwriteup'\n",
    "guesspassword['Attack'] = 'guesspassword'\n",
    "neptune['Attack'] = 'neptune'\n",
    "nmap['Attack'] = 'nmap'\n",
    "normal['Attack'] = 'normal'\n",
    "portsweep['Attack'] = 'portsweep'\n",
    "rootkit['Attack'] = 'rootkit'\n",
    "satan['Attack'] = 'satan'\n",
    "smurf['Attack'] = 'smurf'"
   ]
  },
  {
   "cell_type": "code",
   "execution_count": 17,
   "id": "94f4e6b0-25f9-4327-a585-36c910cbc9f7",
   "metadata": {
    "tags": []
   },
   "outputs": [
    {
     "data": {
      "text/html": [
       "<div>\n",
       "<style scoped>\n",
       "    .dataframe tbody tr th:only-of-type {\n",
       "        vertical-align: middle;\n",
       "    }\n",
       "\n",
       "    .dataframe tbody tr th {\n",
       "        vertical-align: top;\n",
       "    }\n",
       "\n",
       "    .dataframe thead th {\n",
       "        text-align: right;\n",
       "    }\n",
       "</style>\n",
       "<table border=\"1\" class=\"dataframe\">\n",
       "  <thead>\n",
       "    <tr style=\"text-align: right;\">\n",
       "      <th></th>\n",
       "      <th>duration</th>\n",
       "      <th>protocol_type</th>\n",
       "      <th>service</th>\n",
       "      <th>flag</th>\n",
       "      <th>src_bytes</th>\n",
       "      <th>dst_bytes</th>\n",
       "      <th>land</th>\n",
       "      <th>wrong_fragment</th>\n",
       "      <th>urgent</th>\n",
       "      <th>hot</th>\n",
       "      <th>...</th>\n",
       "      <th>dst_host_srv_count</th>\n",
       "      <th>dst_host_same_srv_rate</th>\n",
       "      <th>dst_host_diff_srv_rate</th>\n",
       "      <th>dst_host_same_src_port_rate</th>\n",
       "      <th>dst_host_srv_diff_host_rate</th>\n",
       "      <th>dst_host_serror_rate</th>\n",
       "      <th>dst_host_srv_serror_rate</th>\n",
       "      <th>dst_host_rerror_rate</th>\n",
       "      <th>dst_host_srv_rerror_rate</th>\n",
       "      <th>Attack</th>\n",
       "    </tr>\n",
       "  </thead>\n",
       "  <tbody>\n",
       "    <tr>\n",
       "      <th>0</th>\n",
       "      <td>0</td>\n",
       "      <td>0.02</td>\n",
       "      <td>0.09</td>\n",
       "      <td>0</td>\n",
       "      <td>0.01032</td>\n",
       "      <td>0</td>\n",
       "      <td>0</td>\n",
       "      <td>0.0</td>\n",
       "      <td>0</td>\n",
       "      <td>0</td>\n",
       "      <td>...</td>\n",
       "      <td>0.001</td>\n",
       "      <td>0.001</td>\n",
       "      <td>0.002</td>\n",
       "      <td>0.001</td>\n",
       "      <td>0</td>\n",
       "      <td>0.0</td>\n",
       "      <td>0</td>\n",
       "      <td>0.0</td>\n",
       "      <td>0</td>\n",
       "      <td>smurf</td>\n",
       "    </tr>\n",
       "    <tr>\n",
       "      <th>1</th>\n",
       "      <td>0</td>\n",
       "      <td>0.02</td>\n",
       "      <td>0.09</td>\n",
       "      <td>0</td>\n",
       "      <td>0.01032</td>\n",
       "      <td>0</td>\n",
       "      <td>0</td>\n",
       "      <td>0.0</td>\n",
       "      <td>0</td>\n",
       "      <td>0</td>\n",
       "      <td>...</td>\n",
       "      <td>0.002</td>\n",
       "      <td>0.001</td>\n",
       "      <td>0.002</td>\n",
       "      <td>0.001</td>\n",
       "      <td>0</td>\n",
       "      <td>0.0</td>\n",
       "      <td>0</td>\n",
       "      <td>0.0</td>\n",
       "      <td>0</td>\n",
       "      <td>smurf</td>\n",
       "    </tr>\n",
       "    <tr>\n",
       "      <th>2</th>\n",
       "      <td>0</td>\n",
       "      <td>0.02</td>\n",
       "      <td>0.09</td>\n",
       "      <td>0</td>\n",
       "      <td>0.01032</td>\n",
       "      <td>0</td>\n",
       "      <td>0</td>\n",
       "      <td>0.0</td>\n",
       "      <td>0</td>\n",
       "      <td>0</td>\n",
       "      <td>...</td>\n",
       "      <td>0.003</td>\n",
       "      <td>0.002</td>\n",
       "      <td>0.002</td>\n",
       "      <td>0.002</td>\n",
       "      <td>0</td>\n",
       "      <td>0.0</td>\n",
       "      <td>0</td>\n",
       "      <td>0.0</td>\n",
       "      <td>0</td>\n",
       "      <td>smurf</td>\n",
       "    </tr>\n",
       "  </tbody>\n",
       "</table>\n",
       "<p>3 rows × 42 columns</p>\n",
       "</div>"
      ],
      "text/plain": [
       "   duration   protocol_type   service   flag   src_bytes   dst_bytes   land  \\\n",
       "0         0            0.02      0.09      0     0.01032           0      0   \n",
       "1         0            0.02      0.09      0     0.01032           0      0   \n",
       "2         0            0.02      0.09      0     0.01032           0      0   \n",
       "\n",
       "    wrong_fragment   urgent   hot  ...   dst_host_srv_count  \\\n",
       "0              0.0        0     0  ...                0.001   \n",
       "1              0.0        0     0  ...                0.002   \n",
       "2              0.0        0     0  ...                0.003   \n",
       "\n",
       "    dst_host_same_srv_rate   dst_host_diff_srv_rate  \\\n",
       "0                    0.001                    0.002   \n",
       "1                    0.001                    0.002   \n",
       "2                    0.002                    0.002   \n",
       "\n",
       "    dst_host_same_src_port_rate   dst_host_srv_diff_host_rate  \\\n",
       "0                         0.001                             0   \n",
       "1                         0.001                             0   \n",
       "2                         0.002                             0   \n",
       "\n",
       "    dst_host_serror_rate   dst_host_srv_serror_rate   dst_host_rerror_rate  \\\n",
       "0                    0.0                          0                    0.0   \n",
       "1                    0.0                          0                    0.0   \n",
       "2                    0.0                          0                    0.0   \n",
       "\n",
       "    dst_host_srv_rerror_rate  Attack  \n",
       "0                          0   smurf  \n",
       "1                          0   smurf  \n",
       "2                          0   smurf  \n",
       "\n",
       "[3 rows x 42 columns]"
      ]
     },
     "execution_count": 17,
     "metadata": {},
     "output_type": "execute_result"
    }
   ],
   "source": [
    "# Verifying the above Column-Addition Operation\n",
    "smurf.head(3)"
   ]
  },
  {
   "cell_type": "markdown",
   "id": "8f36f6a7-a36f-4335-b445-41c7871840dd",
   "metadata": {
    "tags": []
   },
   "source": [
    "### Merging all the above Data-Files in a Single Variable "
   ]
  },
  {
   "cell_type": "code",
   "execution_count": 18,
   "id": "2731fab6-786d-4f17-9800-2fe884d54e58",
   "metadata": {
    "tags": []
   },
   "outputs": [
    {
     "data": {
      "text/html": [
       "<div>\n",
       "<style scoped>\n",
       "    .dataframe tbody tr th:only-of-type {\n",
       "        vertical-align: middle;\n",
       "    }\n",
       "\n",
       "    .dataframe tbody tr th {\n",
       "        vertical-align: top;\n",
       "    }\n",
       "\n",
       "    .dataframe thead th {\n",
       "        text-align: right;\n",
       "    }\n",
       "</style>\n",
       "<table border=\"1\" class=\"dataframe\">\n",
       "  <thead>\n",
       "    <tr style=\"text-align: right;\">\n",
       "      <th></th>\n",
       "      <th>duration</th>\n",
       "      <th>protocol_type</th>\n",
       "      <th>service</th>\n",
       "      <th>flag</th>\n",
       "      <th>src_bytes</th>\n",
       "      <th>dst_bytes</th>\n",
       "      <th>land</th>\n",
       "      <th>wrong_fragment</th>\n",
       "      <th>urgent</th>\n",
       "      <th>hot</th>\n",
       "      <th>...</th>\n",
       "      <th>dst_host_srv_count</th>\n",
       "      <th>dst_host_same_srv_rate</th>\n",
       "      <th>dst_host_diff_srv_rate</th>\n",
       "      <th>dst_host_same_src_port_rate</th>\n",
       "      <th>dst_host_srv_diff_host_rate</th>\n",
       "      <th>dst_host_serror_rate</th>\n",
       "      <th>dst_host_srv_serror_rate</th>\n",
       "      <th>dst_host_rerror_rate</th>\n",
       "      <th>dst_host_srv_rerror_rate</th>\n",
       "      <th>Attack</th>\n",
       "    </tr>\n",
       "  </thead>\n",
       "  <tbody>\n",
       "    <tr>\n",
       "      <th>0</th>\n",
       "      <td>0.0</td>\n",
       "      <td>0.0</td>\n",
       "      <td>0.0</td>\n",
       "      <td>0.0</td>\n",
       "      <td>0.5454</td>\n",
       "      <td>0.08314</td>\n",
       "      <td>0</td>\n",
       "      <td>0.0</td>\n",
       "      <td>0.0</td>\n",
       "      <td>0.2</td>\n",
       "      <td>...</td>\n",
       "      <td>0.001</td>\n",
       "      <td>0.1</td>\n",
       "      <td>0.0</td>\n",
       "      <td>0.100</td>\n",
       "      <td>0.0</td>\n",
       "      <td>0.0</td>\n",
       "      <td>0.0</td>\n",
       "      <td>0.0</td>\n",
       "      <td>0.0</td>\n",
       "      <td>back</td>\n",
       "    </tr>\n",
       "    <tr>\n",
       "      <th>1</th>\n",
       "      <td>0.0</td>\n",
       "      <td>0.0</td>\n",
       "      <td>0.0</td>\n",
       "      <td>0.0</td>\n",
       "      <td>0.5454</td>\n",
       "      <td>0.08314</td>\n",
       "      <td>0</td>\n",
       "      <td>0.0</td>\n",
       "      <td>0.0</td>\n",
       "      <td>0.2</td>\n",
       "      <td>...</td>\n",
       "      <td>0.002</td>\n",
       "      <td>0.1</td>\n",
       "      <td>0.0</td>\n",
       "      <td>0.050</td>\n",
       "      <td>0.0</td>\n",
       "      <td>0.0</td>\n",
       "      <td>0.0</td>\n",
       "      <td>0.0</td>\n",
       "      <td>0.0</td>\n",
       "      <td>back</td>\n",
       "    </tr>\n",
       "    <tr>\n",
       "      <th>2</th>\n",
       "      <td>0.0</td>\n",
       "      <td>0.0</td>\n",
       "      <td>0.0</td>\n",
       "      <td>0.0</td>\n",
       "      <td>0.5454</td>\n",
       "      <td>0.08314</td>\n",
       "      <td>0</td>\n",
       "      <td>0.0</td>\n",
       "      <td>0.0</td>\n",
       "      <td>0.2</td>\n",
       "      <td>...</td>\n",
       "      <td>0.003</td>\n",
       "      <td>0.1</td>\n",
       "      <td>0.0</td>\n",
       "      <td>0.033</td>\n",
       "      <td>0.0</td>\n",
       "      <td>0.0</td>\n",
       "      <td>0.0</td>\n",
       "      <td>0.0</td>\n",
       "      <td>0.0</td>\n",
       "      <td>back</td>\n",
       "    </tr>\n",
       "  </tbody>\n",
       "</table>\n",
       "<p>3 rows × 42 columns</p>\n",
       "</div>"
      ],
      "text/plain": [
       "   duration   protocol_type   service   flag   src_bytes   dst_bytes   land  \\\n",
       "0       0.0             0.0       0.0    0.0      0.5454     0.08314      0   \n",
       "1       0.0             0.0       0.0    0.0      0.5454     0.08314      0   \n",
       "2       0.0             0.0       0.0    0.0      0.5454     0.08314      0   \n",
       "\n",
       "    wrong_fragment   urgent   hot  ...   dst_host_srv_count  \\\n",
       "0              0.0      0.0   0.2  ...                0.001   \n",
       "1              0.0      0.0   0.2  ...                0.002   \n",
       "2              0.0      0.0   0.2  ...                0.003   \n",
       "\n",
       "    dst_host_same_srv_rate   dst_host_diff_srv_rate  \\\n",
       "0                      0.1                      0.0   \n",
       "1                      0.1                      0.0   \n",
       "2                      0.1                      0.0   \n",
       "\n",
       "    dst_host_same_src_port_rate   dst_host_srv_diff_host_rate  \\\n",
       "0                         0.100                           0.0   \n",
       "1                         0.050                           0.0   \n",
       "2                         0.033                           0.0   \n",
       "\n",
       "    dst_host_serror_rate   dst_host_srv_serror_rate   dst_host_rerror_rate  \\\n",
       "0                    0.0                        0.0                    0.0   \n",
       "1                    0.0                        0.0                    0.0   \n",
       "2                    0.0                        0.0                    0.0   \n",
       "\n",
       "    dst_host_srv_rerror_rate  Attack  \n",
       "0                        0.0    back  \n",
       "1                        0.0    back  \n",
       "2                        0.0    back  \n",
       "\n",
       "[3 rows x 42 columns]"
      ]
     },
     "execution_count": 18,
     "metadata": {},
     "output_type": "execute_result"
    }
   ],
   "source": [
    "merged_data = pd.concat([back,bufferoverflow,ftpwriteup,guesspassword,neptune,nmap,normal,portsweep,rootkit,satan,smurf],axis = 0)\n",
    "merged_data.head(3)"
   ]
  },
  {
   "cell_type": "code",
   "execution_count": 19,
   "id": "8fe3178a-64d8-4d4a-8179-45816686b84a",
   "metadata": {
    "tags": []
   },
   "outputs": [
    {
     "data": {
      "text/plain": [
       "(817550, 42)"
      ]
     },
     "execution_count": 19,
     "metadata": {},
     "output_type": "execute_result"
    }
   ],
   "source": [
    "merged_data.shape"
   ]
  },
  {
   "cell_type": "code",
   "execution_count": 20,
   "id": "8ddb5845-c9eb-42a4-82da-525ee4964729",
   "metadata": {
    "tags": []
   },
   "outputs": [
    {
     "data": {
      "text/plain": [
       "Index(['duration', ' protocol_type', ' service', ' flag', ' src_bytes',\n",
       "       ' dst_bytes', ' land', ' wrong_fragment', ' urgent', ' hot',\n",
       "       ' num_failed_logins', ' logged_in', ' num_compromised', ' root_shell',\n",
       "       ' su_attempted', ' num_root', ' num_file_creations', ' num_shells',\n",
       "       ' num_access_files', ' num_outbound_cmds', ' is_host_login',\n",
       "       ' is_guest_login', ' count', ' srv_count', ' serror_rate',\n",
       "       ' srv_error_rate', ' rerror_rate', ' srv_rerror_rate', ' same_srv_rate',\n",
       "       ' diff_srv_rate', ' srv_diff_host_rate', ' dst_host_count',\n",
       "       ' dst_host_srv_count', ' dst_host_same_srv_rate',\n",
       "       ' dst_host_diff_srv_rate', ' dst_host_same_src_port_rate',\n",
       "       ' dst_host_srv_diff_host_rate', ' dst_host_serror_rate',\n",
       "       ' dst_host_srv_serror_rate', ' dst_host_rerror_rate',\n",
       "       ' dst_host_srv_rerror_rate', 'Attack'],\n",
       "      dtype='object')"
      ]
     },
     "execution_count": 20,
     "metadata": {},
     "output_type": "execute_result"
    }
   ],
   "source": [
    "#checking the variables for naming convencsion \n",
    "merged_data.columns"
   ]
  },
  {
   "cell_type": "code",
   "execution_count": 21,
   "id": "9b519ffd-5032-4aab-aec4-c5192c46b748",
   "metadata": {
    "tags": []
   },
   "outputs": [],
   "source": [
    "#Re-naming the variables as per the naming convencion \n",
    "merged_data.columns=[i.replace(\" \",\"\") for i in merged_data.columns]"
   ]
  },
  {
   "cell_type": "code",
   "execution_count": 22,
   "id": "3f68c235-c9f9-482b-b596-b60029d49049",
   "metadata": {
    "tags": []
   },
   "outputs": [
    {
     "data": {
      "text/plain": [
       "Index(['duration', 'protocol_type', 'service', 'flag', 'src_bytes',\n",
       "       'dst_bytes', 'land', 'wrong_fragment', 'urgent', 'hot',\n",
       "       'num_failed_logins', 'logged_in', 'num_compromised', 'root_shell',\n",
       "       'su_attempted', 'num_root', 'num_file_creations', 'num_shells',\n",
       "       'num_access_files', 'num_outbound_cmds', 'is_host_login',\n",
       "       'is_guest_login', 'count', 'srv_count', 'serror_rate', 'srv_error_rate',\n",
       "       'rerror_rate', 'srv_rerror_rate', 'same_srv_rate', 'diff_srv_rate',\n",
       "       'srv_diff_host_rate', 'dst_host_count', 'dst_host_srv_count',\n",
       "       'dst_host_same_srv_rate', 'dst_host_diff_srv_rate',\n",
       "       'dst_host_same_src_port_rate', 'dst_host_srv_diff_host_rate',\n",
       "       'dst_host_serror_rate', 'dst_host_srv_serror_rate',\n",
       "       'dst_host_rerror_rate', 'dst_host_srv_rerror_rate', 'Attack'],\n",
       "      dtype='object')"
      ]
     },
     "execution_count": 22,
     "metadata": {},
     "output_type": "execute_result"
    }
   ],
   "source": [
    "# Verifying the above Re-naming Operation according to naming convencion \n",
    "merged_data.columns"
   ]
  },
  {
   "cell_type": "code",
   "execution_count": 23,
   "id": "697f01f2-2297-4d25-96e4-b60d8058c296",
   "metadata": {},
   "outputs": [],
   "source": [
    "#Re-Naming the column names which are having \"count\" and \"flag\" as they are the Pre-Defined Functions in Python\n",
    "merged_data.rename = pd.DataFrame()\n",
    "merged_data.columns = ['duration', 'protocol_type', 'service', 'flag1', 'src_bytes',\n",
    "       'dst_bytes', 'land', 'wrong_fragment', 'urgent', 'hot',\n",
    "       'num_failed_logins', 'logged_in', 'num_compromised', 'root_shell',\n",
    "       'su_attempted', 'num_root', 'num_file_creations', 'num_shells',\n",
    "       'num_access_files', 'num_outbound_cmds', 'is_host_login',\n",
    "       'is_guest_login', 'count1', 'srv_count', 'serror_rate', 'srv_error_rate',\n",
    "       'rerror_rate', 'srv_rerror_rate', 'same_srv_rate', 'diff_srv_rate',\n",
    "       'srv_diff_host_rate', 'dst_host_count', 'dst_host_srv_count',\n",
    "       'dst_host_same_srv_rate', 'dst_host_diff_srv_rate',\n",
    "       'dst_host_same_src_port_rate', 'dst_host_srv_diff_host_rate',\n",
    "       'dst_host_serror_rate', 'dst_host_srv_serror_rate',\n",
    "       'dst_host_rerror_rate', 'dst_host_srv_rerror_rate', 'Attack']"
   ]
  },
  {
   "cell_type": "code",
   "execution_count": 24,
   "id": "18cca320-e527-4dff-880b-2ef52fb08639",
   "metadata": {},
   "outputs": [
    {
     "data": {
      "text/plain": [
       "Index(['duration', 'protocol_type', 'service', 'flag1', 'src_bytes',\n",
       "       'dst_bytes', 'land', 'wrong_fragment', 'urgent', 'hot',\n",
       "       'num_failed_logins', 'logged_in', 'num_compromised', 'root_shell',\n",
       "       'su_attempted', 'num_root', 'num_file_creations', 'num_shells',\n",
       "       'num_access_files', 'num_outbound_cmds', 'is_host_login',\n",
       "       'is_guest_login', 'count1', 'srv_count', 'serror_rate',\n",
       "       'srv_error_rate', 'rerror_rate', 'srv_rerror_rate', 'same_srv_rate',\n",
       "       'diff_srv_rate', 'srv_diff_host_rate', 'dst_host_count',\n",
       "       'dst_host_srv_count', 'dst_host_same_srv_rate',\n",
       "       'dst_host_diff_srv_rate', 'dst_host_same_src_port_rate',\n",
       "       'dst_host_srv_diff_host_rate', 'dst_host_serror_rate',\n",
       "       'dst_host_srv_serror_rate', 'dst_host_rerror_rate',\n",
       "       'dst_host_srv_rerror_rate', 'Attack'],\n",
       "      dtype='object')"
      ]
     },
     "execution_count": 24,
     "metadata": {},
     "output_type": "execute_result"
    }
   ],
   "source": [
    "#checking the variables for naming convencsion \n",
    "merged_data.columns"
   ]
  },
  {
   "cell_type": "markdown",
   "id": "8a609bd3-68d5-4fbc-8252-5a2dc92d07b2",
   "metadata": {},
   "source": [
    "### Creating the copy & Extracting the Sample Data"
   ]
  },
  {
   "cell_type": "code",
   "execution_count": 25,
   "id": "226de116-7fb1-42ff-b970-fd89b432421f",
   "metadata": {
    "tags": []
   },
   "outputs": [],
   "source": [
    "#Creating copies of a Dataset\n",
    "copy1 = merged_data.copy() "
   ]
  },
  {
   "cell_type": "code",
   "execution_count": 26,
   "id": "375a87ad-0a96-42d4-903d-e96306b50319",
   "metadata": {
    "tags": []
   },
   "outputs": [
    {
     "data": {
      "text/html": [
       "<div>\n",
       "<style scoped>\n",
       "    .dataframe tbody tr th:only-of-type {\n",
       "        vertical-align: middle;\n",
       "    }\n",
       "\n",
       "    .dataframe tbody tr th {\n",
       "        vertical-align: top;\n",
       "    }\n",
       "\n",
       "    .dataframe thead th {\n",
       "        text-align: right;\n",
       "    }\n",
       "</style>\n",
       "<table border=\"1\" class=\"dataframe\">\n",
       "  <thead>\n",
       "    <tr style=\"text-align: right;\">\n",
       "      <th></th>\n",
       "      <th>duration</th>\n",
       "      <th>protocol_type</th>\n",
       "      <th>service</th>\n",
       "      <th>flag1</th>\n",
       "      <th>src_bytes</th>\n",
       "      <th>dst_bytes</th>\n",
       "      <th>land</th>\n",
       "      <th>wrong_fragment</th>\n",
       "      <th>urgent</th>\n",
       "      <th>hot</th>\n",
       "      <th>...</th>\n",
       "      <th>dst_host_srv_count</th>\n",
       "      <th>dst_host_same_srv_rate</th>\n",
       "      <th>dst_host_diff_srv_rate</th>\n",
       "      <th>dst_host_same_src_port_rate</th>\n",
       "      <th>dst_host_srv_diff_host_rate</th>\n",
       "      <th>dst_host_serror_rate</th>\n",
       "      <th>dst_host_srv_serror_rate</th>\n",
       "      <th>dst_host_rerror_rate</th>\n",
       "      <th>dst_host_srv_rerror_rate</th>\n",
       "      <th>Attack</th>\n",
       "    </tr>\n",
       "  </thead>\n",
       "  <tbody>\n",
       "    <tr>\n",
       "      <th>0</th>\n",
       "      <td>0.0</td>\n",
       "      <td>0.0</td>\n",
       "      <td>0.0</td>\n",
       "      <td>0.0</td>\n",
       "      <td>0.5454</td>\n",
       "      <td>0.08314</td>\n",
       "      <td>0</td>\n",
       "      <td>0.0</td>\n",
       "      <td>0.0</td>\n",
       "      <td>0.2</td>\n",
       "      <td>...</td>\n",
       "      <td>0.001</td>\n",
       "      <td>0.1</td>\n",
       "      <td>0.0</td>\n",
       "      <td>0.100</td>\n",
       "      <td>0.0</td>\n",
       "      <td>0.0</td>\n",
       "      <td>0.0</td>\n",
       "      <td>0.0</td>\n",
       "      <td>0.0</td>\n",
       "      <td>back</td>\n",
       "    </tr>\n",
       "    <tr>\n",
       "      <th>1</th>\n",
       "      <td>0.0</td>\n",
       "      <td>0.0</td>\n",
       "      <td>0.0</td>\n",
       "      <td>0.0</td>\n",
       "      <td>0.5454</td>\n",
       "      <td>0.08314</td>\n",
       "      <td>0</td>\n",
       "      <td>0.0</td>\n",
       "      <td>0.0</td>\n",
       "      <td>0.2</td>\n",
       "      <td>...</td>\n",
       "      <td>0.002</td>\n",
       "      <td>0.1</td>\n",
       "      <td>0.0</td>\n",
       "      <td>0.050</td>\n",
       "      <td>0.0</td>\n",
       "      <td>0.0</td>\n",
       "      <td>0.0</td>\n",
       "      <td>0.0</td>\n",
       "      <td>0.0</td>\n",
       "      <td>back</td>\n",
       "    </tr>\n",
       "    <tr>\n",
       "      <th>2</th>\n",
       "      <td>0.0</td>\n",
       "      <td>0.0</td>\n",
       "      <td>0.0</td>\n",
       "      <td>0.0</td>\n",
       "      <td>0.5454</td>\n",
       "      <td>0.08314</td>\n",
       "      <td>0</td>\n",
       "      <td>0.0</td>\n",
       "      <td>0.0</td>\n",
       "      <td>0.2</td>\n",
       "      <td>...</td>\n",
       "      <td>0.003</td>\n",
       "      <td>0.1</td>\n",
       "      <td>0.0</td>\n",
       "      <td>0.033</td>\n",
       "      <td>0.0</td>\n",
       "      <td>0.0</td>\n",
       "      <td>0.0</td>\n",
       "      <td>0.0</td>\n",
       "      <td>0.0</td>\n",
       "      <td>back</td>\n",
       "    </tr>\n",
       "    <tr>\n",
       "      <th>3</th>\n",
       "      <td>0.0</td>\n",
       "      <td>0.0</td>\n",
       "      <td>0.0</td>\n",
       "      <td>0.0</td>\n",
       "      <td>0.5454</td>\n",
       "      <td>0.08314</td>\n",
       "      <td>0</td>\n",
       "      <td>0.0</td>\n",
       "      <td>0.0</td>\n",
       "      <td>0.2</td>\n",
       "      <td>...</td>\n",
       "      <td>0.004</td>\n",
       "      <td>0.1</td>\n",
       "      <td>0.0</td>\n",
       "      <td>0.025</td>\n",
       "      <td>0.0</td>\n",
       "      <td>0.0</td>\n",
       "      <td>0.0</td>\n",
       "      <td>0.0</td>\n",
       "      <td>0.0</td>\n",
       "      <td>back</td>\n",
       "    </tr>\n",
       "    <tr>\n",
       "      <th>4</th>\n",
       "      <td>0.0</td>\n",
       "      <td>0.0</td>\n",
       "      <td>0.0</td>\n",
       "      <td>0.0</td>\n",
       "      <td>0.5454</td>\n",
       "      <td>0.08314</td>\n",
       "      <td>0</td>\n",
       "      <td>0.0</td>\n",
       "      <td>0.0</td>\n",
       "      <td>0.2</td>\n",
       "      <td>...</td>\n",
       "      <td>0.005</td>\n",
       "      <td>0.1</td>\n",
       "      <td>0.0</td>\n",
       "      <td>0.020</td>\n",
       "      <td>0.0</td>\n",
       "      <td>0.0</td>\n",
       "      <td>0.0</td>\n",
       "      <td>0.0</td>\n",
       "      <td>0.0</td>\n",
       "      <td>back</td>\n",
       "    </tr>\n",
       "  </tbody>\n",
       "</table>\n",
       "<p>5 rows × 42 columns</p>\n",
       "</div>"
      ],
      "text/plain": [
       "   duration  protocol_type  service  flag1  src_bytes  dst_bytes  land  \\\n",
       "0       0.0            0.0      0.0    0.0     0.5454    0.08314     0   \n",
       "1       0.0            0.0      0.0    0.0     0.5454    0.08314     0   \n",
       "2       0.0            0.0      0.0    0.0     0.5454    0.08314     0   \n",
       "3       0.0            0.0      0.0    0.0     0.5454    0.08314     0   \n",
       "4       0.0            0.0      0.0    0.0     0.5454    0.08314     0   \n",
       "\n",
       "   wrong_fragment  urgent  hot  ...  dst_host_srv_count  \\\n",
       "0             0.0     0.0  0.2  ...               0.001   \n",
       "1             0.0     0.0  0.2  ...               0.002   \n",
       "2             0.0     0.0  0.2  ...               0.003   \n",
       "3             0.0     0.0  0.2  ...               0.004   \n",
       "4             0.0     0.0  0.2  ...               0.005   \n",
       "\n",
       "   dst_host_same_srv_rate  dst_host_diff_srv_rate  \\\n",
       "0                     0.1                     0.0   \n",
       "1                     0.1                     0.0   \n",
       "2                     0.1                     0.0   \n",
       "3                     0.1                     0.0   \n",
       "4                     0.1                     0.0   \n",
       "\n",
       "   dst_host_same_src_port_rate  dst_host_srv_diff_host_rate  \\\n",
       "0                        0.100                          0.0   \n",
       "1                        0.050                          0.0   \n",
       "2                        0.033                          0.0   \n",
       "3                        0.025                          0.0   \n",
       "4                        0.020                          0.0   \n",
       "\n",
       "   dst_host_serror_rate  dst_host_srv_serror_rate  dst_host_rerror_rate  \\\n",
       "0                   0.0                       0.0                   0.0   \n",
       "1                   0.0                       0.0                   0.0   \n",
       "2                   0.0                       0.0                   0.0   \n",
       "3                   0.0                       0.0                   0.0   \n",
       "4                   0.0                       0.0                   0.0   \n",
       "\n",
       "   dst_host_srv_rerror_rate  Attack  \n",
       "0                       0.0    back  \n",
       "1                       0.0    back  \n",
       "2                       0.0    back  \n",
       "3                       0.0    back  \n",
       "4                       0.0    back  \n",
       "\n",
       "[5 rows x 42 columns]"
      ]
     },
     "execution_count": 26,
     "metadata": {},
     "output_type": "execute_result"
    }
   ],
   "source": [
    "copy1.head()"
   ]
  },
  {
   "cell_type": "code",
   "execution_count": 27,
   "id": "bd97e37e-758d-43d4-8a7d-aa52f0e74cd2",
   "metadata": {
    "tags": []
   },
   "outputs": [
    {
     "data": {
      "text/plain": [
       "Index(['duration', 'protocol_type', 'service', 'flag1', 'src_bytes',\n",
       "       'dst_bytes', 'land', 'wrong_fragment', 'urgent', 'hot',\n",
       "       'num_failed_logins', 'logged_in', 'num_compromised', 'root_shell',\n",
       "       'su_attempted', 'num_root', 'num_file_creations', 'num_shells',\n",
       "       'num_access_files', 'num_outbound_cmds', 'is_host_login',\n",
       "       'is_guest_login', 'count1', 'srv_count', 'serror_rate',\n",
       "       'srv_error_rate', 'rerror_rate', 'srv_rerror_rate', 'same_srv_rate',\n",
       "       'diff_srv_rate', 'srv_diff_host_rate', 'dst_host_count',\n",
       "       'dst_host_srv_count', 'dst_host_same_srv_rate',\n",
       "       'dst_host_diff_srv_rate', 'dst_host_same_src_port_rate',\n",
       "       'dst_host_srv_diff_host_rate', 'dst_host_serror_rate',\n",
       "       'dst_host_srv_serror_rate', 'dst_host_rerror_rate',\n",
       "       'dst_host_srv_rerror_rate', 'Attack'],\n",
       "      dtype='object')"
      ]
     },
     "execution_count": 27,
     "metadata": {},
     "output_type": "execute_result"
    }
   ],
   "source": [
    "copy1.columns"
   ]
  },
  {
   "cell_type": "code",
   "execution_count": 28,
   "id": "542a7742-a7de-447c-b898-caebb87bb0e0",
   "metadata": {
    "tags": []
   },
   "outputs": [
    {
     "data": {
      "text/plain": [
       "11"
      ]
     },
     "execution_count": 28,
     "metadata": {},
     "output_type": "execute_result"
    }
   ],
   "source": [
    "#checking the no of unique vlaues in attack column\n",
    "copy1[\"Attack\"].nunique()"
   ]
  },
  {
   "cell_type": "code",
   "execution_count": 29,
   "id": "43fe37e5-3132-4dbc-a815-1af1b055d147",
   "metadata": {
    "tags": []
   },
   "outputs": [
    {
     "data": {
      "text/plain": [
       "Attack\n",
       "normal            576710\n",
       "neptune           227228\n",
       "satan               5019\n",
       "smurf               3007\n",
       "portsweep           2964\n",
       "nmap                1554\n",
       "back                 968\n",
       "guesspassword         53\n",
       "bufferoverflow        30\n",
       "rootkit               10\n",
       "ftpwriteup             7\n",
       "Name: count, dtype: int64"
      ]
     },
     "execution_count": 29,
     "metadata": {},
     "output_type": "execute_result"
    }
   ],
   "source": [
    "#checking if the data is balanced or not \n",
    "copy1[\"Attack\"].value_counts()"
   ]
  },
  {
   "cell_type": "code",
   "execution_count": 30,
   "id": "8ffff6ee-3cc8-4870-b164-41e164db63fd",
   "metadata": {
    "tags": []
   },
   "outputs": [
    {
     "data": {
      "text/plain": [
       "<Axes: xlabel='Attack'>"
      ]
     },
     "execution_count": 30,
     "metadata": {},
     "output_type": "execute_result"
    },
    {
     "data": {
      "image/png": "[encoded data removed]",
      "text/plain": [
       "<Figure size 640x480 with 1 Axes>"
      ]
     },
     "metadata": {},
     "output_type": "display_data"
    }
   ],
   "source": [
    "copy1[\"Attack\"].value_counts().plot(kind=\"bar\")"
   ]
  },
  {
   "cell_type": "code",
   "execution_count": 31,
   "id": "7606de75-6c43-4993-b883-1b2ad98a926b",
   "metadata": {
    "tags": []
   },
   "outputs": [],
   "source": [
    "#Using pandas groupby, separate the datasets into groups based on their attacks and random sample from each group based on population proportion. The total sample size is 60%(0.6) of the population\n",
    "sample = copy1.groupby('Attack', group_keys=False).apply(lambda x: x.sample(frac=0.6))"
   ]
  },
  {
   "cell_type": "code",
   "execution_count": 32,
   "id": "36956cdb-b54c-4a4f-b5ce-31bf84a5c53e",
   "metadata": {
    "tags": []
   },
   "outputs": [
    {
     "data": {
      "text/plain": [
       "(490529, 42)"
      ]
     },
     "execution_count": 32,
     "metadata": {},
     "output_type": "execute_result"
    }
   ],
   "source": [
    "#checking the shape of our sample dataset\n",
    "sample.shape"
   ]
  },
  {
   "cell_type": "markdown",
   "id": "8de39629-a67d-4671-9348-cd77480a60de",
   "metadata": {},
   "source": [
    "### Balancing the Data & Performing the EDA Analysis"
   ]
  },
  {
   "cell_type": "code",
   "execution_count": 33,
   "id": "0758ef6c-c5ad-470e-96a6-9b166eebfffd",
   "metadata": {
    "tags": []
   },
   "outputs": [
    {
     "data": {
      "text/plain": [
       "Attack\n",
       "normal            70.54\n",
       "neptune           27.79\n",
       "satan              0.61\n",
       "smurf              0.37\n",
       "portsweep          0.36\n",
       "nmap               0.19\n",
       "back               0.12\n",
       "guesspassword      0.01\n",
       "bufferoverflow     0.00\n",
       "rootkit            0.00\n",
       "ftpwriteup         0.00\n",
       "Name: count, dtype: float64"
      ]
     },
     "execution_count": 33,
     "metadata": {},
     "output_type": "execute_result"
    }
   ],
   "source": [
    "#Checking the proportions of the cyber attacks in the sample dataset.\n",
    "((sample['Attack'].value_counts()) / len(sample) * 100).round(2)"
   ]
  },
  {
   "cell_type": "code",
   "execution_count": 34,
   "id": "5aeda0e5-2a9b-4abc-b607-187cc9c45fe4",
   "metadata": {
    "tags": []
   },
   "outputs": [],
   "source": [
    "#checking the proportions of the c yber attacks in the main dataset \n",
    "#((merged_data['Attack'].value_counts()) / len(sample) * 100).round(2)"
   ]
  },
  {
   "cell_type": "code",
   "execution_count": 35,
   "id": "6a22d0fb-7e79-4de1-8ffe-5446c4651ca4",
   "metadata": {
    "tags": []
   },
   "outputs": [],
   "source": [
    "d1=sample.copy()"
   ]
  },
  {
   "cell_type": "code",
   "execution_count": 36,
   "id": "d60dd546-06e3-4b32-8c7d-dc896ebffa7e",
   "metadata": {
    "tags": []
   },
   "outputs": [],
   "source": [
    "import numpy as np\n",
    "sample[\"Attack\"]=np.where(sample[\"Attack\"]=='normal',0,1)"
   ]
  },
  {
   "cell_type": "code",
   "execution_count": 37,
   "id": "72b5473e-1706-4574-9274-0346dc101fba",
   "metadata": {
    "tags": []
   },
   "outputs": [
    {
     "data": {
      "text/plain": [
       "Attack\n",
       "0    346026\n",
       "1    144503\n",
       "Name: count, dtype: int64"
      ]
     },
     "execution_count": 37,
     "metadata": {},
     "output_type": "execute_result"
    }
   ],
   "source": [
    "sample[\"Attack\"].value_counts()"
   ]
  },
  {
   "cell_type": "code",
   "execution_count": 38,
   "id": "dd0a018c-713e-4063-97ae-4043b2772834",
   "metadata": {
    "tags": []
   },
   "outputs": [
    {
     "data": {
      "text/plain": [
       "<Axes: xlabel='Attack'>"
      ]
     },
     "execution_count": 38,
     "metadata": {},
     "output_type": "execute_result"
    },
    {
     "data": {
      "image/png": "[encoded data removed]",
      "text/plain": [
       "<Figure size 640x480 with 1 Axes>"
      ]
     },
     "metadata": {},
     "output_type": "display_data"
    }
   ],
   "source": [
    "sample[\"Attack\"].value_counts().plot(kind=\"bar\",color=[\"red\",\"green\"])"
   ]
  },
  {
   "cell_type": "code",
   "execution_count": 39,
   "id": "d8e76005-0e5c-473d-abef-f8117be76074",
   "metadata": {
    "tags": []
   },
   "outputs": [],
   "source": [
    "#So, we can do Undersampling technique to balance the datasets otherwise As you can see, this model is only predicting 0, which means it’s completely ignoring the minority class in favor of the majority class.\n",
    "df_majority = sample[sample.Attack == 0]\n",
    "df_minority = sample[sample.Attack == 1]"
   ]
  },
  {
   "cell_type": "code",
   "execution_count": 40,
   "id": "88a9ad8d-0517-4cd4-b4b4-3bd17a5747ea",
   "metadata": {
    "tags": []
   },
   "outputs": [],
   "source": [
    "#random_state it's won't shuffle if we run this multiple time \n",
    "df_majority_undersample = df_majority.sample(replace = False, n = 144503, random_state = 123)"
   ]
  },
  {
   "cell_type": "code",
   "execution_count": 41,
   "id": "4e473025-fc38-4bc4-9cfe-b20852a6d432",
   "metadata": {
    "tags": []
   },
   "outputs": [
    {
     "name": "stdout",
     "output_type": "stream",
     "text": [
      "Attack\n",
      "0    144503\n",
      "1    144503\n",
      "Name: count, dtype: int64\n"
     ]
    },
    {
     "data": {
      "text/plain": [
       "(289006, 42)"
      ]
     },
     "execution_count": 41,
     "metadata": {},
     "output_type": "execute_result"
    }
   ],
   "source": [
    "balanced_sample = pd.concat([df_majority_undersample, df_minority])\n",
    "print(balanced_sample.Attack.value_counts())\n",
    "balanced_sample.shape"
   ]
  },
  {
   "cell_type": "code",
   "execution_count": 42,
   "id": "f5b3f786-5c11-4ace-a51b-645adde6dd0b",
   "metadata": {
    "tags": []
   },
   "outputs": [
    {
     "data": {
      "image/png": "[encoded data removed]",
      "text/plain": [
       "<Figure size 800x500 with 1 Axes>"
      ]
     },
     "metadata": {},
     "output_type": "display_data"
    }
   ],
   "source": [
    "import matplotlib.pyplot as plt\n",
    "fig = plt.figure(figsize = (8,5))\n",
    "balanced_sample.Attack.value_counts().plot(kind='bar', color= ['blue','green'], alpha = 0.9, rot=0)\n",
    "plt.title('Distribution of data based on the Binary attacks of our balanced dataset')\n",
    "plt.show()"
   ]
  },
  {
   "cell_type": "code",
   "execution_count": 43,
   "id": "50639545-48aa-47d7-8e82-a607102b6327",
   "metadata": {
    "tags": []
   },
   "outputs": [
    {
     "data": {
      "text/plain": [
       "duration                       0\n",
       "protocol_type                  0\n",
       "service                        0\n",
       "flag1                          0\n",
       "src_bytes                      0\n",
       "dst_bytes                      0\n",
       "land                           0\n",
       "wrong_fragment                 0\n",
       "urgent                         0\n",
       "hot                            0\n",
       "num_failed_logins              0\n",
       "logged_in                      0\n",
       "num_compromised                0\n",
       "root_shell                     0\n",
       "su_attempted                   0\n",
       "num_root                       0\n",
       "num_file_creations             0\n",
       "num_shells                     0\n",
       "num_access_files               0\n",
       "num_outbound_cmds              0\n",
       "is_host_login                  0\n",
       "is_guest_login                 0\n",
       "count1                         0\n",
       "srv_count                      0\n",
       "serror_rate                    0\n",
       "srv_error_rate                 0\n",
       "rerror_rate                    0\n",
       "srv_rerror_rate                0\n",
       "same_srv_rate                  0\n",
       "diff_srv_rate                  0\n",
       "srv_diff_host_rate             0\n",
       "dst_host_count                 0\n",
       "dst_host_srv_count             0\n",
       "dst_host_same_srv_rate         0\n",
       "dst_host_diff_srv_rate         0\n",
       "dst_host_same_src_port_rate    0\n",
       "dst_host_srv_diff_host_rate    0\n",
       "dst_host_serror_rate           0\n",
       "dst_host_srv_serror_rate       0\n",
       "dst_host_rerror_rate           0\n",
       "dst_host_srv_rerror_rate       0\n",
       "Attack                         0\n",
       "dtype: int64"
      ]
     },
     "execution_count": 43,
     "metadata": {},
     "output_type": "execute_result"
    }
   ],
   "source": [
    "#checking the null values \n",
    "balanced_sample.isnull().sum()"
   ]
  },
  {
   "cell_type": "code",
   "execution_count": 44,
   "id": "130f02ce-c29f-4897-8866-b6541053310d",
   "metadata": {
    "tags": []
   },
   "outputs": [
    {
     "data": {
      "text/plain": [
       "0"
      ]
     },
     "execution_count": 44,
     "metadata": {},
     "output_type": "execute_result"
    }
   ],
   "source": [
    "#checking the duplicate values \n",
    "balanced_sample.duplicated().sum()"
   ]
  },
  {
   "cell_type": "code",
   "execution_count": 45,
   "id": "18c9dfaa-5735-4717-b793-d426cea8915c",
   "metadata": {
    "tags": []
   },
   "outputs": [],
   "source": [
    "#removing the duplicate value from our dataset \n",
    "balanced_sample.drop_duplicates(inplace=True)"
   ]
  },
  {
   "cell_type": "code",
   "execution_count": 46,
   "id": "1dd06a78-4292-4ab7-89fd-539a7bfd5b6f",
   "metadata": {
    "tags": []
   },
   "outputs": [
    {
     "data": {
      "text/html": [
       "<div>\n",
       "<style scoped>\n",
       "    .dataframe tbody tr th:only-of-type {\n",
       "        vertical-align: middle;\n",
       "    }\n",
       "\n",
       "    .dataframe tbody tr th {\n",
       "        vertical-align: top;\n",
       "    }\n",
       "\n",
       "    .dataframe thead th {\n",
       "        text-align: right;\n",
       "    }\n",
       "</style>\n",
       "<table border=\"1\" class=\"dataframe\">\n",
       "  <thead>\n",
       "    <tr style=\"text-align: right;\">\n",
       "      <th></th>\n",
       "      <th>duration</th>\n",
       "      <th>protocol_type</th>\n",
       "      <th>service</th>\n",
       "      <th>flag1</th>\n",
       "      <th>src_bytes</th>\n",
       "      <th>dst_bytes</th>\n",
       "      <th>land</th>\n",
       "      <th>wrong_fragment</th>\n",
       "      <th>urgent</th>\n",
       "      <th>hot</th>\n",
       "      <th>...</th>\n",
       "      <th>dst_host_srv_count</th>\n",
       "      <th>dst_host_same_srv_rate</th>\n",
       "      <th>dst_host_diff_srv_rate</th>\n",
       "      <th>dst_host_same_src_port_rate</th>\n",
       "      <th>dst_host_srv_diff_host_rate</th>\n",
       "      <th>dst_host_serror_rate</th>\n",
       "      <th>dst_host_srv_serror_rate</th>\n",
       "      <th>dst_host_rerror_rate</th>\n",
       "      <th>dst_host_srv_rerror_rate</th>\n",
       "      <th>Attack</th>\n",
       "    </tr>\n",
       "  </thead>\n",
       "  <tbody>\n",
       "    <tr>\n",
       "      <th>count</th>\n",
       "      <td>289006.000000</td>\n",
       "      <td>289006.000000</td>\n",
       "      <td>289006.000000</td>\n",
       "      <td>289006.000000</td>\n",
       "      <td>289006.000000</td>\n",
       "      <td>289006.000000</td>\n",
       "      <td>289006.0</td>\n",
       "      <td>289006.0</td>\n",
       "      <td>289006.000000</td>\n",
       "      <td>289006.000000</td>\n",
       "      <td>...</td>\n",
       "      <td>289006.000000</td>\n",
       "      <td>289006.000000</td>\n",
       "      <td>289006.000000</td>\n",
       "      <td>289006.000000</td>\n",
       "      <td>289006.000000</td>\n",
       "      <td>289006.000000</td>\n",
       "      <td>289006.000000</td>\n",
       "      <td>289006.000000</td>\n",
       "      <td>289006.000000</td>\n",
       "      <td>289006.000000</td>\n",
       "    </tr>\n",
       "    <tr>\n",
       "      <th>mean</th>\n",
       "      <td>0.001048</td>\n",
       "      <td>0.000519</td>\n",
       "      <td>0.084005</td>\n",
       "      <td>0.033447</td>\n",
       "      <td>0.004222</td>\n",
       "      <td>0.017799</td>\n",
       "      <td>0.0</td>\n",
       "      <td>0.0</td>\n",
       "      <td>0.000003</td>\n",
       "      <td>0.001959</td>\n",
       "      <td>...</td>\n",
       "      <td>0.118749</td>\n",
       "      <td>0.049146</td>\n",
       "      <td>0.004919</td>\n",
       "      <td>0.005164</td>\n",
       "      <td>0.001235</td>\n",
       "      <td>0.042075</td>\n",
       "      <td>0.042125</td>\n",
       "      <td>0.007548</td>\n",
       "      <td>0.007493</td>\n",
       "      <td>0.500000</td>\n",
       "    </tr>\n",
       "    <tr>\n",
       "      <th>std</th>\n",
       "      <td>0.029639</td>\n",
       "      <td>0.002615</td>\n",
       "      <td>0.113484</td>\n",
       "      <td>0.034039</td>\n",
       "      <td>0.034174</td>\n",
       "      <td>0.057407</td>\n",
       "      <td>0.0</td>\n",
       "      <td>0.0</td>\n",
       "      <td>0.000696</td>\n",
       "      <td>0.034960</td>\n",
       "      <td>...</td>\n",
       "      <td>0.116320</td>\n",
       "      <td>0.046320</td>\n",
       "      <td>0.010028</td>\n",
       "      <td>0.016888</td>\n",
       "      <td>0.003390</td>\n",
       "      <td>0.049211</td>\n",
       "      <td>0.049328</td>\n",
       "      <td>0.025798</td>\n",
       "      <td>0.026136</td>\n",
       "      <td>0.500001</td>\n",
       "    </tr>\n",
       "    <tr>\n",
       "      <th>min</th>\n",
       "      <td>0.000000</td>\n",
       "      <td>0.000000</td>\n",
       "      <td>0.000000</td>\n",
       "      <td>0.000000</td>\n",
       "      <td>0.000000</td>\n",
       "      <td>0.000000</td>\n",
       "      <td>0.0</td>\n",
       "      <td>0.0</td>\n",
       "      <td>0.000000</td>\n",
       "      <td>0.000000</td>\n",
       "      <td>...</td>\n",
       "      <td>0.000000</td>\n",
       "      <td>0.000000</td>\n",
       "      <td>0.000000</td>\n",
       "      <td>0.000000</td>\n",
       "      <td>0.000000</td>\n",
       "      <td>0.000000</td>\n",
       "      <td>0.000000</td>\n",
       "      <td>0.000000</td>\n",
       "      <td>0.000000</td>\n",
       "      <td>0.000000</td>\n",
       "    </tr>\n",
       "    <tr>\n",
       "      <th>25%</th>\n",
       "      <td>0.000000</td>\n",
       "      <td>0.000000</td>\n",
       "      <td>0.000000</td>\n",
       "      <td>0.000000</td>\n",
       "      <td>0.000000</td>\n",
       "      <td>0.000000</td>\n",
       "      <td>0.0</td>\n",
       "      <td>0.0</td>\n",
       "      <td>0.000000</td>\n",
       "      <td>0.000000</td>\n",
       "      <td>...</td>\n",
       "      <td>0.010000</td>\n",
       "      <td>0.004000</td>\n",
       "      <td>0.000000</td>\n",
       "      <td>0.000000</td>\n",
       "      <td>0.000000</td>\n",
       "      <td>0.000000</td>\n",
       "      <td>0.000000</td>\n",
       "      <td>0.000000</td>\n",
       "      <td>0.000000</td>\n",
       "      <td>0.000000</td>\n",
       "    </tr>\n",
       "    <tr>\n",
       "      <th>50%</th>\n",
       "      <td>0.000000</td>\n",
       "      <td>0.000000</td>\n",
       "      <td>0.080000</td>\n",
       "      <td>0.000000</td>\n",
       "      <td>0.000060</td>\n",
       "      <td>0.000000</td>\n",
       "      <td>0.0</td>\n",
       "      <td>0.0</td>\n",
       "      <td>0.000000</td>\n",
       "      <td>0.000000</td>\n",
       "      <td>...</td>\n",
       "      <td>0.029000</td>\n",
       "      <td>0.023000</td>\n",
       "      <td>0.005000</td>\n",
       "      <td>0.000000</td>\n",
       "      <td>0.000000</td>\n",
       "      <td>0.000000</td>\n",
       "      <td>0.000000</td>\n",
       "      <td>0.000000</td>\n",
       "      <td>0.000000</td>\n",
       "      <td>0.500000</td>\n",
       "    </tr>\n",
       "    <tr>\n",
       "      <th>75%</th>\n",
       "      <td>0.000000</td>\n",
       "      <td>0.000000</td>\n",
       "      <td>0.120000</td>\n",
       "      <td>0.070000</td>\n",
       "      <td>0.002550</td>\n",
       "      <td>0.010970</td>\n",
       "      <td>0.0</td>\n",
       "      <td>0.0</td>\n",
       "      <td>0.000000</td>\n",
       "      <td>0.000000</td>\n",
       "      <td>...</td>\n",
       "      <td>0.255000</td>\n",
       "      <td>0.100000</td>\n",
       "      <td>0.007000</td>\n",
       "      <td>0.001000</td>\n",
       "      <td>0.001000</td>\n",
       "      <td>0.100000</td>\n",
       "      <td>0.100000</td>\n",
       "      <td>0.000000</td>\n",
       "      <td>0.000000</td>\n",
       "      <td>1.000000</td>\n",
       "    </tr>\n",
       "    <tr>\n",
       "      <th>max</th>\n",
       "      <td>1.000000</td>\n",
       "      <td>0.020000</td>\n",
       "      <td>0.670000</td>\n",
       "      <td>0.100000</td>\n",
       "      <td>1.000000</td>\n",
       "      <td>1.000000</td>\n",
       "      <td>0.0</td>\n",
       "      <td>0.0</td>\n",
       "      <td>0.200000</td>\n",
       "      <td>1.000000</td>\n",
       "      <td>...</td>\n",
       "      <td>0.255000</td>\n",
       "      <td>0.100000</td>\n",
       "      <td>0.100000</td>\n",
       "      <td>0.100000</td>\n",
       "      <td>0.100000</td>\n",
       "      <td>0.100000</td>\n",
       "      <td>0.100000</td>\n",
       "      <td>0.100000</td>\n",
       "      <td>0.100000</td>\n",
       "      <td>1.000000</td>\n",
       "    </tr>\n",
       "  </tbody>\n",
       "</table>\n",
       "<p>8 rows × 42 columns</p>\n",
       "</div>"
      ],
      "text/plain": [
       "            duration  protocol_type        service          flag1  \\\n",
       "count  289006.000000  289006.000000  289006.000000  289006.000000   \n",
       "mean        0.001048       0.000519       0.084005       0.033447   \n",
       "std         0.029639       0.002615       0.113484       0.034039   \n",
       "min         0.000000       0.000000       0.000000       0.000000   \n",
       "25%         0.000000       0.000000       0.000000       0.000000   \n",
       "50%         0.000000       0.000000       0.080000       0.000000   \n",
       "75%         0.000000       0.000000       0.120000       0.070000   \n",
       "max         1.000000       0.020000       0.670000       0.100000   \n",
       "\n",
       "           src_bytes      dst_bytes      land  wrong_fragment         urgent  \\\n",
       "count  289006.000000  289006.000000  289006.0        289006.0  289006.000000   \n",
       "mean        0.004222       0.017799       0.0             0.0       0.000003   \n",
       "std         0.034174       0.057407       0.0             0.0       0.000696   \n",
       "min         0.000000       0.000000       0.0             0.0       0.000000   \n",
       "25%         0.000000       0.000000       0.0             0.0       0.000000   \n",
       "50%         0.000060       0.000000       0.0             0.0       0.000000   \n",
       "75%         0.002550       0.010970       0.0             0.0       0.000000   \n",
       "max         1.000000       1.000000       0.0             0.0       0.200000   \n",
       "\n",
       "                 hot  ...  dst_host_srv_count  dst_host_same_srv_rate  \\\n",
       "count  289006.000000  ...       289006.000000           289006.000000   \n",
       "mean        0.001959  ...            0.118749                0.049146   \n",
       "std         0.034960  ...            0.116320                0.046320   \n",
       "min         0.000000  ...            0.000000                0.000000   \n",
       "25%         0.000000  ...            0.010000                0.004000   \n",
       "50%         0.000000  ...            0.029000                0.023000   \n",
       "75%         0.000000  ...            0.255000                0.100000   \n",
       "max         1.000000  ...            0.255000                0.100000   \n",
       "\n",
       "       dst_host_diff_srv_rate  dst_host_same_src_port_rate  \\\n",
       "count           289006.000000                289006.000000   \n",
       "mean                 0.004919                     0.005164   \n",
       "std                  0.010028                     0.016888   \n",
       "min                  0.000000                     0.000000   \n",
       "25%                  0.000000                     0.000000   \n",
       "50%                  0.005000                     0.000000   \n",
       "75%                  0.007000                     0.001000   \n",
       "max                  0.100000                     0.100000   \n",
       "\n",
       "       dst_host_srv_diff_host_rate  dst_host_serror_rate  \\\n",
       "count                289006.000000         289006.000000   \n",
       "mean                      0.001235              0.042075   \n",
       "std                       0.003390              0.049211   \n",
       "min                       0.000000              0.000000   \n",
       "25%                       0.000000              0.000000   \n",
       "50%                       0.000000              0.000000   \n",
       "75%                       0.001000              0.100000   \n",
       "max                       0.100000              0.100000   \n",
       "\n",
       "       dst_host_srv_serror_rate  dst_host_rerror_rate  \\\n",
       "count             289006.000000         289006.000000   \n",
       "mean                   0.042125              0.007548   \n",
       "std                    0.049328              0.025798   \n",
       "min                    0.000000              0.000000   \n",
       "25%                    0.000000              0.000000   \n",
       "50%                    0.000000              0.000000   \n",
       "75%                    0.100000              0.000000   \n",
       "max                    0.100000              0.100000   \n",
       "\n",
       "       dst_host_srv_rerror_rate         Attack  \n",
       "count             289006.000000  289006.000000  \n",
       "mean                   0.007493       0.500000  \n",
       "std                    0.026136       0.500001  \n",
       "min                    0.000000       0.000000  \n",
       "25%                    0.000000       0.000000  \n",
       "50%                    0.000000       0.500000  \n",
       "75%                    0.000000       1.000000  \n",
       "max                    0.100000       1.000000  \n",
       "\n",
       "[8 rows x 42 columns]"
      ]
     },
     "execution_count": 46,
     "metadata": {},
     "output_type": "execute_result"
    }
   ],
   "source": [
    "#checking our statistical data \n",
    "balanced_sample.describe()"
   ]
  },
  {
   "cell_type": "code",
   "execution_count": 47,
   "id": "a7d03ca9-df70-460a-b895-4656e2da574a",
   "metadata": {
    "tags": []
   },
   "outputs": [
    {
     "data": {
      "text/html": [
       "<div>\n",
       "<style scoped>\n",
       "    .dataframe tbody tr th:only-of-type {\n",
       "        vertical-align: middle;\n",
       "    }\n",
       "\n",
       "    .dataframe tbody tr th {\n",
       "        vertical-align: top;\n",
       "    }\n",
       "\n",
       "    .dataframe thead th {\n",
       "        text-align: right;\n",
       "    }\n",
       "</style>\n",
       "<table border=\"1\" class=\"dataframe\">\n",
       "  <thead>\n",
       "    <tr style=\"text-align: right;\">\n",
       "      <th></th>\n",
       "      <th>duration</th>\n",
       "      <th>protocol_type</th>\n",
       "      <th>service</th>\n",
       "      <th>flag1</th>\n",
       "      <th>src_bytes</th>\n",
       "      <th>dst_bytes</th>\n",
       "      <th>land</th>\n",
       "      <th>wrong_fragment</th>\n",
       "      <th>urgent</th>\n",
       "      <th>hot</th>\n",
       "      <th>...</th>\n",
       "      <th>dst_host_srv_count</th>\n",
       "      <th>dst_host_same_srv_rate</th>\n",
       "      <th>dst_host_diff_srv_rate</th>\n",
       "      <th>dst_host_same_src_port_rate</th>\n",
       "      <th>dst_host_srv_diff_host_rate</th>\n",
       "      <th>dst_host_serror_rate</th>\n",
       "      <th>dst_host_srv_serror_rate</th>\n",
       "      <th>dst_host_rerror_rate</th>\n",
       "      <th>dst_host_srv_rerror_rate</th>\n",
       "      <th>Attack</th>\n",
       "    </tr>\n",
       "  </thead>\n",
       "  <tbody>\n",
       "    <tr>\n",
       "      <th>duration</th>\n",
       "      <td>1.000000</td>\n",
       "      <td>0.002801</td>\n",
       "      <td>0.015386</td>\n",
       "      <td>0.025646</td>\n",
       "      <td>0.018565</td>\n",
       "      <td>0.046832</td>\n",
       "      <td>NaN</td>\n",
       "      <td>NaN</td>\n",
       "      <td>0.012436</td>\n",
       "      <td>0.010236</td>\n",
       "      <td>...</td>\n",
       "      <td>0.030796</td>\n",
       "      <td>0.027784</td>\n",
       "      <td>0.115788</td>\n",
       "      <td>0.103195</td>\n",
       "      <td>0.001661</td>\n",
       "      <td>0.028814</td>\n",
       "      <td>0.029185</td>\n",
       "      <td>0.065457</td>\n",
       "      <td>0.084940</td>\n",
       "      <td>0.010483</td>\n",
       "    </tr>\n",
       "    <tr>\n",
       "      <th>protocol_type</th>\n",
       "      <td>0.002801</td>\n",
       "      <td>1.000000</td>\n",
       "      <td>0.050086</td>\n",
       "      <td>0.194894</td>\n",
       "      <td>0.010178</td>\n",
       "      <td>0.060261</td>\n",
       "      <td>NaN</td>\n",
       "      <td>NaN</td>\n",
       "      <td>0.000986</td>\n",
       "      <td>0.011117</td>\n",
       "      <td>...</td>\n",
       "      <td>0.067419</td>\n",
       "      <td>0.110440</td>\n",
       "      <td>0.008325</td>\n",
       "      <td>0.427841</td>\n",
       "      <td>0.068157</td>\n",
       "      <td>0.167599</td>\n",
       "      <td>0.169383</td>\n",
       "      <td>0.037527</td>\n",
       "      <td>0.056862</td>\n",
       "      <td>0.039045</td>\n",
       "    </tr>\n",
       "    <tr>\n",
       "      <th>service</th>\n",
       "      <td>0.015386</td>\n",
       "      <td>0.050086</td>\n",
       "      <td>1.000000</td>\n",
       "      <td>0.652180</td>\n",
       "      <td>0.043754</td>\n",
       "      <td>0.223206</td>\n",
       "      <td>NaN</td>\n",
       "      <td>NaN</td>\n",
       "      <td>0.002322</td>\n",
       "      <td>0.016368</td>\n",
       "      <td>...</td>\n",
       "      <td>0.654871</td>\n",
       "      <td>0.674102</td>\n",
       "      <td>0.247171</td>\n",
       "      <td>0.085832</td>\n",
       "      <td>0.231627</td>\n",
       "      <td>0.591070</td>\n",
       "      <td>0.590831</td>\n",
       "      <td>0.126053</td>\n",
       "      <td>0.128463</td>\n",
       "      <td>0.664722</td>\n",
       "    </tr>\n",
       "    <tr>\n",
       "      <th>flag1</th>\n",
       "      <td>0.025646</td>\n",
       "      <td>0.194894</td>\n",
       "      <td>0.652180</td>\n",
       "      <td>1.000000</td>\n",
       "      <td>0.114190</td>\n",
       "      <td>0.302703</td>\n",
       "      <td>NaN</td>\n",
       "      <td>NaN</td>\n",
       "      <td>0.004885</td>\n",
       "      <td>0.052614</td>\n",
       "      <td>...</td>\n",
       "      <td>0.884618</td>\n",
       "      <td>0.915682</td>\n",
       "      <td>0.335919</td>\n",
       "      <td>0.217809</td>\n",
       "      <td>0.285173</td>\n",
       "      <td>0.914403</td>\n",
       "      <td>0.916709</td>\n",
       "      <td>0.144421</td>\n",
       "      <td>0.151765</td>\n",
       "      <td>0.949313</td>\n",
       "    </tr>\n",
       "    <tr>\n",
       "      <th>src_bytes</th>\n",
       "      <td>0.018565</td>\n",
       "      <td>0.010178</td>\n",
       "      <td>0.043754</td>\n",
       "      <td>0.114190</td>\n",
       "      <td>1.000000</td>\n",
       "      <td>0.038798</td>\n",
       "      <td>NaN</td>\n",
       "      <td>NaN</td>\n",
       "      <td>0.000304</td>\n",
       "      <td>0.176675</td>\n",
       "      <td>...</td>\n",
       "      <td>0.031677</td>\n",
       "      <td>0.070190</td>\n",
       "      <td>0.019499</td>\n",
       "      <td>0.068892</td>\n",
       "      <td>0.003422</td>\n",
       "      <td>0.104408</td>\n",
       "      <td>0.104905</td>\n",
       "      <td>0.025643</td>\n",
       "      <td>0.026552</td>\n",
       "      <td>0.056096</td>\n",
       "    </tr>\n",
       "    <tr>\n",
       "      <th>dst_bytes</th>\n",
       "      <td>0.046832</td>\n",
       "      <td>0.060261</td>\n",
       "      <td>0.223206</td>\n",
       "      <td>0.302703</td>\n",
       "      <td>0.038798</td>\n",
       "      <td>1.000000</td>\n",
       "      <td>NaN</td>\n",
       "      <td>NaN</td>\n",
       "      <td>0.048243</td>\n",
       "      <td>0.024173</td>\n",
       "      <td>...</td>\n",
       "      <td>0.317637</td>\n",
       "      <td>0.319927</td>\n",
       "      <td>0.139719</td>\n",
       "      <td>0.042197</td>\n",
       "      <td>0.106071</td>\n",
       "      <td>0.263516</td>\n",
       "      <td>0.263839</td>\n",
       "      <td>0.086750</td>\n",
       "      <td>0.084237</td>\n",
       "      <td>0.303729</td>\n",
       "    </tr>\n",
       "    <tr>\n",
       "      <th>land</th>\n",
       "      <td>NaN</td>\n",
       "      <td>NaN</td>\n",
       "      <td>NaN</td>\n",
       "      <td>NaN</td>\n",
       "      <td>NaN</td>\n",
       "      <td>NaN</td>\n",
       "      <td>NaN</td>\n",
       "      <td>NaN</td>\n",
       "      <td>NaN</td>\n",
       "      <td>NaN</td>\n",
       "      <td>...</td>\n",
       "      <td>NaN</td>\n",
       "      <td>NaN</td>\n",
       "      <td>NaN</td>\n",
       "      <td>NaN</td>\n",
       "      <td>NaN</td>\n",
       "      <td>NaN</td>\n",
       "      <td>NaN</td>\n",
       "      <td>NaN</td>\n",
       "      <td>NaN</td>\n",
       "      <td>NaN</td>\n",
       "    </tr>\n",
       "    <tr>\n",
       "      <th>wrong_fragment</th>\n",
       "      <td>NaN</td>\n",
       "      <td>NaN</td>\n",
       "      <td>NaN</td>\n",
       "      <td>NaN</td>\n",
       "      <td>NaN</td>\n",
       "      <td>NaN</td>\n",
       "      <td>NaN</td>\n",
       "      <td>NaN</td>\n",
       "      <td>NaN</td>\n",
       "      <td>NaN</td>\n",
       "      <td>...</td>\n",
       "      <td>NaN</td>\n",
       "      <td>NaN</td>\n",
       "      <td>NaN</td>\n",
       "      <td>NaN</td>\n",
       "      <td>NaN</td>\n",
       "      <td>NaN</td>\n",
       "      <td>NaN</td>\n",
       "      <td>NaN</td>\n",
       "      <td>NaN</td>\n",
       "      <td>NaN</td>\n",
       "    </tr>\n",
       "    <tr>\n",
       "      <th>urgent</th>\n",
       "      <td>0.012436</td>\n",
       "      <td>0.000986</td>\n",
       "      <td>0.002322</td>\n",
       "      <td>0.004885</td>\n",
       "      <td>0.000304</td>\n",
       "      <td>0.048243</td>\n",
       "      <td>NaN</td>\n",
       "      <td>NaN</td>\n",
       "      <td>1.000000</td>\n",
       "      <td>0.005410</td>\n",
       "      <td>...</td>\n",
       "      <td>0.005003</td>\n",
       "      <td>0.003590</td>\n",
       "      <td>0.013128</td>\n",
       "      <td>0.002925</td>\n",
       "      <td>0.001811</td>\n",
       "      <td>0.004251</td>\n",
       "      <td>0.004246</td>\n",
       "      <td>0.001455</td>\n",
       "      <td>0.001425</td>\n",
       "      <td>0.000994</td>\n",
       "    </tr>\n",
       "    <tr>\n",
       "      <th>hot</th>\n",
       "      <td>0.010236</td>\n",
       "      <td>0.011117</td>\n",
       "      <td>0.016368</td>\n",
       "      <td>0.052614</td>\n",
       "      <td>0.176675</td>\n",
       "      <td>0.024173</td>\n",
       "      <td>NaN</td>\n",
       "      <td>NaN</td>\n",
       "      <td>0.005410</td>\n",
       "      <td>1.000000</td>\n",
       "      <td>...</td>\n",
       "      <td>0.023804</td>\n",
       "      <td>0.000252</td>\n",
       "      <td>0.004366</td>\n",
       "      <td>0.003905</td>\n",
       "      <td>0.014977</td>\n",
       "      <td>0.047396</td>\n",
       "      <td>0.047490</td>\n",
       "      <td>0.010726</td>\n",
       "      <td>0.010933</td>\n",
       "      <td>0.032295</td>\n",
       "    </tr>\n",
       "    <tr>\n",
       "      <th>num_failed_logins</th>\n",
       "      <td>0.029522</td>\n",
       "      <td>0.002348</td>\n",
       "      <td>0.003277</td>\n",
       "      <td>0.000669</td>\n",
       "      <td>0.000765</td>\n",
       "      <td>0.005289</td>\n",
       "      <td>NaN</td>\n",
       "      <td>NaN</td>\n",
       "      <td>0.000059</td>\n",
       "      <td>0.021285</td>\n",
       "      <td>...</td>\n",
       "      <td>0.009822</td>\n",
       "      <td>0.004894</td>\n",
       "      <td>0.001500</td>\n",
       "      <td>0.000495</td>\n",
       "      <td>0.004312</td>\n",
       "      <td>0.008402</td>\n",
       "      <td>0.008314</td>\n",
       "      <td>0.021164</td>\n",
       "      <td>0.020756</td>\n",
       "      <td>0.002192</td>\n",
       "    </tr>\n",
       "    <tr>\n",
       "      <th>logged_in</th>\n",
       "      <td>0.013186</td>\n",
       "      <td>0.180875</td>\n",
       "      <td>0.628432</td>\n",
       "      <td>0.893705</td>\n",
       "      <td>0.109781</td>\n",
       "      <td>0.338225</td>\n",
       "      <td>NaN</td>\n",
       "      <td>NaN</td>\n",
       "      <td>0.005452</td>\n",
       "      <td>0.060509</td>\n",
       "      <td>...</td>\n",
       "      <td>0.869670</td>\n",
       "      <td>0.881010</td>\n",
       "      <td>0.354509</td>\n",
       "      <td>0.060785</td>\n",
       "      <td>0.226976</td>\n",
       "      <td>0.776712</td>\n",
       "      <td>0.777352</td>\n",
       "      <td>0.254711</td>\n",
       "      <td>0.252593</td>\n",
       "      <td>0.902990</td>\n",
       "    </tr>\n",
       "    <tr>\n",
       "      <th>num_compromised</th>\n",
       "      <td>0.207172</td>\n",
       "      <td>0.006183</td>\n",
       "      <td>0.016561</td>\n",
       "      <td>0.028407</td>\n",
       "      <td>0.262588</td>\n",
       "      <td>0.133264</td>\n",
       "      <td>NaN</td>\n",
       "      <td>NaN</td>\n",
       "      <td>0.268215</td>\n",
       "      <td>0.116408</td>\n",
       "      <td>...</td>\n",
       "      <td>0.008762</td>\n",
       "      <td>0.009048</td>\n",
       "      <td>0.000874</td>\n",
       "      <td>0.002808</td>\n",
       "      <td>0.008843</td>\n",
       "      <td>0.022975</td>\n",
       "      <td>0.024530</td>\n",
       "      <td>0.004761</td>\n",
       "      <td>0.003549</td>\n",
       "      <td>0.003981</td>\n",
       "    </tr>\n",
       "    <tr>\n",
       "      <th>root_shell</th>\n",
       "      <td>0.088303</td>\n",
       "      <td>0.003300</td>\n",
       "      <td>0.008633</td>\n",
       "      <td>0.015495</td>\n",
       "      <td>0.001902</td>\n",
       "      <td>0.071171</td>\n",
       "      <td>NaN</td>\n",
       "      <td>NaN</td>\n",
       "      <td>0.149343</td>\n",
       "      <td>0.047855</td>\n",
       "      <td>...</td>\n",
       "      <td>0.003507</td>\n",
       "      <td>0.008408</td>\n",
       "      <td>0.000570</td>\n",
       "      <td>0.004075</td>\n",
       "      <td>0.021059</td>\n",
       "      <td>0.013483</td>\n",
       "      <td>0.013371</td>\n",
       "      <td>0.003297</td>\n",
       "      <td>0.003616</td>\n",
       "      <td>0.011648</td>\n",
       "    </tr>\n",
       "    <tr>\n",
       "      <th>su_attempted</th>\n",
       "      <td>0.175659</td>\n",
       "      <td>0.001708</td>\n",
       "      <td>0.002813</td>\n",
       "      <td>0.007941</td>\n",
       "      <td>0.001759</td>\n",
       "      <td>0.101773</td>\n",
       "      <td>NaN</td>\n",
       "      <td>NaN</td>\n",
       "      <td>0.253714</td>\n",
       "      <td>0.003306</td>\n",
       "      <td>...</td>\n",
       "      <td>0.007450</td>\n",
       "      <td>0.005461</td>\n",
       "      <td>0.003020</td>\n",
       "      <td>0.000633</td>\n",
       "      <td>0.012819</td>\n",
       "      <td>0.006258</td>\n",
       "      <td>0.006296</td>\n",
       "      <td>0.002134</td>\n",
       "      <td>0.001438</td>\n",
       "      <td>0.008610</td>\n",
       "    </tr>\n",
       "    <tr>\n",
       "      <th>num_root</th>\n",
       "      <td>0.058232</td>\n",
       "      <td>0.007859</td>\n",
       "      <td>0.015991</td>\n",
       "      <td>0.038762</td>\n",
       "      <td>0.009869</td>\n",
       "      <td>0.027250</td>\n",
       "      <td>NaN</td>\n",
       "      <td>NaN</td>\n",
       "      <td>0.107825</td>\n",
       "      <td>0.001005</td>\n",
       "      <td>...</td>\n",
       "      <td>0.019891</td>\n",
       "      <td>0.017615</td>\n",
       "      <td>0.026393</td>\n",
       "      <td>0.050242</td>\n",
       "      <td>0.020099</td>\n",
       "      <td>0.033244</td>\n",
       "      <td>0.033220</td>\n",
       "      <td>0.005744</td>\n",
       "      <td>0.010548</td>\n",
       "      <td>0.038920</td>\n",
       "    </tr>\n",
       "    <tr>\n",
       "      <th>num_file_creations</th>\n",
       "      <td>0.280717</td>\n",
       "      <td>0.004144</td>\n",
       "      <td>0.005531</td>\n",
       "      <td>0.020188</td>\n",
       "      <td>0.025922</td>\n",
       "      <td>0.052854</td>\n",
       "      <td>NaN</td>\n",
       "      <td>NaN</td>\n",
       "      <td>0.087363</td>\n",
       "      <td>0.025957</td>\n",
       "      <td>...</td>\n",
       "      <td>0.009984</td>\n",
       "      <td>0.005914</td>\n",
       "      <td>0.011125</td>\n",
       "      <td>0.006855</td>\n",
       "      <td>0.011445</td>\n",
       "      <td>0.015660</td>\n",
       "      <td>0.015673</td>\n",
       "      <td>0.002691</td>\n",
       "      <td>0.004122</td>\n",
       "      <td>0.019865</td>\n",
       "    </tr>\n",
       "    <tr>\n",
       "      <th>num_shells</th>\n",
       "      <td>0.000798</td>\n",
       "      <td>0.002307</td>\n",
       "      <td>0.004939</td>\n",
       "      <td>0.011429</td>\n",
       "      <td>0.013015</td>\n",
       "      <td>0.002750</td>\n",
       "      <td>NaN</td>\n",
       "      <td>NaN</td>\n",
       "      <td>0.000058</td>\n",
       "      <td>0.004217</td>\n",
       "      <td>...</td>\n",
       "      <td>0.004002</td>\n",
       "      <td>0.001550</td>\n",
       "      <td>0.000047</td>\n",
       "      <td>0.024211</td>\n",
       "      <td>0.001956</td>\n",
       "      <td>0.009737</td>\n",
       "      <td>0.009312</td>\n",
       "      <td>0.003249</td>\n",
       "      <td>0.003334</td>\n",
       "      <td>0.011631</td>\n",
       "    </tr>\n",
       "    <tr>\n",
       "      <th>num_access_files</th>\n",
       "      <td>0.091656</td>\n",
       "      <td>0.009358</td>\n",
       "      <td>0.031252</td>\n",
       "      <td>0.046322</td>\n",
       "      <td>0.006625</td>\n",
       "      <td>0.040193</td>\n",
       "      <td>NaN</td>\n",
       "      <td>NaN</td>\n",
       "      <td>0.016992</td>\n",
       "      <td>0.002301</td>\n",
       "      <td>...</td>\n",
       "      <td>0.030161</td>\n",
       "      <td>0.035294</td>\n",
       "      <td>0.005619</td>\n",
       "      <td>0.007589</td>\n",
       "      <td>0.000492</td>\n",
       "      <td>0.039766</td>\n",
       "      <td>0.039984</td>\n",
       "      <td>0.012115</td>\n",
       "      <td>0.012415</td>\n",
       "      <td>0.046938</td>\n",
       "    </tr>\n",
       "    <tr>\n",
       "      <th>num_outbound_cmds</th>\n",
       "      <td>NaN</td>\n",
       "      <td>NaN</td>\n",
       "      <td>NaN</td>\n",
       "      <td>NaN</td>\n",
       "      <td>NaN</td>\n",
       "      <td>NaN</td>\n",
       "      <td>NaN</td>\n",
       "      <td>NaN</td>\n",
       "      <td>NaN</td>\n",
       "      <td>NaN</td>\n",
       "      <td>...</td>\n",
       "      <td>NaN</td>\n",
       "      <td>NaN</td>\n",
       "      <td>NaN</td>\n",
       "      <td>NaN</td>\n",
       "      <td>NaN</td>\n",
       "      <td>NaN</td>\n",
       "      <td>NaN</td>\n",
       "      <td>NaN</td>\n",
       "      <td>NaN</td>\n",
       "      <td>NaN</td>\n",
       "    </tr>\n",
       "    <tr>\n",
       "      <th>is_host_login</th>\n",
       "      <td>NaN</td>\n",
       "      <td>NaN</td>\n",
       "      <td>NaN</td>\n",
       "      <td>NaN</td>\n",
       "      <td>NaN</td>\n",
       "      <td>NaN</td>\n",
       "      <td>NaN</td>\n",
       "      <td>NaN</td>\n",
       "      <td>NaN</td>\n",
       "      <td>NaN</td>\n",
       "      <td>...</td>\n",
       "      <td>NaN</td>\n",
       "      <td>NaN</td>\n",
       "      <td>NaN</td>\n",
       "      <td>NaN</td>\n",
       "      <td>NaN</td>\n",
       "      <td>NaN</td>\n",
       "      <td>NaN</td>\n",
       "      <td>NaN</td>\n",
       "      <td>NaN</td>\n",
       "      <td>NaN</td>\n",
       "    </tr>\n",
       "    <tr>\n",
       "      <th>is_guest_login</th>\n",
       "      <td>0.004633</td>\n",
       "      <td>0.008755</td>\n",
       "      <td>0.005447</td>\n",
       "      <td>0.043372</td>\n",
       "      <td>0.002249</td>\n",
       "      <td>0.000029</td>\n",
       "      <td>NaN</td>\n",
       "      <td>NaN</td>\n",
       "      <td>0.000219</td>\n",
       "      <td>0.894830</td>\n",
       "      <td>...</td>\n",
       "      <td>0.033206</td>\n",
       "      <td>0.018900</td>\n",
       "      <td>0.012952</td>\n",
       "      <td>0.006237</td>\n",
       "      <td>0.015500</td>\n",
       "      <td>0.037679</td>\n",
       "      <td>0.037695</td>\n",
       "      <td>0.010681</td>\n",
       "      <td>0.011104</td>\n",
       "      <td>0.043983</td>\n",
       "    </tr>\n",
       "    <tr>\n",
       "      <th>count1</th>\n",
       "      <td>0.031021</td>\n",
       "      <td>0.037575</td>\n",
       "      <td>0.552205</td>\n",
       "      <td>0.752616</td>\n",
       "      <td>0.097899</td>\n",
       "      <td>0.256068</td>\n",
       "      <td>NaN</td>\n",
       "      <td>NaN</td>\n",
       "      <td>0.004399</td>\n",
       "      <td>0.048968</td>\n",
       "      <td>...</td>\n",
       "      <td>0.707385</td>\n",
       "      <td>0.741049</td>\n",
       "      <td>0.378152</td>\n",
       "      <td>0.152657</td>\n",
       "      <td>0.305721</td>\n",
       "      <td>0.676549</td>\n",
       "      <td>0.683345</td>\n",
       "      <td>0.178763</td>\n",
       "      <td>0.159601</td>\n",
       "      <td>0.797603</td>\n",
       "    </tr>\n",
       "    <tr>\n",
       "      <th>srv_count</th>\n",
       "      <td>0.012372</td>\n",
       "      <td>0.598692</td>\n",
       "      <td>0.026641</td>\n",
       "      <td>0.110058</td>\n",
       "      <td>0.008643</td>\n",
       "      <td>0.036893</td>\n",
       "      <td>NaN</td>\n",
       "      <td>NaN</td>\n",
       "      <td>0.001851</td>\n",
       "      <td>0.019251</td>\n",
       "      <td>...</td>\n",
       "      <td>0.093423</td>\n",
       "      <td>0.089054</td>\n",
       "      <td>0.061306</td>\n",
       "      <td>0.200095</td>\n",
       "      <td>0.053684</td>\n",
       "      <td>0.085140</td>\n",
       "      <td>0.087213</td>\n",
       "      <td>0.043989</td>\n",
       "      <td>0.050694</td>\n",
       "      <td>0.019196</td>\n",
       "    </tr>\n",
       "    <tr>\n",
       "      <th>serror_rate</th>\n",
       "      <td>0.030192</td>\n",
       "      <td>0.169356</td>\n",
       "      <td>0.590833</td>\n",
       "      <td>0.915168</td>\n",
       "      <td>0.104481</td>\n",
       "      <td>0.263036</td>\n",
       "      <td>NaN</td>\n",
       "      <td>NaN</td>\n",
       "      <td>0.004246</td>\n",
       "      <td>0.047321</td>\n",
       "      <td>...</td>\n",
       "      <td>0.786939</td>\n",
       "      <td>0.820877</td>\n",
       "      <td>0.184761</td>\n",
       "      <td>0.249752</td>\n",
       "      <td>0.305977</td>\n",
       "      <td>0.998367</td>\n",
       "      <td>0.996032</td>\n",
       "      <td>0.244504</td>\n",
       "      <td>0.240612</td>\n",
       "      <td>0.851045</td>\n",
       "    </tr>\n",
       "    <tr>\n",
       "      <th>srv_error_rate</th>\n",
       "      <td>0.030252</td>\n",
       "      <td>0.169670</td>\n",
       "      <td>0.590442</td>\n",
       "      <td>0.916489</td>\n",
       "      <td>0.104531</td>\n",
       "      <td>0.263276</td>\n",
       "      <td>NaN</td>\n",
       "      <td>NaN</td>\n",
       "      <td>0.004253</td>\n",
       "      <td>0.047340</td>\n",
       "      <td>...</td>\n",
       "      <td>0.787766</td>\n",
       "      <td>0.821785</td>\n",
       "      <td>0.204108</td>\n",
       "      <td>0.249672</td>\n",
       "      <td>0.306310</td>\n",
       "      <td>0.995405</td>\n",
       "      <td>0.999051</td>\n",
       "      <td>0.238036</td>\n",
       "      <td>0.244759</td>\n",
       "      <td>0.851757</td>\n",
       "    </tr>\n",
       "    <tr>\n",
       "      <th>rerror_rate</th>\n",
       "      <td>0.086434</td>\n",
       "      <td>0.057433</td>\n",
       "      <td>0.127982</td>\n",
       "      <td>0.161609</td>\n",
       "      <td>0.025021</td>\n",
       "      <td>0.086851</td>\n",
       "      <td>NaN</td>\n",
       "      <td>NaN</td>\n",
       "      <td>0.001440</td>\n",
       "      <td>0.011636</td>\n",
       "      <td>...</td>\n",
       "      <td>0.208303</td>\n",
       "      <td>0.199688</td>\n",
       "      <td>0.313342</td>\n",
       "      <td>0.050050</td>\n",
       "      <td>0.070305</td>\n",
       "      <td>0.241288</td>\n",
       "      <td>0.234141</td>\n",
       "      <td>0.975147</td>\n",
       "      <td>0.980077</td>\n",
       "      <td>0.207310</td>\n",
       "    </tr>\n",
       "    <tr>\n",
       "      <th>srv_rerror_rate</th>\n",
       "      <td>0.087593</td>\n",
       "      <td>0.056960</td>\n",
       "      <td>0.126601</td>\n",
       "      <td>0.154528</td>\n",
       "      <td>0.016641</td>\n",
       "      <td>0.084025</td>\n",
       "      <td>NaN</td>\n",
       "      <td>NaN</td>\n",
       "      <td>0.001428</td>\n",
       "      <td>0.008762</td>\n",
       "      <td>...</td>\n",
       "      <td>0.204062</td>\n",
       "      <td>0.195207</td>\n",
       "      <td>0.277927</td>\n",
       "      <td>0.049237</td>\n",
       "      <td>0.066146</td>\n",
       "      <td>0.240612</td>\n",
       "      <td>0.244429</td>\n",
       "      <td>0.961548</td>\n",
       "      <td>0.988687</td>\n",
       "      <td>0.204019</td>\n",
       "    </tr>\n",
       "    <tr>\n",
       "      <th>same_srv_rate</th>\n",
       "      <td>0.033468</td>\n",
       "      <td>0.168293</td>\n",
       "      <td>0.662525</td>\n",
       "      <td>0.950773</td>\n",
       "      <td>0.117272</td>\n",
       "      <td>0.299134</td>\n",
       "      <td>NaN</td>\n",
       "      <td>NaN</td>\n",
       "      <td>0.004803</td>\n",
       "      <td>0.052097</td>\n",
       "      <td>...</td>\n",
       "      <td>0.894524</td>\n",
       "      <td>0.932803</td>\n",
       "      <td>0.338078</td>\n",
       "      <td>0.255351</td>\n",
       "      <td>0.345153</td>\n",
       "      <td>0.864137</td>\n",
       "      <td>0.866054</td>\n",
       "      <td>0.195945</td>\n",
       "      <td>0.191244</td>\n",
       "      <td>0.956898</td>\n",
       "    </tr>\n",
       "    <tr>\n",
       "      <th>diff_srv_rate</th>\n",
       "      <td>0.009247</td>\n",
       "      <td>0.030212</td>\n",
       "      <td>0.209309</td>\n",
       "      <td>0.306318</td>\n",
       "      <td>0.036020</td>\n",
       "      <td>0.121580</td>\n",
       "      <td>NaN</td>\n",
       "      <td>NaN</td>\n",
       "      <td>0.001992</td>\n",
       "      <td>0.008440</td>\n",
       "      <td>...</td>\n",
       "      <td>0.354374</td>\n",
       "      <td>0.364962</td>\n",
       "      <td>0.654295</td>\n",
       "      <td>0.029343</td>\n",
       "      <td>0.110083</td>\n",
       "      <td>0.194932</td>\n",
       "      <td>0.213366</td>\n",
       "      <td>0.227392</td>\n",
       "      <td>0.225810</td>\n",
       "      <td>0.339631</td>\n",
       "    </tr>\n",
       "    <tr>\n",
       "      <th>srv_diff_host_rate</th>\n",
       "      <td>0.010427</td>\n",
       "      <td>0.132375</td>\n",
       "      <td>0.237161</td>\n",
       "      <td>0.326647</td>\n",
       "      <td>0.053677</td>\n",
       "      <td>0.051379</td>\n",
       "      <td>NaN</td>\n",
       "      <td>NaN</td>\n",
       "      <td>0.001759</td>\n",
       "      <td>0.004086</td>\n",
       "      <td>...</td>\n",
       "      <td>0.250975</td>\n",
       "      <td>0.286704</td>\n",
       "      <td>0.097042</td>\n",
       "      <td>0.123878</td>\n",
       "      <td>0.189287</td>\n",
       "      <td>0.298713</td>\n",
       "      <td>0.299975</td>\n",
       "      <td>0.052896</td>\n",
       "      <td>0.054871</td>\n",
       "      <td>0.329409</td>\n",
       "    </tr>\n",
       "    <tr>\n",
       "      <th>dst_host_count</th>\n",
       "      <td>0.001233</td>\n",
       "      <td>0.002012</td>\n",
       "      <td>0.433603</td>\n",
       "      <td>0.601157</td>\n",
       "      <td>0.076554</td>\n",
       "      <td>0.244915</td>\n",
       "      <td>NaN</td>\n",
       "      <td>NaN</td>\n",
       "      <td>0.001595</td>\n",
       "      <td>0.038516</td>\n",
       "      <td>...</td>\n",
       "      <td>0.539308</td>\n",
       "      <td>0.613663</td>\n",
       "      <td>0.208814</td>\n",
       "      <td>0.348871</td>\n",
       "      <td>0.544368</td>\n",
       "      <td>0.558680</td>\n",
       "      <td>0.559601</td>\n",
       "      <td>0.083668</td>\n",
       "      <td>0.083518</td>\n",
       "      <td>0.632740</td>\n",
       "    </tr>\n",
       "    <tr>\n",
       "      <th>dst_host_srv_count</th>\n",
       "      <td>0.030796</td>\n",
       "      <td>0.067419</td>\n",
       "      <td>0.654871</td>\n",
       "      <td>0.884618</td>\n",
       "      <td>0.031677</td>\n",
       "      <td>0.317637</td>\n",
       "      <td>NaN</td>\n",
       "      <td>NaN</td>\n",
       "      <td>0.005003</td>\n",
       "      <td>0.023804</td>\n",
       "      <td>...</td>\n",
       "      <td>1.000000</td>\n",
       "      <td>0.964554</td>\n",
       "      <td>0.419729</td>\n",
       "      <td>0.115372</td>\n",
       "      <td>0.253073</td>\n",
       "      <td>0.788299</td>\n",
       "      <td>0.788888</td>\n",
       "      <td>0.207947</td>\n",
       "      <td>0.206481</td>\n",
       "      <td>0.899983</td>\n",
       "    </tr>\n",
       "    <tr>\n",
       "      <th>dst_host_same_srv_rate</th>\n",
       "      <td>0.027784</td>\n",
       "      <td>0.110440</td>\n",
       "      <td>0.674102</td>\n",
       "      <td>0.915682</td>\n",
       "      <td>0.070190</td>\n",
       "      <td>0.319927</td>\n",
       "      <td>NaN</td>\n",
       "      <td>NaN</td>\n",
       "      <td>0.003590</td>\n",
       "      <td>0.000252</td>\n",
       "      <td>...</td>\n",
       "      <td>0.964554</td>\n",
       "      <td>1.000000</td>\n",
       "      <td>0.424314</td>\n",
       "      <td>0.183058</td>\n",
       "      <td>0.314057</td>\n",
       "      <td>0.822338</td>\n",
       "      <td>0.822824</td>\n",
       "      <td>0.199283</td>\n",
       "      <td>0.197267</td>\n",
       "      <td>0.929023</td>\n",
       "    </tr>\n",
       "    <tr>\n",
       "      <th>dst_host_diff_srv_rate</th>\n",
       "      <td>0.115788</td>\n",
       "      <td>0.008325</td>\n",
       "      <td>0.247171</td>\n",
       "      <td>0.335919</td>\n",
       "      <td>0.019499</td>\n",
       "      <td>0.139719</td>\n",
       "      <td>NaN</td>\n",
       "      <td>NaN</td>\n",
       "      <td>0.013128</td>\n",
       "      <td>0.004366</td>\n",
       "      <td>...</td>\n",
       "      <td>0.419729</td>\n",
       "      <td>0.424314</td>\n",
       "      <td>1.000000</td>\n",
       "      <td>0.106877</td>\n",
       "      <td>0.118092</td>\n",
       "      <td>0.186550</td>\n",
       "      <td>0.204425</td>\n",
       "      <td>0.326141</td>\n",
       "      <td>0.279882</td>\n",
       "      <td>0.375015</td>\n",
       "    </tr>\n",
       "    <tr>\n",
       "      <th>dst_host_same_src_port_rate</th>\n",
       "      <td>0.103195</td>\n",
       "      <td>0.427841</td>\n",
       "      <td>0.085832</td>\n",
       "      <td>0.217809</td>\n",
       "      <td>0.068892</td>\n",
       "      <td>0.042197</td>\n",
       "      <td>NaN</td>\n",
       "      <td>NaN</td>\n",
       "      <td>0.002925</td>\n",
       "      <td>0.003905</td>\n",
       "      <td>...</td>\n",
       "      <td>0.115372</td>\n",
       "      <td>0.183058</td>\n",
       "      <td>0.106877</td>\n",
       "      <td>1.000000</td>\n",
       "      <td>0.270412</td>\n",
       "      <td>0.250782</td>\n",
       "      <td>0.250077</td>\n",
       "      <td>0.052336</td>\n",
       "      <td>0.049422</td>\n",
       "      <td>0.140051</td>\n",
       "    </tr>\n",
       "    <tr>\n",
       "      <th>dst_host_srv_diff_host_rate</th>\n",
       "      <td>0.001661</td>\n",
       "      <td>0.068157</td>\n",
       "      <td>0.231627</td>\n",
       "      <td>0.285173</td>\n",
       "      <td>0.003422</td>\n",
       "      <td>0.106071</td>\n",
       "      <td>NaN</td>\n",
       "      <td>NaN</td>\n",
       "      <td>0.001811</td>\n",
       "      <td>0.014977</td>\n",
       "      <td>...</td>\n",
       "      <td>0.253073</td>\n",
       "      <td>0.314057</td>\n",
       "      <td>0.118092</td>\n",
       "      <td>0.270412</td>\n",
       "      <td>1.000000</td>\n",
       "      <td>0.306309</td>\n",
       "      <td>0.307544</td>\n",
       "      <td>0.076076</td>\n",
       "      <td>0.074683</td>\n",
       "      <td>0.328098</td>\n",
       "    </tr>\n",
       "    <tr>\n",
       "      <th>dst_host_serror_rate</th>\n",
       "      <td>0.028814</td>\n",
       "      <td>0.167599</td>\n",
       "      <td>0.591070</td>\n",
       "      <td>0.914403</td>\n",
       "      <td>0.104408</td>\n",
       "      <td>0.263516</td>\n",
       "      <td>NaN</td>\n",
       "      <td>NaN</td>\n",
       "      <td>0.004251</td>\n",
       "      <td>0.047396</td>\n",
       "      <td>...</td>\n",
       "      <td>0.788299</td>\n",
       "      <td>0.822338</td>\n",
       "      <td>0.186550</td>\n",
       "      <td>0.250782</td>\n",
       "      <td>0.306309</td>\n",
       "      <td>1.000000</td>\n",
       "      <td>0.995750</td>\n",
       "      <td>0.244576</td>\n",
       "      <td>0.240513</td>\n",
       "      <td>0.851433</td>\n",
       "    </tr>\n",
       "    <tr>\n",
       "      <th>dst_host_srv_serror_rate</th>\n",
       "      <td>0.029185</td>\n",
       "      <td>0.169383</td>\n",
       "      <td>0.590831</td>\n",
       "      <td>0.916709</td>\n",
       "      <td>0.104905</td>\n",
       "      <td>0.263839</td>\n",
       "      <td>NaN</td>\n",
       "      <td>NaN</td>\n",
       "      <td>0.004246</td>\n",
       "      <td>0.047490</td>\n",
       "      <td>...</td>\n",
       "      <td>0.788888</td>\n",
       "      <td>0.822824</td>\n",
       "      <td>0.204425</td>\n",
       "      <td>0.250077</td>\n",
       "      <td>0.307544</td>\n",
       "      <td>0.995750</td>\n",
       "      <td>1.000000</td>\n",
       "      <td>0.237675</td>\n",
       "      <td>0.244342</td>\n",
       "      <td>0.852470</td>\n",
       "    </tr>\n",
       "    <tr>\n",
       "      <th>dst_host_rerror_rate</th>\n",
       "      <td>0.065457</td>\n",
       "      <td>0.037527</td>\n",
       "      <td>0.126053</td>\n",
       "      <td>0.144421</td>\n",
       "      <td>0.025643</td>\n",
       "      <td>0.086750</td>\n",
       "      <td>NaN</td>\n",
       "      <td>NaN</td>\n",
       "      <td>0.001455</td>\n",
       "      <td>0.010726</td>\n",
       "      <td>...</td>\n",
       "      <td>0.207947</td>\n",
       "      <td>0.199283</td>\n",
       "      <td>0.326141</td>\n",
       "      <td>0.052336</td>\n",
       "      <td>0.076076</td>\n",
       "      <td>0.244576</td>\n",
       "      <td>0.237675</td>\n",
       "      <td>1.000000</td>\n",
       "      <td>0.966065</td>\n",
       "      <td>0.203529</td>\n",
       "    </tr>\n",
       "    <tr>\n",
       "      <th>dst_host_srv_rerror_rate</th>\n",
       "      <td>0.084940</td>\n",
       "      <td>0.056862</td>\n",
       "      <td>0.128463</td>\n",
       "      <td>0.151765</td>\n",
       "      <td>0.026552</td>\n",
       "      <td>0.084237</td>\n",
       "      <td>NaN</td>\n",
       "      <td>NaN</td>\n",
       "      <td>0.001425</td>\n",
       "      <td>0.010933</td>\n",
       "      <td>...</td>\n",
       "      <td>0.206481</td>\n",
       "      <td>0.197267</td>\n",
       "      <td>0.279882</td>\n",
       "      <td>0.049422</td>\n",
       "      <td>0.074683</td>\n",
       "      <td>0.240513</td>\n",
       "      <td>0.244342</td>\n",
       "      <td>0.966065</td>\n",
       "      <td>1.000000</td>\n",
       "      <td>0.204418</td>\n",
       "    </tr>\n",
       "    <tr>\n",
       "      <th>Attack</th>\n",
       "      <td>0.010483</td>\n",
       "      <td>0.039045</td>\n",
       "      <td>0.664722</td>\n",
       "      <td>0.949313</td>\n",
       "      <td>0.056096</td>\n",
       "      <td>0.303729</td>\n",
       "      <td>NaN</td>\n",
       "      <td>NaN</td>\n",
       "      <td>0.000994</td>\n",
       "      <td>0.032295</td>\n",
       "      <td>...</td>\n",
       "      <td>0.899983</td>\n",
       "      <td>0.929023</td>\n",
       "      <td>0.375015</td>\n",
       "      <td>0.140051</td>\n",
       "      <td>0.328098</td>\n",
       "      <td>0.851433</td>\n",
       "      <td>0.852470</td>\n",
       "      <td>0.203529</td>\n",
       "      <td>0.204418</td>\n",
       "      <td>1.000000</td>\n",
       "    </tr>\n",
       "  </tbody>\n",
       "</table>\n",
       "<p>42 rows × 42 columns</p>\n",
       "</div>"
      ],
      "text/plain": [
       "                             duration  protocol_type   service     flag1  \\\n",
       "duration                     1.000000       0.002801  0.015386  0.025646   \n",
       "protocol_type                0.002801       1.000000  0.050086  0.194894   \n",
       "service                      0.015386       0.050086  1.000000  0.652180   \n",
       "flag1                        0.025646       0.194894  0.652180  1.000000   \n",
       "src_bytes                    0.018565       0.010178  0.043754  0.114190   \n",
       "dst_bytes                    0.046832       0.060261  0.223206  0.302703   \n",
       "land                              NaN            NaN       NaN       NaN   \n",
       "wrong_fragment                    NaN            NaN       NaN       NaN   \n",
       "urgent                       0.012436       0.000986  0.002322  0.004885   \n",
       "hot                          0.010236       0.011117  0.016368  0.052614   \n",
       "num_failed_logins            0.029522       0.002348  0.003277  0.000669   \n",
       "logged_in                    0.013186       0.180875  0.628432  0.893705   \n",
       "num_compromised              0.207172       0.006183  0.016561  0.028407   \n",
       "root_shell                   0.088303       0.003300  0.008633  0.015495   \n",
       "su_attempted                 0.175659       0.001708  0.002813  0.007941   \n",
       "num_root                     0.058232       0.007859  0.015991  0.038762   \n",
       "num_file_creations           0.280717       0.004144  0.005531  0.020188   \n",
       "num_shells                   0.000798       0.002307  0.004939  0.011429   \n",
       "num_access_files             0.091656       0.009358  0.031252  0.046322   \n",
       "num_outbound_cmds                 NaN            NaN       NaN       NaN   \n",
       "is_host_login                     NaN            NaN       NaN       NaN   \n",
       "is_guest_login               0.004633       0.008755  0.005447  0.043372   \n",
       "count1                       0.031021       0.037575  0.552205  0.752616   \n",
       "srv_count                    0.012372       0.598692  0.026641  0.110058   \n",
       "serror_rate                  0.030192       0.169356  0.590833  0.915168   \n",
       "srv_error_rate               0.030252       0.169670  0.590442  0.916489   \n",
       "rerror_rate                  0.086434       0.057433  0.127982  0.161609   \n",
       "srv_rerror_rate              0.087593       0.056960  0.126601  0.154528   \n",
       "same_srv_rate                0.033468       0.168293  0.662525  0.950773   \n",
       "diff_srv_rate                0.009247       0.030212  0.209309  0.306318   \n",
       "srv_diff_host_rate           0.010427       0.132375  0.237161  0.326647   \n",
       "dst_host_count               0.001233       0.002012  0.433603  0.601157   \n",
       "dst_host_srv_count           0.030796       0.067419  0.654871  0.884618   \n",
       "dst_host_same_srv_rate       0.027784       0.110440  0.674102  0.915682   \n",
       "dst_host_diff_srv_rate       0.115788       0.008325  0.247171  0.335919   \n",
       "dst_host_same_src_port_rate  0.103195       0.427841  0.085832  0.217809   \n",
       "dst_host_srv_diff_host_rate  0.001661       0.068157  0.231627  0.285173   \n",
       "dst_host_serror_rate         0.028814       0.167599  0.591070  0.914403   \n",
       "dst_host_srv_serror_rate     0.029185       0.169383  0.590831  0.916709   \n",
       "dst_host_rerror_rate         0.065457       0.037527  0.126053  0.144421   \n",
       "dst_host_srv_rerror_rate     0.084940       0.056862  0.128463  0.151765   \n",
       "Attack                       0.010483       0.039045  0.664722  0.949313   \n",
       "\n",
       "                             src_bytes  dst_bytes  land  wrong_fragment  \\\n",
       "duration                      0.018565   0.046832   NaN             NaN   \n",
       "protocol_type                 0.010178   0.060261   NaN             NaN   \n",
       "service                       0.043754   0.223206   NaN             NaN   \n",
       "flag1                         0.114190   0.302703   NaN             NaN   \n",
       "src_bytes                     1.000000   0.038798   NaN             NaN   \n",
       "dst_bytes                     0.038798   1.000000   NaN             NaN   \n",
       "land                               NaN        NaN   NaN             NaN   \n",
       "wrong_fragment                     NaN        NaN   NaN             NaN   \n",
       "urgent                        0.000304   0.048243   NaN             NaN   \n",
       "hot                           0.176675   0.024173   NaN             NaN   \n",
       "num_failed_logins             0.000765   0.005289   NaN             NaN   \n",
       "logged_in                     0.109781   0.338225   NaN             NaN   \n",
       "num_compromised               0.262588   0.133264   NaN             NaN   \n",
       "root_shell                    0.001902   0.071171   NaN             NaN   \n",
       "su_attempted                  0.001759   0.101773   NaN             NaN   \n",
       "num_root                      0.009869   0.027250   NaN             NaN   \n",
       "num_file_creations            0.025922   0.052854   NaN             NaN   \n",
       "num_shells                    0.013015   0.002750   NaN             NaN   \n",
       "num_access_files              0.006625   0.040193   NaN             NaN   \n",
       "num_outbound_cmds                  NaN        NaN   NaN             NaN   \n",
       "is_host_login                      NaN        NaN   NaN             NaN   \n",
       "is_guest_login                0.002249   0.000029   NaN             NaN   \n",
       "count1                        0.097899   0.256068   NaN             NaN   \n",
       "srv_count                     0.008643   0.036893   NaN             NaN   \n",
       "serror_rate                   0.104481   0.263036   NaN             NaN   \n",
       "srv_error_rate                0.104531   0.263276   NaN             NaN   \n",
       "rerror_rate                   0.025021   0.086851   NaN             NaN   \n",
       "srv_rerror_rate               0.016641   0.084025   NaN             NaN   \n",
       "same_srv_rate                 0.117272   0.299134   NaN             NaN   \n",
       "diff_srv_rate                 0.036020   0.121580   NaN             NaN   \n",
       "srv_diff_host_rate            0.053677   0.051379   NaN             NaN   \n",
       "dst_host_count                0.076554   0.244915   NaN             NaN   \n",
       "dst_host_srv_count            0.031677   0.317637   NaN             NaN   \n",
       "dst_host_same_srv_rate        0.070190   0.319927   NaN             NaN   \n",
       "dst_host_diff_srv_rate        0.019499   0.139719   NaN             NaN   \n",
       "dst_host_same_src_port_rate   0.068892   0.042197   NaN             NaN   \n",
       "dst_host_srv_diff_host_rate   0.003422   0.106071   NaN             NaN   \n",
       "dst_host_serror_rate          0.104408   0.263516   NaN             NaN   \n",
       "dst_host_srv_serror_rate      0.104905   0.263839   NaN             NaN   \n",
       "dst_host_rerror_rate          0.025643   0.086750   NaN             NaN   \n",
       "dst_host_srv_rerror_rate      0.026552   0.084237   NaN             NaN   \n",
       "Attack                        0.056096   0.303729   NaN             NaN   \n",
       "\n",
       "                               urgent       hot  ...  dst_host_srv_count  \\\n",
       "duration                     0.012436  0.010236  ...            0.030796   \n",
       "protocol_type                0.000986  0.011117  ...            0.067419   \n",
       "service                      0.002322  0.016368  ...            0.654871   \n",
       "flag1                        0.004885  0.052614  ...            0.884618   \n",
       "src_bytes                    0.000304  0.176675  ...            0.031677   \n",
       "dst_bytes                    0.048243  0.024173  ...            0.317637   \n",
       "land                              NaN       NaN  ...                 NaN   \n",
       "wrong_fragment                    NaN       NaN  ...                 NaN   \n",
       "urgent                       1.000000  0.005410  ...            0.005003   \n",
       "hot                          0.005410  1.000000  ...            0.023804   \n",
       "num_failed_logins            0.000059  0.021285  ...            0.009822   \n",
       "logged_in                    0.005452  0.060509  ...            0.869670   \n",
       "num_compromised              0.268215  0.116408  ...            0.008762   \n",
       "root_shell                   0.149343  0.047855  ...            0.003507   \n",
       "su_attempted                 0.253714  0.003306  ...            0.007450   \n",
       "num_root                     0.107825  0.001005  ...            0.019891   \n",
       "num_file_creations           0.087363  0.025957  ...            0.009984   \n",
       "num_shells                   0.000058  0.004217  ...            0.004002   \n",
       "num_access_files             0.016992  0.002301  ...            0.030161   \n",
       "num_outbound_cmds                 NaN       NaN  ...                 NaN   \n",
       "is_host_login                     NaN       NaN  ...                 NaN   \n",
       "is_guest_login               0.000219  0.894830  ...            0.033206   \n",
       "count1                       0.004399  0.048968  ...            0.707385   \n",
       "srv_count                    0.001851  0.019251  ...            0.093423   \n",
       "serror_rate                  0.004246  0.047321  ...            0.786939   \n",
       "srv_error_rate               0.004253  0.047340  ...            0.787766   \n",
       "rerror_rate                  0.001440  0.011636  ...            0.208303   \n",
       "srv_rerror_rate              0.001428  0.008762  ...            0.204062   \n",
       "same_srv_rate                0.004803  0.052097  ...            0.894524   \n",
       "diff_srv_rate                0.001992  0.008440  ...            0.354374   \n",
       "srv_diff_host_rate           0.001759  0.004086  ...            0.250975   \n",
       "dst_host_count               0.001595  0.038516  ...            0.539308   \n",
       "dst_host_srv_count           0.005003  0.023804  ...            1.000000   \n",
       "dst_host_same_srv_rate       0.003590  0.000252  ...            0.964554   \n",
       "dst_host_diff_srv_rate       0.013128  0.004366  ...            0.419729   \n",
       "dst_host_same_src_port_rate  0.002925  0.003905  ...            0.115372   \n",
       "dst_host_srv_diff_host_rate  0.001811  0.014977  ...            0.253073   \n",
       "dst_host_serror_rate         0.004251  0.047396  ...            0.788299   \n",
       "dst_host_srv_serror_rate     0.004246  0.047490  ...            0.788888   \n",
       "dst_host_rerror_rate         0.001455  0.010726  ...            0.207947   \n",
       "dst_host_srv_rerror_rate     0.001425  0.010933  ...            0.206481   \n",
       "Attack                       0.000994  0.032295  ...            0.899983   \n",
       "\n",
       "                             dst_host_same_srv_rate  dst_host_diff_srv_rate  \\\n",
       "duration                                   0.027784                0.115788   \n",
       "protocol_type                              0.110440                0.008325   \n",
       "service                                    0.674102                0.247171   \n",
       "flag1                                      0.915682                0.335919   \n",
       "src_bytes                                  0.070190                0.019499   \n",
       "dst_bytes                                  0.319927                0.139719   \n",
       "land                                            NaN                     NaN   \n",
       "wrong_fragment                                  NaN                     NaN   \n",
       "urgent                                     0.003590                0.013128   \n",
       "hot                                        0.000252                0.004366   \n",
       "num_failed_logins                          0.004894                0.001500   \n",
       "logged_in                                  0.881010                0.354509   \n",
       "num_compromised                            0.009048                0.000874   \n",
       "root_shell                                 0.008408                0.000570   \n",
       "su_attempted                               0.005461                0.003020   \n",
       "num_root                                   0.017615                0.026393   \n",
       "num_file_creations                         0.005914                0.011125   \n",
       "num_shells                                 0.001550                0.000047   \n",
       "num_access_files                           0.035294                0.005619   \n",
       "num_outbound_cmds                               NaN                     NaN   \n",
       "is_host_login                                   NaN                     NaN   \n",
       "is_guest_login                             0.018900                0.012952   \n",
       "count1                                     0.741049                0.378152   \n",
       "srv_count                                  0.089054                0.061306   \n",
       "serror_rate                                0.820877                0.184761   \n",
       "srv_error_rate                             0.821785                0.204108   \n",
       "rerror_rate                                0.199688                0.313342   \n",
       "srv_rerror_rate                            0.195207                0.277927   \n",
       "same_srv_rate                              0.932803                0.338078   \n",
       "diff_srv_rate                              0.364962                0.654295   \n",
       "srv_diff_host_rate                         0.286704                0.097042   \n",
       "dst_host_count                             0.613663                0.208814   \n",
       "dst_host_srv_count                         0.964554                0.419729   \n",
       "dst_host_same_srv_rate                     1.000000                0.424314   \n",
       "dst_host_diff_srv_rate                     0.424314                1.000000   \n",
       "dst_host_same_src_port_rate                0.183058                0.106877   \n",
       "dst_host_srv_diff_host_rate                0.314057                0.118092   \n",
       "dst_host_serror_rate                       0.822338                0.186550   \n",
       "dst_host_srv_serror_rate                   0.822824                0.204425   \n",
       "dst_host_rerror_rate                       0.199283                0.326141   \n",
       "dst_host_srv_rerror_rate                   0.197267                0.279882   \n",
       "Attack                                     0.929023                0.375015   \n",
       "\n",
       "                             dst_host_same_src_port_rate  \\\n",
       "duration                                        0.103195   \n",
       "protocol_type                                   0.427841   \n",
       "service                                         0.085832   \n",
       "flag1                                           0.217809   \n",
       "src_bytes                                       0.068892   \n",
       "dst_bytes                                       0.042197   \n",
       "land                                                 NaN   \n",
       "wrong_fragment                                       NaN   \n",
       "urgent                                          0.002925   \n",
       "hot                                             0.003905   \n",
       "num_failed_logins                               0.000495   \n",
       "logged_in                                       0.060785   \n",
       "num_compromised                                 0.002808   \n",
       "root_shell                                      0.004075   \n",
       "su_attempted                                    0.000633   \n",
       "num_root                                        0.050242   \n",
       "num_file_creations                              0.006855   \n",
       "num_shells                                      0.024211   \n",
       "num_access_files                                0.007589   \n",
       "num_outbound_cmds                                    NaN   \n",
       "is_host_login                                        NaN   \n",
       "is_guest_login                                  0.006237   \n",
       "count1                                          0.152657   \n",
       "srv_count                                       0.200095   \n",
       "serror_rate                                     0.249752   \n",
       "srv_error_rate                                  0.249672   \n",
       "rerror_rate                                     0.050050   \n",
       "srv_rerror_rate                                 0.049237   \n",
       "same_srv_rate                                   0.255351   \n",
       "diff_srv_rate                                   0.029343   \n",
       "srv_diff_host_rate                              0.123878   \n",
       "dst_host_count                                  0.348871   \n",
       "dst_host_srv_count                              0.115372   \n",
       "dst_host_same_srv_rate                          0.183058   \n",
       "dst_host_diff_srv_rate                          0.106877   \n",
       "dst_host_same_src_port_rate                     1.000000   \n",
       "dst_host_srv_diff_host_rate                     0.270412   \n",
       "dst_host_serror_rate                            0.250782   \n",
       "dst_host_srv_serror_rate                        0.250077   \n",
       "dst_host_rerror_rate                            0.052336   \n",
       "dst_host_srv_rerror_rate                        0.049422   \n",
       "Attack                                          0.140051   \n",
       "\n",
       "                             dst_host_srv_diff_host_rate  \\\n",
       "duration                                        0.001661   \n",
       "protocol_type                                   0.068157   \n",
       "service                                         0.231627   \n",
       "flag1                                           0.285173   \n",
       "src_bytes                                       0.003422   \n",
       "dst_bytes                                       0.106071   \n",
       "land                                                 NaN   \n",
       "wrong_fragment                                       NaN   \n",
       "urgent                                          0.001811   \n",
       "hot                                             0.014977   \n",
       "num_failed_logins                               0.004312   \n",
       "logged_in                                       0.226976   \n",
       "num_compromised                                 0.008843   \n",
       "root_shell                                      0.021059   \n",
       "su_attempted                                    0.012819   \n",
       "num_root                                        0.020099   \n",
       "num_file_creations                              0.011445   \n",
       "num_shells                                      0.001956   \n",
       "num_access_files                                0.000492   \n",
       "num_outbound_cmds                                    NaN   \n",
       "is_host_login                                        NaN   \n",
       "is_guest_login                                  0.015500   \n",
       "count1                                          0.305721   \n",
       "srv_count                                       0.053684   \n",
       "serror_rate                                     0.305977   \n",
       "srv_error_rate                                  0.306310   \n",
       "rerror_rate                                     0.070305   \n",
       "srv_rerror_rate                                 0.066146   \n",
       "same_srv_rate                                   0.345153   \n",
       "diff_srv_rate                                   0.110083   \n",
       "srv_diff_host_rate                              0.189287   \n",
       "dst_host_count                                  0.544368   \n",
       "dst_host_srv_count                              0.253073   \n",
       "dst_host_same_srv_rate                          0.314057   \n",
       "dst_host_diff_srv_rate                          0.118092   \n",
       "dst_host_same_src_port_rate                     0.270412   \n",
       "dst_host_srv_diff_host_rate                     1.000000   \n",
       "dst_host_serror_rate                            0.306309   \n",
       "dst_host_srv_serror_rate                        0.307544   \n",
       "dst_host_rerror_rate                            0.076076   \n",
       "dst_host_srv_rerror_rate                        0.074683   \n",
       "Attack                                          0.328098   \n",
       "\n",
       "                             dst_host_serror_rate  dst_host_srv_serror_rate  \\\n",
       "duration                                 0.028814                  0.029185   \n",
       "protocol_type                            0.167599                  0.169383   \n",
       "service                                  0.591070                  0.590831   \n",
       "flag1                                    0.914403                  0.916709   \n",
       "src_bytes                                0.104408                  0.104905   \n",
       "dst_bytes                                0.263516                  0.263839   \n",
       "land                                          NaN                       NaN   \n",
       "wrong_fragment                                NaN                       NaN   \n",
       "urgent                                   0.004251                  0.004246   \n",
       "hot                                      0.047396                  0.047490   \n",
       "num_failed_logins                        0.008402                  0.008314   \n",
       "logged_in                                0.776712                  0.777352   \n",
       "num_compromised                          0.022975                  0.024530   \n",
       "root_shell                               0.013483                  0.013371   \n",
       "su_attempted                             0.006258                  0.006296   \n",
       "num_root                                 0.033244                  0.033220   \n",
       "num_file_creations                       0.015660                  0.015673   \n",
       "num_shells                               0.009737                  0.009312   \n",
       "num_access_files                         0.039766                  0.039984   \n",
       "num_outbound_cmds                             NaN                       NaN   \n",
       "is_host_login                                 NaN                       NaN   \n",
       "is_guest_login                           0.037679                  0.037695   \n",
       "count1                                   0.676549                  0.683345   \n",
       "srv_count                                0.085140                  0.087213   \n",
       "serror_rate                              0.998367                  0.996032   \n",
       "srv_error_rate                           0.995405                  0.999051   \n",
       "rerror_rate                              0.241288                  0.234141   \n",
       "srv_rerror_rate                          0.240612                  0.244429   \n",
       "same_srv_rate                            0.864137                  0.866054   \n",
       "diff_srv_rate                            0.194932                  0.213366   \n",
       "srv_diff_host_rate                       0.298713                  0.299975   \n",
       "dst_host_count                           0.558680                  0.559601   \n",
       "dst_host_srv_count                       0.788299                  0.788888   \n",
       "dst_host_same_srv_rate                   0.822338                  0.822824   \n",
       "dst_host_diff_srv_rate                   0.186550                  0.204425   \n",
       "dst_host_same_src_port_rate              0.250782                  0.250077   \n",
       "dst_host_srv_diff_host_rate              0.306309                  0.307544   \n",
       "dst_host_serror_rate                     1.000000                  0.995750   \n",
       "dst_host_srv_serror_rate                 0.995750                  1.000000   \n",
       "dst_host_rerror_rate                     0.244576                  0.237675   \n",
       "dst_host_srv_rerror_rate                 0.240513                  0.244342   \n",
       "Attack                                   0.851433                  0.852470   \n",
       "\n",
       "                             dst_host_rerror_rate  dst_host_srv_rerror_rate  \\\n",
       "duration                                 0.065457                  0.084940   \n",
       "protocol_type                            0.037527                  0.056862   \n",
       "service                                  0.126053                  0.128463   \n",
       "flag1                                    0.144421                  0.151765   \n",
       "src_bytes                                0.025643                  0.026552   \n",
       "dst_bytes                                0.086750                  0.084237   \n",
       "land                                          NaN                       NaN   \n",
       "wrong_fragment                                NaN                       NaN   \n",
       "urgent                                   0.001455                  0.001425   \n",
       "hot                                      0.010726                  0.010933   \n",
       "num_failed_logins                        0.021164                  0.020756   \n",
       "logged_in                                0.254711                  0.252593   \n",
       "num_compromised                          0.004761                  0.003549   \n",
       "root_shell                               0.003297                  0.003616   \n",
       "su_attempted                             0.002134                  0.001438   \n",
       "num_root                                 0.005744                  0.010548   \n",
       "num_file_creations                       0.002691                  0.004122   \n",
       "num_shells                               0.003249                  0.003334   \n",
       "num_access_files                         0.012115                  0.012415   \n",
       "num_outbound_cmds                             NaN                       NaN   \n",
       "is_host_login                                 NaN                       NaN   \n",
       "is_guest_login                           0.010681                  0.011104   \n",
       "count1                                   0.178763                  0.159601   \n",
       "srv_count                                0.043989                  0.050694   \n",
       "serror_rate                              0.244504                  0.240612   \n",
       "srv_error_rate                           0.238036                  0.244759   \n",
       "rerror_rate                              0.975147                  0.980077   \n",
       "srv_rerror_rate                          0.961548                  0.988687   \n",
       "same_srv_rate                            0.195945                  0.191244   \n",
       "diff_srv_rate                            0.227392                  0.225810   \n",
       "srv_diff_host_rate                       0.052896                  0.054871   \n",
       "dst_host_count                           0.083668                  0.083518   \n",
       "dst_host_srv_count                       0.207947                  0.206481   \n",
       "dst_host_same_srv_rate                   0.199283                  0.197267   \n",
       "dst_host_diff_srv_rate                   0.326141                  0.279882   \n",
       "dst_host_same_src_port_rate              0.052336                  0.049422   \n",
       "dst_host_srv_diff_host_rate              0.076076                  0.074683   \n",
       "dst_host_serror_rate                     0.244576                  0.240513   \n",
       "dst_host_srv_serror_rate                 0.237675                  0.244342   \n",
       "dst_host_rerror_rate                     1.000000                  0.966065   \n",
       "dst_host_srv_rerror_rate                 0.966065                  1.000000   \n",
       "Attack                                   0.203529                  0.204418   \n",
       "\n",
       "                               Attack  \n",
       "duration                     0.010483  \n",
       "protocol_type                0.039045  \n",
       "service                      0.664722  \n",
       "flag1                        0.949313  \n",
       "src_bytes                    0.056096  \n",
       "dst_bytes                    0.303729  \n",
       "land                              NaN  \n",
       "wrong_fragment                    NaN  \n",
       "urgent                       0.000994  \n",
       "hot                          0.032295  \n",
       "num_failed_logins            0.002192  \n",
       "logged_in                    0.902990  \n",
       "num_compromised              0.003981  \n",
       "root_shell                   0.011648  \n",
       "su_attempted                 0.008610  \n",
       "num_root                     0.038920  \n",
       "num_file_creations           0.019865  \n",
       "num_shells                   0.011631  \n",
       "num_access_files             0.046938  \n",
       "num_outbound_cmds                 NaN  \n",
       "is_host_login                     NaN  \n",
       "is_guest_login               0.043983  \n",
       "count1                       0.797603  \n",
       "srv_count                    0.019196  \n",
       "serror_rate                  0.851045  \n",
       "srv_error_rate               0.851757  \n",
       "rerror_rate                  0.207310  \n",
       "srv_rerror_rate              0.204019  \n",
       "same_srv_rate                0.956898  \n",
       "diff_srv_rate                0.339631  \n",
       "srv_diff_host_rate           0.329409  \n",
       "dst_host_count               0.632740  \n",
       "dst_host_srv_count           0.899983  \n",
       "dst_host_same_srv_rate       0.929023  \n",
       "dst_host_diff_srv_rate       0.375015  \n",
       "dst_host_same_src_port_rate  0.140051  \n",
       "dst_host_srv_diff_host_rate  0.328098  \n",
       "dst_host_serror_rate         0.851433  \n",
       "dst_host_srv_serror_rate     0.852470  \n",
       "dst_host_rerror_rate         0.203529  \n",
       "dst_host_srv_rerror_rate     0.204418  \n",
       "Attack                       1.000000  \n",
       "\n",
       "[42 rows x 42 columns]"
      ]
     },
     "execution_count": 47,
     "metadata": {},
     "output_type": "execute_result"
    }
   ],
   "source": [
    "balanced_sample.corr().abs()"
   ]
  },
  {
   "cell_type": "code",
   "execution_count": 48,
   "id": "9edcb8c8-f412-4cb7-b02a-6ed07b8155a6",
   "metadata": {
    "tags": []
   },
   "outputs": [
    {
     "data": {
      "text/html": [
       "<div>\n",
       "<style scoped>\n",
       "    .dataframe tbody tr th:only-of-type {\n",
       "        vertical-align: middle;\n",
       "    }\n",
       "\n",
       "    .dataframe tbody tr th {\n",
       "        vertical-align: top;\n",
       "    }\n",
       "\n",
       "    .dataframe thead th {\n",
       "        text-align: right;\n",
       "    }\n",
       "</style>\n",
       "<table border=\"1\" class=\"dataframe\">\n",
       "  <thead>\n",
       "    <tr style=\"text-align: right;\">\n",
       "      <th></th>\n",
       "      <th>0</th>\n",
       "    </tr>\n",
       "  </thead>\n",
       "  <tbody>\n",
       "    <tr>\n",
       "      <th>Attack</th>\n",
       "      <td>1.000000</td>\n",
       "    </tr>\n",
       "    <tr>\n",
       "      <th>same_srv_rate</th>\n",
       "      <td>0.956898</td>\n",
       "    </tr>\n",
       "    <tr>\n",
       "      <th>flag1</th>\n",
       "      <td>0.949313</td>\n",
       "    </tr>\n",
       "    <tr>\n",
       "      <th>dst_host_same_srv_rate</th>\n",
       "      <td>0.929023</td>\n",
       "    </tr>\n",
       "    <tr>\n",
       "      <th>logged_in</th>\n",
       "      <td>0.902990</td>\n",
       "    </tr>\n",
       "    <tr>\n",
       "      <th>dst_host_srv_count</th>\n",
       "      <td>0.899983</td>\n",
       "    </tr>\n",
       "    <tr>\n",
       "      <th>dst_host_srv_serror_rate</th>\n",
       "      <td>0.852470</td>\n",
       "    </tr>\n",
       "    <tr>\n",
       "      <th>srv_error_rate</th>\n",
       "      <td>0.851757</td>\n",
       "    </tr>\n",
       "    <tr>\n",
       "      <th>dst_host_serror_rate</th>\n",
       "      <td>0.851433</td>\n",
       "    </tr>\n",
       "    <tr>\n",
       "      <th>serror_rate</th>\n",
       "      <td>0.851045</td>\n",
       "    </tr>\n",
       "    <tr>\n",
       "      <th>count1</th>\n",
       "      <td>0.797603</td>\n",
       "    </tr>\n",
       "    <tr>\n",
       "      <th>service</th>\n",
       "      <td>0.664722</td>\n",
       "    </tr>\n",
       "    <tr>\n",
       "      <th>dst_host_count</th>\n",
       "      <td>0.632740</td>\n",
       "    </tr>\n",
       "    <tr>\n",
       "      <th>dst_host_diff_srv_rate</th>\n",
       "      <td>0.375015</td>\n",
       "    </tr>\n",
       "    <tr>\n",
       "      <th>diff_srv_rate</th>\n",
       "      <td>0.339631</td>\n",
       "    </tr>\n",
       "    <tr>\n",
       "      <th>srv_diff_host_rate</th>\n",
       "      <td>0.329409</td>\n",
       "    </tr>\n",
       "    <tr>\n",
       "      <th>dst_host_srv_diff_host_rate</th>\n",
       "      <td>0.328098</td>\n",
       "    </tr>\n",
       "    <tr>\n",
       "      <th>dst_bytes</th>\n",
       "      <td>0.303729</td>\n",
       "    </tr>\n",
       "    <tr>\n",
       "      <th>rerror_rate</th>\n",
       "      <td>0.207310</td>\n",
       "    </tr>\n",
       "    <tr>\n",
       "      <th>dst_host_srv_rerror_rate</th>\n",
       "      <td>0.204418</td>\n",
       "    </tr>\n",
       "    <tr>\n",
       "      <th>srv_rerror_rate</th>\n",
       "      <td>0.204019</td>\n",
       "    </tr>\n",
       "    <tr>\n",
       "      <th>dst_host_rerror_rate</th>\n",
       "      <td>0.203529</td>\n",
       "    </tr>\n",
       "    <tr>\n",
       "      <th>dst_host_same_src_port_rate</th>\n",
       "      <td>0.140051</td>\n",
       "    </tr>\n",
       "    <tr>\n",
       "      <th>src_bytes</th>\n",
       "      <td>0.056096</td>\n",
       "    </tr>\n",
       "    <tr>\n",
       "      <th>num_access_files</th>\n",
       "      <td>0.046938</td>\n",
       "    </tr>\n",
       "    <tr>\n",
       "      <th>is_guest_login</th>\n",
       "      <td>0.043983</td>\n",
       "    </tr>\n",
       "    <tr>\n",
       "      <th>protocol_type</th>\n",
       "      <td>0.039045</td>\n",
       "    </tr>\n",
       "    <tr>\n",
       "      <th>num_root</th>\n",
       "      <td>0.038920</td>\n",
       "    </tr>\n",
       "    <tr>\n",
       "      <th>hot</th>\n",
       "      <td>0.032295</td>\n",
       "    </tr>\n",
       "    <tr>\n",
       "      <th>num_file_creations</th>\n",
       "      <td>0.019865</td>\n",
       "    </tr>\n",
       "    <tr>\n",
       "      <th>srv_count</th>\n",
       "      <td>0.019196</td>\n",
       "    </tr>\n",
       "    <tr>\n",
       "      <th>root_shell</th>\n",
       "      <td>0.011648</td>\n",
       "    </tr>\n",
       "    <tr>\n",
       "      <th>num_shells</th>\n",
       "      <td>0.011631</td>\n",
       "    </tr>\n",
       "    <tr>\n",
       "      <th>duration</th>\n",
       "      <td>0.010483</td>\n",
       "    </tr>\n",
       "    <tr>\n",
       "      <th>su_attempted</th>\n",
       "      <td>0.008610</td>\n",
       "    </tr>\n",
       "    <tr>\n",
       "      <th>num_compromised</th>\n",
       "      <td>0.003981</td>\n",
       "    </tr>\n",
       "    <tr>\n",
       "      <th>num_failed_logins</th>\n",
       "      <td>0.002192</td>\n",
       "    </tr>\n",
       "    <tr>\n",
       "      <th>urgent</th>\n",
       "      <td>0.000994</td>\n",
       "    </tr>\n",
       "    <tr>\n",
       "      <th>land</th>\n",
       "      <td>NaN</td>\n",
       "    </tr>\n",
       "    <tr>\n",
       "      <th>wrong_fragment</th>\n",
       "      <td>NaN</td>\n",
       "    </tr>\n",
       "    <tr>\n",
       "      <th>num_outbound_cmds</th>\n",
       "      <td>NaN</td>\n",
       "    </tr>\n",
       "    <tr>\n",
       "      <th>is_host_login</th>\n",
       "      <td>NaN</td>\n",
       "    </tr>\n",
       "  </tbody>\n",
       "</table>\n",
       "</div>"
      ],
      "text/plain": [
       "                                    0\n",
       "Attack                       1.000000\n",
       "same_srv_rate                0.956898\n",
       "flag1                        0.949313\n",
       "dst_host_same_srv_rate       0.929023\n",
       "logged_in                    0.902990\n",
       "dst_host_srv_count           0.899983\n",
       "dst_host_srv_serror_rate     0.852470\n",
       "srv_error_rate               0.851757\n",
       "dst_host_serror_rate         0.851433\n",
       "serror_rate                  0.851045\n",
       "count1                       0.797603\n",
       "service                      0.664722\n",
       "dst_host_count               0.632740\n",
       "dst_host_diff_srv_rate       0.375015\n",
       "diff_srv_rate                0.339631\n",
       "srv_diff_host_rate           0.329409\n",
       "dst_host_srv_diff_host_rate  0.328098\n",
       "dst_bytes                    0.303729\n",
       "rerror_rate                  0.207310\n",
       "dst_host_srv_rerror_rate     0.204418\n",
       "srv_rerror_rate              0.204019\n",
       "dst_host_rerror_rate         0.203529\n",
       "dst_host_same_src_port_rate  0.140051\n",
       "src_bytes                    0.056096\n",
       "num_access_files             0.046938\n",
       "is_guest_login               0.043983\n",
       "protocol_type                0.039045\n",
       "num_root                     0.038920\n",
       "hot                          0.032295\n",
       "num_file_creations           0.019865\n",
       "srv_count                    0.019196\n",
       "root_shell                   0.011648\n",
       "num_shells                   0.011631\n",
       "duration                     0.010483\n",
       "su_attempted                 0.008610\n",
       "num_compromised              0.003981\n",
       "num_failed_logins            0.002192\n",
       "urgent                       0.000994\n",
       "land                              NaN\n",
       "wrong_fragment                    NaN\n",
       "num_outbound_cmds                 NaN\n",
       "is_host_login                     NaN"
      ]
     },
     "execution_count": 48,
     "metadata": {},
     "output_type": "execute_result"
    }
   ],
   "source": [
    "correlation=balanced_sample.corrwith(balanced_sample.Attack).abs().sort_values(ascending=False)\n",
    "co_d=pd.DataFrame(correlation)\n",
    "co_d"
   ]
  },
  {
   "cell_type": "code",
   "execution_count": 49,
   "id": "eb0b790d-3ce2-4235-a79d-486cc2f5d525",
   "metadata": {
    "tags": []
   },
   "outputs": [
    {
     "data": {
      "text/plain": [
       "Index(['count1', 'diff_srv_rate', 'dst_bytes', 'dst_host_count',\n",
       "       'dst_host_diff_srv_rate', 'dst_host_same_srv_rate',\n",
       "       'dst_host_serror_rate', 'dst_host_srv_count',\n",
       "       'dst_host_srv_diff_host_rate', 'dst_host_srv_serror_rate', 'flag1',\n",
       "       'logged_in', 'same_srv_rate', 'serror_rate', 'service',\n",
       "       'srv_diff_host_rate', 'srv_error_rate'],\n",
       "      dtype='object')"
      ]
     },
     "execution_count": 49,
     "metadata": {},
     "output_type": "execute_result"
    }
   ],
   "source": [
    "#We moving out with the 30% of cut of and we are going to delete all the variable where ever the relation is less than 30%\n",
    "correlation[np.abs(correlation)>0.3].index.difference(['Attack'])"
   ]
  },
  {
   "cell_type": "code",
   "execution_count": 50,
   "id": "cb63e43e-f9d6-4e11-af00-3b4b18d44d77",
   "metadata": {
    "tags": []
   },
   "outputs": [],
   "source": [
    "#creating a copy of our sample dataset\n",
    "corr_data=balanced_sample.copy()"
   ]
  },
  {
   "cell_type": "code",
   "execution_count": 51,
   "id": "03c7d606-81ef-4280-af5e-083a678acb35",
   "metadata": {
    "tags": []
   },
   "outputs": [],
   "source": [
    "#deleting the varibales where having the relation with the y variable is more than 30%\n",
    "correlation[np.abs(correlation)>0.3].index.difference(['Attack'])\n",
    "final_corr_data=corr_data.loc[ : : ,['count1', 'diff_srv_rate', 'dst_bytes', 'dst_host_count',\n",
    "       'dst_host_diff_srv_rate', 'dst_host_same_srv_rate',\n",
    "       'dst_host_serror_rate', 'dst_host_srv_count',\n",
    "       'dst_host_srv_diff_host_rate', 'dst_host_srv_serror_rate', 'flag1',\n",
    "       'logged_in', 'same_srv_rate', 'serror_rate', 'service',\n",
    "       'srv_diff_host_rate', 'srv_error_rate','Attack']]"
   ]
  },
  {
   "cell_type": "code",
   "execution_count": 52,
   "id": "36f2536a-7e0d-4093-8b57-79b014622b07",
   "metadata": {
    "tags": []
   },
   "outputs": [],
   "source": [
    "#making copies for outlier treatment \n",
    "copy2=final_corr_data.copy()"
   ]
  },
  {
   "cell_type": "code",
   "execution_count": 53,
   "id": "31715e4d-8a74-4668-8546-505cb08c4da5",
   "metadata": {
    "tags": []
   },
   "outputs": [
    {
     "data": {
      "image/png": "[encoded data removed]",
      "text/plain": [
       "<Figure size 1000x50 with 1 Axes>"
      ]
     },
     "metadata": {},
     "output_type": "display_data"
    },
    {
     "data": {
      "image/png": "[encoded data removed]",
      "text/plain": [
       "<Figure size 1000x50 with 1 Axes>"
      ]
     },
     "metadata": {},
     "output_type": "display_data"
    },
    {
     "data": {
      "image/png": "[encoded data removed]",
      "text/plain": [
       "<Figure size 1000x50 with 1 Axes>"
      ]
     },
     "metadata": {},
     "output_type": "display_data"
    },
    {
     "data": {
      "image/png": "[encoded data removed]",
      "text/plain": [
       "<Figure size 1000x50 with 1 Axes>"
      ]
     },
     "metadata": {},
     "output_type": "display_data"
    },
    {
     "data": {
      "image/png": "[encoded data removed]",
      "text/plain": [
       "<Figure size 1000x50 with 1 Axes>"
      ]
     },
     "metadata": {},
     "output_type": "display_data"
    },
    {
     "data": {
      "image/png": "[encoded data removed]",
      "text/plain": [
       "<Figure size 1000x50 with 1 Axes>"
      ]
     },
     "metadata": {},
     "output_type": "display_data"
    },
    {
     "data": {
      "image/png": "[encoded data removed]",
      "text/plain": [
       "<Figure size 1000x50 with 1 Axes>"
      ]
     },
     "metadata": {},
     "output_type": "display_data"
    },
    {
     "data": {
      "image/png": "[encoded data removed]",
      "text/plain": [
       "<Figure size 1000x50 with 1 Axes>"
      ]
     },
     "metadata": {},
     "output_type": "display_data"
    },
    {
     "data": {
      "image/png": "[encoded data removed]",
      "text/plain": [
       "<Figure size 1000x50 with 1 Axes>"
      ]
     },
     "metadata": {},
     "output_type": "display_data"
    },
    {
     "data": {
      "image/png": "[encoded data removed]",
      "text/plain": [
       "<Figure size 1000x50 with 1 Axes>"
      ]
     },
     "metadata": {},
     "output_type": "display_data"
    },
    {
     "data": {
      "image/png": "[encoded data removed]",
      "text/plain": [
       "<Figure size 1000x50 with 1 Axes>"
      ]
     },
     "metadata": {},
     "output_type": "display_data"
    },
    {
     "data": {
      "image/png": "[encoded data removed]",
      "text/plain": [
       "<Figure size 1000x50 with 1 Axes>"
      ]
     },
     "metadata": {},
     "output_type": "display_data"
    },
    {
     "data": {
      "image/png": "[encoded data removed]",
      "text/plain": [
       "<Figure size 1000x50 with 1 Axes>"
      ]
     },
     "metadata": {},
     "output_type": "display_data"
    },
    {
     "data": {
      "image/png": "[encoded data removed]",
      "text/plain": [
       "<Figure size 1000x50 with 1 Axes>"
      ]
     },
     "metadata": {},
     "output_type": "display_data"
    },
    {
     "data": {
      "image/png": "[encoded data removed]",
      "text/plain": [
       "<Figure size 1000x50 with 1 Axes>"
      ]
     },
     "metadata": {},
     "output_type": "display_data"
    },
    {
     "data": {
      "image/png": "[encoded data removed]",
      "text/plain": [
       "<Figure size 1000x50 with 1 Axes>"
      ]
     },
     "metadata": {},
     "output_type": "display_data"
    },
    {
     "data": {
      "image/png": "[encoded data removed]",
      "text/plain": [
       "<Figure size 1000x50 with 1 Axes>"
      ]
     },
     "metadata": {},
     "output_type": "display_data"
    },
    {
     "data": {
      "image/png": "[encoded data removed]",
      "text/plain": [
       "<Figure size 1000x50 with 1 Axes>"
      ]
     },
     "metadata": {},
     "output_type": "display_data"
    }
   ],
   "source": [
    "import seaborn as sns\n",
    "clmn=['count1', 'diff_srv_rate', 'dst_bytes', 'dst_host_count',\n",
    "       'dst_host_diff_srv_rate', 'dst_host_same_srv_rate',\n",
    "       'dst_host_serror_rate', 'dst_host_srv_count',\n",
    "       'dst_host_srv_diff_host_rate', 'dst_host_srv_serror_rate', 'flag1',\n",
    "       'logged_in', 'same_srv_rate', 'serror_rate', 'service',\n",
    "       'srv_diff_host_rate', 'srv_error_rate','Attack']\n",
    "for i in clmn:\n",
    "    plt.figure(figsize=(10,0.5))\n",
    "    sns.boxplot(x=copy2[i])\n",
    "    plt.title(i)\n",
    "    plt.show()"
   ]
  },
  {
   "cell_type": "code",
   "execution_count": 54,
   "id": "e73bf3cf-d4af-42c7-8758-e243be53ffb1",
   "metadata": {
    "tags": []
   },
   "outputs": [],
   "source": [
    "#udf of lower cutof and upper cutof \n",
    "def outliertreat_IQR(d):\n",
    "    m = d.quantile(0.5)\n",
    "    q1 = d.quantile(0.25)\n",
    "    q3 = d.quantile(0.75)\n",
    "    q_1p = d.quantile(0.01)\n",
    "    q_99p = d.quantile(0.99)\n",
    "    iqr = q3 - q1\n",
    "    lc = q1 - 1.5*iqr\n",
    "    uc = q3 + 1.5*iqr\n",
    "    return lc,uc"
   ]
  },
  {
   "cell_type": "code",
   "execution_count": 55,
   "id": "15d4e790-dc54-4237-96bd-61fd28b0b6dc",
   "metadata": {
    "tags": []
   },
   "outputs": [
    {
     "data": {
      "text/html": [
       "<div>\n",
       "<style scoped>\n",
       "    .dataframe tbody tr th:only-of-type {\n",
       "        vertical-align: middle;\n",
       "    }\n",
       "\n",
       "    .dataframe tbody tr th {\n",
       "        vertical-align: top;\n",
       "    }\n",
       "\n",
       "    .dataframe thead th {\n",
       "        text-align: right;\n",
       "    }\n",
       "</style>\n",
       "<table border=\"1\" class=\"dataframe\">\n",
       "  <thead>\n",
       "    <tr style=\"text-align: right;\">\n",
       "      <th></th>\n",
       "      <th>count1</th>\n",
       "      <th>diff_srv_rate</th>\n",
       "      <th>dst_bytes</th>\n",
       "      <th>dst_host_count</th>\n",
       "      <th>dst_host_diff_srv_rate</th>\n",
       "      <th>dst_host_same_srv_rate</th>\n",
       "      <th>dst_host_serror_rate</th>\n",
       "      <th>dst_host_srv_count</th>\n",
       "      <th>dst_host_srv_diff_host_rate</th>\n",
       "      <th>dst_host_srv_serror_rate</th>\n",
       "      <th>flag1</th>\n",
       "      <th>logged_in</th>\n",
       "      <th>same_srv_rate</th>\n",
       "      <th>serror_rate</th>\n",
       "      <th>service</th>\n",
       "      <th>srv_diff_host_rate</th>\n",
       "      <th>srv_error_rate</th>\n",
       "      <th>Attack</th>\n",
       "    </tr>\n",
       "  </thead>\n",
       "  <tbody>\n",
       "    <tr>\n",
       "      <th>0</th>\n",
       "      <td>-0.2545</td>\n",
       "      <td>-0.009</td>\n",
       "      <td>-0.016455</td>\n",
       "      <td>-0.12</td>\n",
       "      <td>-0.0105</td>\n",
       "      <td>-0.140</td>\n",
       "      <td>-0.15</td>\n",
       "      <td>-0.3575</td>\n",
       "      <td>-0.0015</td>\n",
       "      <td>-0.15</td>\n",
       "      <td>-0.105</td>\n",
       "      <td>-0.15</td>\n",
       "      <td>-0.135</td>\n",
       "      <td>-0.15</td>\n",
       "      <td>-0.18</td>\n",
       "      <td>0.0</td>\n",
       "      <td>-0.15</td>\n",
       "      <td>-1.5</td>\n",
       "    </tr>\n",
       "    <tr>\n",
       "      <th>1</th>\n",
       "      <td>0.4375</td>\n",
       "      <td>0.015</td>\n",
       "      <td>0.027425</td>\n",
       "      <td>0.48</td>\n",
       "      <td>0.0175</td>\n",
       "      <td>0.244</td>\n",
       "      <td>0.25</td>\n",
       "      <td>0.6225</td>\n",
       "      <td>0.0025</td>\n",
       "      <td>0.25</td>\n",
       "      <td>0.175</td>\n",
       "      <td>0.25</td>\n",
       "      <td>0.241</td>\n",
       "      <td>0.25</td>\n",
       "      <td>0.30</td>\n",
       "      <td>0.0</td>\n",
       "      <td>0.25</td>\n",
       "      <td>2.5</td>\n",
       "    </tr>\n",
       "  </tbody>\n",
       "</table>\n",
       "</div>"
      ],
      "text/plain": [
       "   count1  diff_srv_rate  dst_bytes  dst_host_count  dst_host_diff_srv_rate  \\\n",
       "0 -0.2545         -0.009  -0.016455           -0.12                 -0.0105   \n",
       "1  0.4375          0.015   0.027425            0.48                  0.0175   \n",
       "\n",
       "   dst_host_same_srv_rate  dst_host_serror_rate  dst_host_srv_count  \\\n",
       "0                  -0.140                 -0.15             -0.3575   \n",
       "1                   0.244                  0.25              0.6225   \n",
       "\n",
       "   dst_host_srv_diff_host_rate  dst_host_srv_serror_rate  flag1  logged_in  \\\n",
       "0                      -0.0015                     -0.15 -0.105      -0.15   \n",
       "1                       0.0025                      0.25  0.175       0.25   \n",
       "\n",
       "   same_srv_rate  serror_rate  service  srv_diff_host_rate  srv_error_rate  \\\n",
       "0         -0.135        -0.15    -0.18                 0.0           -0.15   \n",
       "1          0.241         0.25     0.30                 0.0            0.25   \n",
       "\n",
       "   Attack  \n",
       "0    -1.5  \n",
       "1     2.5  "
      ]
     },
     "execution_count": 55,
     "metadata": {},
     "output_type": "execute_result"
    }
   ],
   "source": [
    "copy2.apply(outliertreat_IQR)"
   ]
  },
  {
   "cell_type": "code",
   "execution_count": 56,
   "id": "eb70051b-918d-43c6-ac27-990f21ec5f75",
   "metadata": {
    "tags": []
   },
   "outputs": [],
   "source": [
    "copy2['count1'] = copy2.count1.clip(lower = -0.253, upper = 0.435)\n",
    "copy2['diff_srv_rate'] = copy2.diff_srv_rate.clip(lower = -0.009, upper = 0.015)\n",
    "copy2['dst_bytes'] = copy2.dst_bytes.clip(lower = -0.01632, upper = 0.02720)\n",
    "copy2['dst_host_count'] = copy2.dst_host_count.clip(lower = -0.12, upper = 0.48)\n",
    "copy2['dst_host_diff_srv_rate'] = copy2.dst_host_diff_srv_rate.clip(lower = -0.0105, upper = 0.0175)\n",
    "copy2['dst_host_same_srv_rate'] = copy2.dst_host_same_srv_rate.clip(lower = -0.140, upper = 0.244)\n",
    "copy2['dst_host_serror_rate'] = copy2.dst_host_serror_rate.clip(lower = -0.15, upper = 0.25)\n",
    "copy2['dst_host_srv_count'] = copy2.dst_host_srv_count.clip(lower = -0.3575, upper = 0.6225)\n",
    "copy2['dst_host_srv_diff_host_rate'] = copy2.dst_host_srv_diff_host_rate.clip(lower = -0.0015, upper = 0.0025)\n",
    "copy2['dst_host_srv_serror_rate'] = copy2.dst_host_srv_serror_rate.clip(lower = -0.15, upper = 0.25)\n",
    "copy2['flag1'] = copy2.flag1.clip(lower = -0.105, upper = 0.175)\n",
    "copy2['logged_in'] = copy2.logged_in.clip(lower = -0.15, upper = 0.25)\n",
    "copy2['same_srv_rate'] = copy2.same_srv_rate.clip(lower = -0.135, upper = 0.241)\n",
    "copy2['serror_rate'] = copy2.serror_rate.clip(lower = -0.15, upper = 0.25)\n",
    "copy2['service'] = copy2.service.clip(lower = -0.18, upper = 0.30)\n",
    "copy2['srv_diff_host_rate'] = copy2.same_srv_rate.clip(lower = 0.0, upper = 0.0)\n",
    "copy2['Attack'] = copy2.Attack.clip(lower =-1.5, upper = 2.5)"
   ]
  },
  {
   "cell_type": "code",
   "execution_count": 57,
   "id": "82e424b2-7518-4bef-9abb-2d64f6554928",
   "metadata": {
    "tags": []
   },
   "outputs": [
    {
     "data": {
      "image/png": "[encoded data removed]",
      "text/plain": [
       "<Figure size 1000x50 with 1 Axes>"
      ]
     },
     "metadata": {},
     "output_type": "display_data"
    },
    {
     "data": {
      "image/png": "[encoded data removed]",
      "text/plain": [
       "<Figure size 1000x50 with 1 Axes>"
      ]
     },
     "metadata": {},
     "output_type": "display_data"
    },
    {
     "data": {
      "image/png": "[encoded data removed]",
      "text/plain": [
       "<Figure size 1000x50 with 1 Axes>"
      ]
     },
     "metadata": {},
     "output_type": "display_data"
    },
    {
     "data": {
      "image/png": "[encoded data removed]",
      "text/plain": [
       "<Figure size 1000x50 with 1 Axes>"
      ]
     },
     "metadata": {},
     "output_type": "display_data"
    },
    {
     "data": {
      "image/png": "[encoded data removed]",
      "text/plain": [
       "<Figure size 1000x50 with 1 Axes>"
      ]
     },
     "metadata": {},
     "output_type": "display_data"
    },
    {
     "data": {
      "image/png": "[encoded data removed]",
      "text/plain": [
       "<Figure size 1000x50 with 1 Axes>"
      ]
     },
     "metadata": {},
     "output_type": "display_data"
    },
    {
     "data": {
      "image/png": "[encoded data removed]",
      "text/plain": [
       "<Figure size 1000x50 with 1 Axes>"
      ]
     },
     "metadata": {},
     "output_type": "display_data"
    },
    {
     "data": {
      "image/png": "[encoded data removed]",
      "text/plain": [
       "<Figure size 1000x50 with 1 Axes>"
      ]
     },
     "metadata": {},
     "output_type": "display_data"
    },
    {
     "data": {
      "image/png": "[encoded data removed]",
      "text/plain": [
       "<Figure size 1000x50 with 1 Axes>"
      ]
     },
     "metadata": {},
     "output_type": "display_data"
    },
    {
     "data": {
      "image/png": "[encoded data removed]",
      "text/plain": [
       "<Figure size 1000x50 with 1 Axes>"
      ]
     },
     "metadata": {},
     "output_type": "display_data"
    },
    {
     "data": {
      "image/png": "[encoded data removed]",
      "text/plain": [
       "<Figure size 1000x50 with 1 Axes>"
      ]
     },
     "metadata": {},
     "output_type": "display_data"
    },
    {
     "data": {
      "image/png": "[encoded data removed]",
      "text/plain": [
       "<Figure size 1000x50 with 1 Axes>"
      ]
     },
     "metadata": {},
     "output_type": "display_data"
    },
    {
     "data": {
      "image/png": "[encoded data removed]",
      "text/plain": [
       "<Figure size 1000x50 with 1 Axes>"
      ]
     },
     "metadata": {},
     "output_type": "display_data"
    },
    {
     "data": {
      "image/png": "[encoded data removed]",
      "text/plain": [
       "<Figure size 1000x50 with 1 Axes>"
      ]
     },
     "metadata": {},
     "output_type": "display_data"
    },
    {
     "data": {
      "image/png": "[encoded data removed]",
      "text/plain": [
       "<Figure size 1000x50 with 1 Axes>"
      ]
     },
     "metadata": {},
     "output_type": "display_data"
    },
    {
     "data": {
      "image/png": "[encoded data removed]",
      "text/plain": [
       "<Figure size 1000x50 with 1 Axes>"
      ]
     },
     "metadata": {},
     "output_type": "display_data"
    },
    {
     "data": {
      "image/png": "[encoded data removed]",
      "text/plain": [
       "<Figure size 1000x50 with 1 Axes>"
      ]
     },
     "metadata": {},
     "output_type": "display_data"
    },
    {
     "data": {
      "image/png": "[encoded data removed]",
      "text/plain": [
       "<Figure size 1000x50 with 1 Axes>"
      ]
     },
     "metadata": {},
     "output_type": "display_data"
    }
   ],
   "source": [
    "clmn=['count1', 'diff_srv_rate', 'dst_bytes', 'dst_host_count',\n",
    "       'dst_host_diff_srv_rate', 'dst_host_same_srv_rate',\n",
    "       'dst_host_serror_rate', 'dst_host_srv_count',\n",
    "       'dst_host_srv_diff_host_rate', 'dst_host_srv_serror_rate', 'flag1',\n",
    "       'logged_in', 'same_srv_rate', 'serror_rate', 'service',\n",
    "       'srv_diff_host_rate', 'srv_error_rate','Attack']\n",
    "for i in clmn:\n",
    "    plt.figure(figsize=(10,0.5))\n",
    "    sns.boxplot(x=copy2[i])\n",
    "    plt.title(i)\n",
    "    plt.show()"
   ]
  },
  {
   "cell_type": "markdown",
   "id": "9084d172-7354-4b7a-94c6-6ecdd6ed0341",
   "metadata": {},
   "source": [
    "### Split the Data into Train & Test"
   ]
  },
  {
   "cell_type": "code",
   "execution_count": 58,
   "id": "7f3c237c-7619-4e65-b7bc-a87cb3e38541",
   "metadata": {
    "tags": []
   },
   "outputs": [],
   "source": [
    "#dividing the data with traing data and testing data \n",
    "from sklearn.model_selection import train_test_split, GridSearchCV\n",
    "x=copy2.drop('Attack',axis=1)\n",
    "y=copy2['Attack']\n",
    "x_train,x_test,y_train,y_test=train_test_split(x,y,test_size=0.2,random_state=42)\n",
    "#random_state will shuffel the data points"
   ]
  },
  {
   "cell_type": "code",
   "execution_count": 59,
   "id": "625d69dc-0877-42b2-92f6-33094fada4cf",
   "metadata": {
    "tags": []
   },
   "outputs": [
    {
     "data": {
      "text/plain": [
       "(231204, 17)"
      ]
     },
     "execution_count": 59,
     "metadata": {},
     "output_type": "execute_result"
    }
   ],
   "source": [
    "x_train.shape"
   ]
  },
  {
   "cell_type": "code",
   "execution_count": 60,
   "id": "304dd058-bb84-4c4e-ab8a-1f7afe461ea3",
   "metadata": {
    "tags": []
   },
   "outputs": [
    {
     "data": {
      "text/plain": [
       "(57802, 17)"
      ]
     },
     "execution_count": 60,
     "metadata": {},
     "output_type": "execute_result"
    }
   ],
   "source": [
    "x_test.shape"
   ]
  },
  {
   "cell_type": "markdown",
   "id": "90b1f266-4abf-4fff-86f4-fa227f982012",
   "metadata": {},
   "source": [
    "### Building Different Models"
   ]
  },
  {
   "cell_type": "markdown",
   "id": "09b8d589-56ff-44c0-9c03-e5f250c7d299",
   "metadata": {
    "tags": []
   },
   "source": [
    "1. Logistic regression model"
   ]
  },
  {
   "cell_type": "code",
   "execution_count": 61,
   "id": "919c8033-4c3c-4996-887a-a654f92e7781",
   "metadata": {
    "tags": []
   },
   "outputs": [],
   "source": [
    "#importing necessary library\n",
    "from sklearn.linear_model import LogisticRegression\n",
    "from sklearn.metrics import accuracy_score, classification_report"
   ]
  },
  {
   "cell_type": "code",
   "execution_count": 62,
   "id": "6851ac6d-a3eb-4cf0-9058-fca066e26077",
   "metadata": {
    "tags": []
   },
   "outputs": [],
   "source": [
    "model = LogisticRegression()"
   ]
  },
  {
   "cell_type": "code",
   "execution_count": 63,
   "id": "3aa1202f-d795-4a1e-b06c-05b80ee3cf1c",
   "metadata": {
    "tags": []
   },
   "outputs": [
    {
     "data": {
      "text/html": [
       "<style>#sk-container-id-1 {color: black;}#sk-container-id-1 pre{padding: 0;}#sk-container-id-1 div.sk-toggleable {background-color: white;}#sk-container-id-1 label.sk-toggleable__label {cursor: pointer;display: block;width: 100%;margin-bottom: 0;padding: 0.3em;box-sizing: border-box;text-align: center;}#sk-container-id-1 label.sk-toggleable__label-arrow:before {content: \"▸\";float: left;margin-right: 0.25em;color: #696969;}#sk-container-id-1 label.sk-toggleable__label-arrow:hover:before {color: black;}#sk-container-id-1 div.sk-estimator:hover label.sk-toggleable__label-arrow:before {color: black;}#sk-container-id-1 div.sk-toggleable__content {max-height: 0;max-width: 0;overflow: hidden;text-align: left;background-color: #f0f8ff;}#sk-container-id-1 div.sk-toggleable__content pre {margin: 0.2em;color: black;border-radius: 0.25em;background-color: #f0f8ff;}#sk-container-id-1 input.sk-toggleable__control:checked~div.sk-toggleable__content {max-height: 200px;max-width: 100%;overflow: auto;}#sk-container-id-1 input.sk-toggleable__control:checked~label.sk-toggleable__label-arrow:before {content: \"▾\";}#sk-container-id-1 div.sk-estimator input.sk-toggleable__control:checked~label.sk-toggleable__label {background-color: #d4ebff;}#sk-container-id-1 div.sk-label input.sk-toggleable__control:checked~label.sk-toggleable__label {background-color: #d4ebff;}#sk-container-id-1 input.sk-hidden--visually {border: 0;clip: rect(1px 1px 1px 1px);clip: rect(1px, 1px, 1px, 1px);height: 1px;margin: -1px;overflow: hidden;padding: 0;position: absolute;width: 1px;}#sk-container-id-1 div.sk-estimator {font-family: monospace;background-color: #f0f8ff;border: 1px dotted black;border-radius: 0.25em;box-sizing: border-box;margin-bottom: 0.5em;}#sk-container-id-1 div.sk-estimator:hover {background-color: #d4ebff;}#sk-container-id-1 div.sk-parallel-item::after {content: \"\";width: 100%;border-bottom: 1px solid gray;flex-grow: 1;}#sk-container-id-1 div.sk-label:hover label.sk-toggleable__label {background-color: #d4ebff;}#sk-container-id-1 div.sk-serial::before {content: \"\";position: absolute;border-left: 1px solid gray;box-sizing: border-box;top: 0;bottom: 0;left: 50%;z-index: 0;}#sk-container-id-1 div.sk-serial {display: flex;flex-direction: column;align-items: center;background-color: white;padding-right: 0.2em;padding-left: 0.2em;position: relative;}#sk-container-id-1 div.sk-item {position: relative;z-index: 1;}#sk-container-id-1 div.sk-parallel {display: flex;align-items: stretch;justify-content: center;background-color: white;position: relative;}#sk-container-id-1 div.sk-item::before, #sk-container-id-1 div.sk-parallel-item::before {content: \"\";position: absolute;border-left: 1px solid gray;box-sizing: border-box;top: 0;bottom: 0;left: 50%;z-index: -1;}#sk-container-id-1 div.sk-parallel-item {display: flex;flex-direction: column;z-index: 1;position: relative;background-color: white;}#sk-container-id-1 div.sk-parallel-item:first-child::after {align-self: flex-end;width: 50%;}#sk-container-id-1 div.sk-parallel-item:last-child::after {align-self: flex-start;width: 50%;}#sk-container-id-1 div.sk-parallel-item:only-child::after {width: 0;}#sk-container-id-1 div.sk-dashed-wrapped {border: 1px dashed gray;margin: 0 0.4em 0.5em 0.4em;box-sizing: border-box;padding-bottom: 0.4em;background-color: white;}#sk-container-id-1 div.sk-label label {font-family: monospace;font-weight: bold;display: inline-block;line-height: 1.2em;}#sk-container-id-1 div.sk-label-container {text-align: center;}#sk-container-id-1 div.sk-container {/* jupyter's `normalize.less` sets `[hidden] { display: none; }` but bootstrap.min.css set `[hidden] { display: none !important; }` so we also need the `!important` here to be able to override the default hidden behavior on the sphinx rendered scikit-learn.org. See: https://github.com/scikit-learn/scikit-learn/issues/21755 */display: inline-block !important;position: relative;}#sk-container-id-1 div.sk-text-repr-fallback {display: none;}</style><div id=\"sk-container-id-1\" class=\"sk-top-container\"><div class=\"sk-text-repr-fallback\"><pre>LogisticRegression()</pre><b>In a Jupyter environment, please rerun this cell to show the HTML representation or trust the notebook. <br />On GitHub, the HTML representation is unable to render, please try loading this page with nbviewer.org.</b></div><div class=\"sk-container\" hidden><div class=\"sk-item\"><div class=\"sk-estimator sk-toggleable\"><input class=\"sk-toggleable__control sk-hidden--visually\" id=\"sk-estimator-id-1\" type=\"checkbox\" checked><label for=\"sk-estimator-id-1\" class=\"sk-toggleable__label sk-toggleable__label-arrow\">LogisticRegression</label><div class=\"sk-toggleable__content\"><pre>LogisticRegression()</pre></div></div></div></div></div>"
      ],
      "text/plain": [
       "LogisticRegression()"
      ]
     },
     "execution_count": 63,
     "metadata": {},
     "output_type": "execute_result"
    }
   ],
   "source": [
    "model.fit(x_train, y_train)"
   ]
  },
  {
   "cell_type": "code",
   "execution_count": 64,
   "id": "802df35d-a1e1-4604-8821-db405e04b7a5",
   "metadata": {
    "tags": []
   },
   "outputs": [],
   "source": [
    "train_pred_logi=model.predict(x_train)"
   ]
  },
  {
   "cell_type": "code",
   "execution_count": 140,
   "id": "5c19d1c9-d2f7-4f24-931e-d1b04f747961",
   "metadata": {
    "tags": []
   },
   "outputs": [],
   "source": [
    "LogisticRegression_Train_Accuracy = accuracy_score(train_pred_logi,y_train)"
   ]
  },
  {
   "cell_type": "code",
   "execution_count": 141,
   "id": "754c2275-ce72-4317-94d1-d14fc11ae10f",
   "metadata": {
    "tags": []
   },
   "outputs": [
    {
     "name": "stdout",
     "output_type": "stream",
     "text": [
      "0.9915961661562949\n"
     ]
    }
   ],
   "source": [
    "print(LogisticRegression_Accuracy)"
   ]
  },
  {
   "cell_type": "code",
   "execution_count": 66,
   "id": "7a9ebc92-8bde-42f9-a6f2-04b6d821cbd9",
   "metadata": {
    "tags": []
   },
   "outputs": [
    {
     "name": "stdout",
     "output_type": "stream",
     "text": [
      "              precision    recall  f1-score   support\n",
      "\n",
      "           0       1.00      0.99      0.99    116906\n",
      "           1       0.99      1.00      0.99    114298\n",
      "\n",
      "    accuracy                           0.99    231204\n",
      "   macro avg       0.99      0.99      0.99    231204\n",
      "weighted avg       0.99      0.99      0.99    231204\n",
      "\n"
     ]
    }
   ],
   "source": [
    "print(classification_report(train_pred_logi,y_train))"
   ]
  },
  {
   "cell_type": "code",
   "execution_count": 67,
   "id": "284e244f-1403-449f-8228-4654fc26c9bf",
   "metadata": {
    "tags": []
   },
   "outputs": [],
   "source": [
    "test_pred_logi = model.predict(x_test)"
   ]
  },
  {
   "cell_type": "code",
   "execution_count": 68,
   "id": "4827cbcf-0668-4729-9241-570149a7f6ea",
   "metadata": {
    "tags": []
   },
   "outputs": [
    {
     "name": "stdout",
     "output_type": "stream",
     "text": [
      "0.9917130895124736\n"
     ]
    }
   ],
   "source": [
    "print(accuracy_score(test_pred_logi,y_test))"
   ]
  },
  {
   "cell_type": "code",
   "execution_count": 69,
   "id": "6d5a311d-6075-4b4e-a033-64f9cad517ad",
   "metadata": {
    "tags": []
   },
   "outputs": [
    {
     "name": "stdout",
     "output_type": "stream",
     "text": [
      "              precision    recall  f1-score   support\n",
      "\n",
      "           0       1.00      0.99      0.99     29155\n",
      "           1       0.99      1.00      0.99     28647\n",
      "\n",
      "    accuracy                           0.99     57802\n",
      "   macro avg       0.99      0.99      0.99     57802\n",
      "weighted avg       0.99      0.99      0.99     57802\n",
      "\n"
     ]
    }
   ],
   "source": [
    "#printing classification report\n",
    "print(classification_report(test_pred_logi,y_test))"
   ]
  },
  {
   "cell_type": "markdown",
   "id": "61d5059d-3ce1-4261-87e1-ce5c9b5e5853",
   "metadata": {
    "tags": []
   },
   "source": [
    "2.Decision Tree Classifier"
   ]
  },
  {
   "cell_type": "code",
   "execution_count": 127,
   "id": "9dc6da42-241d-412b-8e4a-a43969a38402",
   "metadata": {
    "tags": []
   },
   "outputs": [],
   "source": [
    "#importing neccesary files\n",
    "from sklearn.tree import DecisionTreeClassifier\n",
    "from sklearn.metrics import accuracy_score, classification_report"
   ]
  },
  {
   "cell_type": "code",
   "execution_count": 71,
   "id": "7ac847fb-a755-4020-ac1c-9a6d3be6c07a",
   "metadata": {},
   "outputs": [],
   "source": [
    "ds=DecisionTreeClassifier(max_depth=3)"
   ]
  },
  {
   "cell_type": "code",
   "execution_count": 72,
   "id": "c12fd7b8-5aff-498f-b53d-83bcc14b91f7",
   "metadata": {},
   "outputs": [
    {
     "data": {
      "text/html": [
       "<style>#sk-container-id-2 {color: black;}#sk-container-id-2 pre{padding: 0;}#sk-container-id-2 div.sk-toggleable {background-color: white;}#sk-container-id-2 label.sk-toggleable__label {cursor: pointer;display: block;width: 100%;margin-bottom: 0;padding: 0.3em;box-sizing: border-box;text-align: center;}#sk-container-id-2 label.sk-toggleable__label-arrow:before {content: \"▸\";float: left;margin-right: 0.25em;color: #696969;}#sk-container-id-2 label.sk-toggleable__label-arrow:hover:before {color: black;}#sk-container-id-2 div.sk-estimator:hover label.sk-toggleable__label-arrow:before {color: black;}#sk-container-id-2 div.sk-toggleable__content {max-height: 0;max-width: 0;overflow: hidden;text-align: left;background-color: #f0f8ff;}#sk-container-id-2 div.sk-toggleable__content pre {margin: 0.2em;color: black;border-radius: 0.25em;background-color: #f0f8ff;}#sk-container-id-2 input.sk-toggleable__control:checked~div.sk-toggleable__content {max-height: 200px;max-width: 100%;overflow: auto;}#sk-container-id-2 input.sk-toggleable__control:checked~label.sk-toggleable__label-arrow:before {content: \"▾\";}#sk-container-id-2 div.sk-estimator input.sk-toggleable__control:checked~label.sk-toggleable__label {background-color: #d4ebff;}#sk-container-id-2 div.sk-label input.sk-toggleable__control:checked~label.sk-toggleable__label {background-color: #d4ebff;}#sk-container-id-2 input.sk-hidden--visually {border: 0;clip: rect(1px 1px 1px 1px);clip: rect(1px, 1px, 1px, 1px);height: 1px;margin: -1px;overflow: hidden;padding: 0;position: absolute;width: 1px;}#sk-container-id-2 div.sk-estimator {font-family: monospace;background-color: #f0f8ff;border: 1px dotted black;border-radius: 0.25em;box-sizing: border-box;margin-bottom: 0.5em;}#sk-container-id-2 div.sk-estimator:hover {background-color: #d4ebff;}#sk-container-id-2 div.sk-parallel-item::after {content: \"\";width: 100%;border-bottom: 1px solid gray;flex-grow: 1;}#sk-container-id-2 div.sk-label:hover label.sk-toggleable__label {background-color: #d4ebff;}#sk-container-id-2 div.sk-serial::before {content: \"\";position: absolute;border-left: 1px solid gray;box-sizing: border-box;top: 0;bottom: 0;left: 50%;z-index: 0;}#sk-container-id-2 div.sk-serial {display: flex;flex-direction: column;align-items: center;background-color: white;padding-right: 0.2em;padding-left: 0.2em;position: relative;}#sk-container-id-2 div.sk-item {position: relative;z-index: 1;}#sk-container-id-2 div.sk-parallel {display: flex;align-items: stretch;justify-content: center;background-color: white;position: relative;}#sk-container-id-2 div.sk-item::before, #sk-container-id-2 div.sk-parallel-item::before {content: \"\";position: absolute;border-left: 1px solid gray;box-sizing: border-box;top: 0;bottom: 0;left: 50%;z-index: -1;}#sk-container-id-2 div.sk-parallel-item {display: flex;flex-direction: column;z-index: 1;position: relative;background-color: white;}#sk-container-id-2 div.sk-parallel-item:first-child::after {align-self: flex-end;width: 50%;}#sk-container-id-2 div.sk-parallel-item:last-child::after {align-self: flex-start;width: 50%;}#sk-container-id-2 div.sk-parallel-item:only-child::after {width: 0;}#sk-container-id-2 div.sk-dashed-wrapped {border: 1px dashed gray;margin: 0 0.4em 0.5em 0.4em;box-sizing: border-box;padding-bottom: 0.4em;background-color: white;}#sk-container-id-2 div.sk-label label {font-family: monospace;font-weight: bold;display: inline-block;line-height: 1.2em;}#sk-container-id-2 div.sk-label-container {text-align: center;}#sk-container-id-2 div.sk-container {/* jupyter's `normalize.less` sets `[hidden] { display: none; }` but bootstrap.min.css set `[hidden] { display: none !important; }` so we also need the `!important` here to be able to override the default hidden behavior on the sphinx rendered scikit-learn.org. See: https://github.com/scikit-learn/scikit-learn/issues/21755 */display: inline-block !important;position: relative;}#sk-container-id-2 div.sk-text-repr-fallback {display: none;}</style><div id=\"sk-container-id-2\" class=\"sk-top-container\"><div class=\"sk-text-repr-fallback\"><pre>DecisionTreeClassifier(max_depth=3)</pre><b>In a Jupyter environment, please rerun this cell to show the HTML representation or trust the notebook. <br />On GitHub, the HTML representation is unable to render, please try loading this page with nbviewer.org.</b></div><div class=\"sk-container\" hidden><div class=\"sk-item\"><div class=\"sk-estimator sk-toggleable\"><input class=\"sk-toggleable__control sk-hidden--visually\" id=\"sk-estimator-id-2\" type=\"checkbox\" checked><label for=\"sk-estimator-id-2\" class=\"sk-toggleable__label sk-toggleable__label-arrow\">DecisionTreeClassifier</label><div class=\"sk-toggleable__content\"><pre>DecisionTreeClassifier(max_depth=3)</pre></div></div></div></div></div>"
      ],
      "text/plain": [
       "DecisionTreeClassifier(max_depth=3)"
      ]
     },
     "execution_count": 72,
     "metadata": {},
     "output_type": "execute_result"
    }
   ],
   "source": [
    "ds.fit(x_train,y_train)"
   ]
  },
  {
   "cell_type": "code",
   "execution_count": 73,
   "id": "cb025ea4-70c9-4963-9908-92d328a69c3e",
   "metadata": {},
   "outputs": [],
   "source": [
    "train_pred=ds.predict(x_train)"
   ]
  },
  {
   "cell_type": "code",
   "execution_count": 128,
   "id": "7fd76bf8-aaea-48b2-afee-4685fa9efd9a",
   "metadata": {
    "tags": []
   },
   "outputs": [],
   "source": [
    "DecisionTreeClassifier_Train_Accuracy = accuracy_score(train_pred,y_train)"
   ]
  },
  {
   "cell_type": "code",
   "execution_count": 129,
   "id": "648185d1-d8e4-427d-9ba7-6d888068fcf4",
   "metadata": {},
   "outputs": [
    {
     "name": "stdout",
     "output_type": "stream",
     "text": [
      "0.9921887164581927\n"
     ]
    }
   ],
   "source": [
    "print(DecisionTreeClassifier_Train_Accuracy)"
   ]
  },
  {
   "cell_type": "code",
   "execution_count": 75,
   "id": "17242cd7-57a9-4ad1-8190-e40a2ea75e28",
   "metadata": {},
   "outputs": [],
   "source": [
    "test_pred=ds.predict(x_test)"
   ]
  },
  {
   "cell_type": "code",
   "execution_count": 76,
   "id": "1404f09a-0681-47ca-a0fe-398581c4876b",
   "metadata": {},
   "outputs": [
    {
     "name": "stdout",
     "output_type": "stream",
     "text": [
      "0.9922494031348397\n"
     ]
    }
   ],
   "source": [
    "print(accuracy_score(test_pred,y_test))"
   ]
  },
  {
   "cell_type": "code",
   "execution_count": 77,
   "id": "d1bcda30-8aa8-4bd4-b130-0e80da468d88",
   "metadata": {},
   "outputs": [
    {
     "data": {
      "image/png": "[encoded data removed]",
      "text/plain": [
       "<Figure size 2000x1000 with 1 Axes>"
      ]
     },
     "metadata": {},
     "output_type": "display_data"
    }
   ],
   "source": [
    "#building model using  decision trees classifier \n",
    "import matplotlib.pyplot as plt\n",
    "from  sklearn.tree import plot_tree\n",
    "plt.figure(figsize=(20,10))\n",
    "plot_tree(ds,feature_names=x.columns.tolist(),class_names=[\"0\",\"1\"],filled=True)\n",
    "plt.show()"
   ]
  },
  {
   "cell_type": "markdown",
   "id": "8b6014c7-0336-47d2-ae08-40b50ba9f95f",
   "metadata": {},
   "source": [
    "3. Random Forest Classifier"
   ]
  },
  {
   "cell_type": "code",
   "execution_count": 78,
   "id": "82c368d3-4c9a-40cb-841c-dcda29d97156",
   "metadata": {},
   "outputs": [],
   "source": [
    "from sklearn.ensemble import RandomForestClassifier"
   ]
  },
  {
   "cell_type": "code",
   "execution_count": 79,
   "id": "4fc391f4-9a0a-4cf2-afc8-746f96530e04",
   "metadata": {},
   "outputs": [],
   "source": [
    "rfr=RandomForestClassifier(n_estimators=9,max_depth=5,random_state=42)"
   ]
  },
  {
   "cell_type": "code",
   "execution_count": 80,
   "id": "8faa65bf-be11-4700-943c-91592181c6e7",
   "metadata": {},
   "outputs": [
    {
     "data": {
      "text/html": [
       "<style>#sk-container-id-3 {color: black;}#sk-container-id-3 pre{padding: 0;}#sk-container-id-3 div.sk-toggleable {background-color: white;}#sk-container-id-3 label.sk-toggleable__label {cursor: pointer;display: block;width: 100%;margin-bottom: 0;padding: 0.3em;box-sizing: border-box;text-align: center;}#sk-container-id-3 label.sk-toggleable__label-arrow:before {content: \"▸\";float: left;margin-right: 0.25em;color: #696969;}#sk-container-id-3 label.sk-toggleable__label-arrow:hover:before {color: black;}#sk-container-id-3 div.sk-estimator:hover label.sk-toggleable__label-arrow:before {color: black;}#sk-container-id-3 div.sk-toggleable__content {max-height: 0;max-width: 0;overflow: hidden;text-align: left;background-color: #f0f8ff;}#sk-container-id-3 div.sk-toggleable__content pre {margin: 0.2em;color: black;border-radius: 0.25em;background-color: #f0f8ff;}#sk-container-id-3 input.sk-toggleable__control:checked~div.sk-toggleable__content {max-height: 200px;max-width: 100%;overflow: auto;}#sk-container-id-3 input.sk-toggleable__control:checked~label.sk-toggleable__label-arrow:before {content: \"▾\";}#sk-container-id-3 div.sk-estimator input.sk-toggleable__control:checked~label.sk-toggleable__label {background-color: #d4ebff;}#sk-container-id-3 div.sk-label input.sk-toggleable__control:checked~label.sk-toggleable__label {background-color: #d4ebff;}#sk-container-id-3 input.sk-hidden--visually {border: 0;clip: rect(1px 1px 1px 1px);clip: rect(1px, 1px, 1px, 1px);height: 1px;margin: -1px;overflow: hidden;padding: 0;position: absolute;width: 1px;}#sk-container-id-3 div.sk-estimator {font-family: monospace;background-color: #f0f8ff;border: 1px dotted black;border-radius: 0.25em;box-sizing: border-box;margin-bottom: 0.5em;}#sk-container-id-3 div.sk-estimator:hover {background-color: #d4ebff;}#sk-container-id-3 div.sk-parallel-item::after {content: \"\";width: 100%;border-bottom: 1px solid gray;flex-grow: 1;}#sk-container-id-3 div.sk-label:hover label.sk-toggleable__label {background-color: #d4ebff;}#sk-container-id-3 div.sk-serial::before {content: \"\";position: absolute;border-left: 1px solid gray;box-sizing: border-box;top: 0;bottom: 0;left: 50%;z-index: 0;}#sk-container-id-3 div.sk-serial {display: flex;flex-direction: column;align-items: center;background-color: white;padding-right: 0.2em;padding-left: 0.2em;position: relative;}#sk-container-id-3 div.sk-item {position: relative;z-index: 1;}#sk-container-id-3 div.sk-parallel {display: flex;align-items: stretch;justify-content: center;background-color: white;position: relative;}#sk-container-id-3 div.sk-item::before, #sk-container-id-3 div.sk-parallel-item::before {content: \"\";position: absolute;border-left: 1px solid gray;box-sizing: border-box;top: 0;bottom: 0;left: 50%;z-index: -1;}#sk-container-id-3 div.sk-parallel-item {display: flex;flex-direction: column;z-index: 1;position: relative;background-color: white;}#sk-container-id-3 div.sk-parallel-item:first-child::after {align-self: flex-end;width: 50%;}#sk-container-id-3 div.sk-parallel-item:last-child::after {align-self: flex-start;width: 50%;}#sk-container-id-3 div.sk-parallel-item:only-child::after {width: 0;}#sk-container-id-3 div.sk-dashed-wrapped {border: 1px dashed gray;margin: 0 0.4em 0.5em 0.4em;box-sizing: border-box;padding-bottom: 0.4em;background-color: white;}#sk-container-id-3 div.sk-label label {font-family: monospace;font-weight: bold;display: inline-block;line-height: 1.2em;}#sk-container-id-3 div.sk-label-container {text-align: center;}#sk-container-id-3 div.sk-container {/* jupyter's `normalize.less` sets `[hidden] { display: none; }` but bootstrap.min.css set `[hidden] { display: none !important; }` so we also need the `!important` here to be able to override the default hidden behavior on the sphinx rendered scikit-learn.org. See: https://github.com/scikit-learn/scikit-learn/issues/21755 */display: inline-block !important;position: relative;}#sk-container-id-3 div.sk-text-repr-fallback {display: none;}</style><div id=\"sk-container-id-3\" class=\"sk-top-container\"><div class=\"sk-text-repr-fallback\"><pre>RandomForestClassifier(max_depth=5, n_estimators=9, random_state=42)</pre><b>In a Jupyter environment, please rerun this cell to show the HTML representation or trust the notebook. <br />On GitHub, the HTML representation is unable to render, please try loading this page with nbviewer.org.</b></div><div class=\"sk-container\" hidden><div class=\"sk-item\"><div class=\"sk-estimator sk-toggleable\"><input class=\"sk-toggleable__control sk-hidden--visually\" id=\"sk-estimator-id-3\" type=\"checkbox\" checked><label for=\"sk-estimator-id-3\" class=\"sk-toggleable__label sk-toggleable__label-arrow\">RandomForestClassifier</label><div class=\"sk-toggleable__content\"><pre>RandomForestClassifier(max_depth=5, n_estimators=9, random_state=42)</pre></div></div></div></div></div>"
      ],
      "text/plain": [
       "RandomForestClassifier(max_depth=5, n_estimators=9, random_state=42)"
      ]
     },
     "execution_count": 80,
     "metadata": {},
     "output_type": "execute_result"
    }
   ],
   "source": [
    "rfr.fit(x_train,y_train)"
   ]
  },
  {
   "cell_type": "code",
   "execution_count": 81,
   "id": "b832d16f-b4aa-4ea5-8d82-7cf1f7f1df9e",
   "metadata": {},
   "outputs": [],
   "source": [
    "train_pred_rf=rfr.predict(x_train)"
   ]
  },
  {
   "cell_type": "code",
   "execution_count": 130,
   "id": "6afd77ef-4443-442a-8a00-444b050a82d3",
   "metadata": {
    "tags": []
   },
   "outputs": [],
   "source": [
    "RandomForestClassifier_Train_Accuracy = accuracy_score(train_pred_rf,y_train)"
   ]
  },
  {
   "cell_type": "code",
   "execution_count": 131,
   "id": "f93c8bf2-1b72-4b90-9557-a384823d3e51",
   "metadata": {},
   "outputs": [
    {
     "name": "stdout",
     "output_type": "stream",
     "text": [
      "0.9942345288143803\n"
     ]
    }
   ],
   "source": [
    "print(RandomForestClassifier_Train_Accuracy)"
   ]
  },
  {
   "cell_type": "code",
   "execution_count": 83,
   "id": "247b0057-6e5e-4eef-b73b-da3a6b603255",
   "metadata": {},
   "outputs": [],
   "source": [
    "test_pred_rf=rfr.predict(x_test)"
   ]
  },
  {
   "cell_type": "code",
   "execution_count": 84,
   "id": "f2ed94c4-8a5c-4801-bd81-44c764ddf7a3",
   "metadata": {},
   "outputs": [
    {
     "name": "stdout",
     "output_type": "stream",
     "text": [
      "0.9943081554271479\n"
     ]
    }
   ],
   "source": [
    "print(accuracy_score(test_pred_rf,y_test))"
   ]
  },
  {
   "cell_type": "markdown",
   "id": "8aa33f54-0852-4bbb-8605-54a58f608638",
   "metadata": {},
   "source": [
    "4. KNeighborsClassifier"
   ]
  },
  {
   "cell_type": "code",
   "execution_count": 85,
   "id": "428a1eaf-8a82-4df1-b304-7369c731aa18",
   "metadata": {},
   "outputs": [],
   "source": [
    "from sklearn.neighbors import KNeighborsClassifier\n",
    "from sklearn.preprocessing import StandardScaler"
   ]
  },
  {
   "cell_type": "code",
   "execution_count": 86,
   "id": "edf556cf-3542-441c-973a-8340ecc95224",
   "metadata": {},
   "outputs": [],
   "source": [
    "scaler = StandardScaler()"
   ]
  },
  {
   "cell_type": "code",
   "execution_count": 87,
   "id": "3e7738a0-e161-4636-9d9c-11c8845edfd3",
   "metadata": {},
   "outputs": [],
   "source": [
    "x_train_scaled = scaler.fit_transform(x_train)\n",
    "x_test_scaled = scaler.fit_transform(x_test)"
   ]
  },
  {
   "cell_type": "code",
   "execution_count": 88,
   "id": "47c20ffa-bfe8-4430-b9dd-1f5a0a791b94",
   "metadata": {},
   "outputs": [],
   "source": [
    "knn_model = KNeighborsClassifier(n_neighbors=5)"
   ]
  },
  {
   "cell_type": "code",
   "execution_count": 89,
   "id": "3fd9c008-cab1-4137-910c-63e30b5705b9",
   "metadata": {},
   "outputs": [
    {
     "data": {
      "text/html": [
       "<style>#sk-container-id-4 {color: black;}#sk-container-id-4 pre{padding: 0;}#sk-container-id-4 div.sk-toggleable {background-color: white;}#sk-container-id-4 label.sk-toggleable__label {cursor: pointer;display: block;width: 100%;margin-bottom: 0;padding: 0.3em;box-sizing: border-box;text-align: center;}#sk-container-id-4 label.sk-toggleable__label-arrow:before {content: \"▸\";float: left;margin-right: 0.25em;color: #696969;}#sk-container-id-4 label.sk-toggleable__label-arrow:hover:before {color: black;}#sk-container-id-4 div.sk-estimator:hover label.sk-toggleable__label-arrow:before {color: black;}#sk-container-id-4 div.sk-toggleable__content {max-height: 0;max-width: 0;overflow: hidden;text-align: left;background-color: #f0f8ff;}#sk-container-id-4 div.sk-toggleable__content pre {margin: 0.2em;color: black;border-radius: 0.25em;background-color: #f0f8ff;}#sk-container-id-4 input.sk-toggleable__control:checked~div.sk-toggleable__content {max-height: 200px;max-width: 100%;overflow: auto;}#sk-container-id-4 input.sk-toggleable__control:checked~label.sk-toggleable__label-arrow:before {content: \"▾\";}#sk-container-id-4 div.sk-estimator input.sk-toggleable__control:checked~label.sk-toggleable__label {background-color: #d4ebff;}#sk-container-id-4 div.sk-label input.sk-toggleable__control:checked~label.sk-toggleable__label {background-color: #d4ebff;}#sk-container-id-4 input.sk-hidden--visually {border: 0;clip: rect(1px 1px 1px 1px);clip: rect(1px, 1px, 1px, 1px);height: 1px;margin: -1px;overflow: hidden;padding: 0;position: absolute;width: 1px;}#sk-container-id-4 div.sk-estimator {font-family: monospace;background-color: #f0f8ff;border: 1px dotted black;border-radius: 0.25em;box-sizing: border-box;margin-bottom: 0.5em;}#sk-container-id-4 div.sk-estimator:hover {background-color: #d4ebff;}#sk-container-id-4 div.sk-parallel-item::after {content: \"\";width: 100%;border-bottom: 1px solid gray;flex-grow: 1;}#sk-container-id-4 div.sk-label:hover label.sk-toggleable__label {background-color: #d4ebff;}#sk-container-id-4 div.sk-serial::before {content: \"\";position: absolute;border-left: 1px solid gray;box-sizing: border-box;top: 0;bottom: 0;left: 50%;z-index: 0;}#sk-container-id-4 div.sk-serial {display: flex;flex-direction: column;align-items: center;background-color: white;padding-right: 0.2em;padding-left: 0.2em;position: relative;}#sk-container-id-4 div.sk-item {position: relative;z-index: 1;}#sk-container-id-4 div.sk-parallel {display: flex;align-items: stretch;justify-content: center;background-color: white;position: relative;}#sk-container-id-4 div.sk-item::before, #sk-container-id-4 div.sk-parallel-item::before {content: \"\";position: absolute;border-left: 1px solid gray;box-sizing: border-box;top: 0;bottom: 0;left: 50%;z-index: -1;}#sk-container-id-4 div.sk-parallel-item {display: flex;flex-direction: column;z-index: 1;position: relative;background-color: white;}#sk-container-id-4 div.sk-parallel-item:first-child::after {align-self: flex-end;width: 50%;}#sk-container-id-4 div.sk-parallel-item:last-child::after {align-self: flex-start;width: 50%;}#sk-container-id-4 div.sk-parallel-item:only-child::after {width: 0;}#sk-container-id-4 div.sk-dashed-wrapped {border: 1px dashed gray;margin: 0 0.4em 0.5em 0.4em;box-sizing: border-box;padding-bottom: 0.4em;background-color: white;}#sk-container-id-4 div.sk-label label {font-family: monospace;font-weight: bold;display: inline-block;line-height: 1.2em;}#sk-container-id-4 div.sk-label-container {text-align: center;}#sk-container-id-4 div.sk-container {/* jupyter's `normalize.less` sets `[hidden] { display: none; }` but bootstrap.min.css set `[hidden] { display: none !important; }` so we also need the `!important` here to be able to override the default hidden behavior on the sphinx rendered scikit-learn.org. See: https://github.com/scikit-learn/scikit-learn/issues/21755 */display: inline-block !important;position: relative;}#sk-container-id-4 div.sk-text-repr-fallback {display: none;}</style><div id=\"sk-container-id-4\" class=\"sk-top-container\"><div class=\"sk-text-repr-fallback\"><pre>KNeighborsClassifier()</pre><b>In a Jupyter environment, please rerun this cell to show the HTML representation or trust the notebook. <br />On GitHub, the HTML representation is unable to render, please try loading this page with nbviewer.org.</b></div><div class=\"sk-container\" hidden><div class=\"sk-item\"><div class=\"sk-estimator sk-toggleable\"><input class=\"sk-toggleable__control sk-hidden--visually\" id=\"sk-estimator-id-4\" type=\"checkbox\" checked><label for=\"sk-estimator-id-4\" class=\"sk-toggleable__label sk-toggleable__label-arrow\">KNeighborsClassifier</label><div class=\"sk-toggleable__content\"><pre>KNeighborsClassifier()</pre></div></div></div></div></div>"
      ],
      "text/plain": [
       "KNeighborsClassifier()"
      ]
     },
     "execution_count": 89,
     "metadata": {},
     "output_type": "execute_result"
    }
   ],
   "source": [
    "# Fit the model to your training data\n",
    "knn_model.fit(x_train_scaled, y_train)"
   ]
  },
  {
   "cell_type": "code",
   "execution_count": 90,
   "id": "470a4d32-150e-4fa4-aa35-466f5c7e1e6e",
   "metadata": {},
   "outputs": [],
   "source": [
    "# Predict labels for test data\n",
    "test_pred_knn = knn_model.predict(x_test_scaled)"
   ]
  },
  {
   "cell_type": "code",
   "execution_count": 91,
   "id": "c7e7e698-2909-4f4a-bf98-52ba55af722b",
   "metadata": {},
   "outputs": [],
   "source": [
    "train_pred_knn = knn_model.predict(x_train_scaled)"
   ]
  },
  {
   "cell_type": "code",
   "execution_count": 132,
   "id": "8f894976-5cbb-408f-b07a-9446f98453a8",
   "metadata": {},
   "outputs": [],
   "source": [
    "KNeighborsClassifier_Train_Accuracy=accuracy_score(train_pred_knn,y_train)"
   ]
  },
  {
   "cell_type": "code",
   "execution_count": 133,
   "id": "7e495ded-635e-4186-802a-ff74895a33ef",
   "metadata": {},
   "outputs": [
    {
     "name": "stdout",
     "output_type": "stream",
     "text": [
      "0.998386706112351\n"
     ]
    }
   ],
   "source": [
    "print(KNeighborsClassifier_Train_Accuracy)"
   ]
  },
  {
   "cell_type": "code",
   "execution_count": 94,
   "id": "2ff09a52-e118-4970-9791-771f98b8a0d2",
   "metadata": {},
   "outputs": [
    {
     "name": "stdout",
     "output_type": "stream",
     "text": [
      "0.9975952389190685\n"
     ]
    }
   ],
   "source": [
    "print(accuracy_score(test_pred_knn,y_test))"
   ]
  },
  {
   "cell_type": "markdown",
   "id": "c932b9b8-09d4-416e-98d5-83aef066e1e6",
   "metadata": {},
   "source": [
    "5. Naive Bayes Algorithm"
   ]
  },
  {
   "cell_type": "code",
   "execution_count": 96,
   "id": "52a4dd99-c338-42bd-b714-a4f2ff472f60",
   "metadata": {},
   "outputs": [],
   "source": [
    "#Importing necessary library \n",
    "from sklearn.naive_bayes import GaussianNB"
   ]
  },
  {
   "cell_type": "code",
   "execution_count": 97,
   "id": "dc96a6a5-4bd1-43e7-9d52-c4f96a550e23",
   "metadata": {},
   "outputs": [],
   "source": [
    "gnb = GaussianNB()"
   ]
  },
  {
   "cell_type": "code",
   "execution_count": 98,
   "id": "6b5c7fe8-e187-4009-a982-0f99da15a888",
   "metadata": {},
   "outputs": [
    {
     "data": {
      "text/html": [
       "<style>#sk-container-id-5 {color: black;}#sk-container-id-5 pre{padding: 0;}#sk-container-id-5 div.sk-toggleable {background-color: white;}#sk-container-id-5 label.sk-toggleable__label {cursor: pointer;display: block;width: 100%;margin-bottom: 0;padding: 0.3em;box-sizing: border-box;text-align: center;}#sk-container-id-5 label.sk-toggleable__label-arrow:before {content: \"▸\";float: left;margin-right: 0.25em;color: #696969;}#sk-container-id-5 label.sk-toggleable__label-arrow:hover:before {color: black;}#sk-container-id-5 div.sk-estimator:hover label.sk-toggleable__label-arrow:before {color: black;}#sk-container-id-5 div.sk-toggleable__content {max-height: 0;max-width: 0;overflow: hidden;text-align: left;background-color: #f0f8ff;}#sk-container-id-5 div.sk-toggleable__content pre {margin: 0.2em;color: black;border-radius: 0.25em;background-color: #f0f8ff;}#sk-container-id-5 input.sk-toggleable__control:checked~div.sk-toggleable__content {max-height: 200px;max-width: 100%;overflow: auto;}#sk-container-id-5 input.sk-toggleable__control:checked~label.sk-toggleable__label-arrow:before {content: \"▾\";}#sk-container-id-5 div.sk-estimator input.sk-toggleable__control:checked~label.sk-toggleable__label {background-color: #d4ebff;}#sk-container-id-5 div.sk-label input.sk-toggleable__control:checked~label.sk-toggleable__label {background-color: #d4ebff;}#sk-container-id-5 input.sk-hidden--visually {border: 0;clip: rect(1px 1px 1px 1px);clip: rect(1px, 1px, 1px, 1px);height: 1px;margin: -1px;overflow: hidden;padding: 0;position: absolute;width: 1px;}#sk-container-id-5 div.sk-estimator {font-family: monospace;background-color: #f0f8ff;border: 1px dotted black;border-radius: 0.25em;box-sizing: border-box;margin-bottom: 0.5em;}#sk-container-id-5 div.sk-estimator:hover {background-color: #d4ebff;}#sk-container-id-5 div.sk-parallel-item::after {content: \"\";width: 100%;border-bottom: 1px solid gray;flex-grow: 1;}#sk-container-id-5 div.sk-label:hover label.sk-toggleable__label {background-color: #d4ebff;}#sk-container-id-5 div.sk-serial::before {content: \"\";position: absolute;border-left: 1px solid gray;box-sizing: border-box;top: 0;bottom: 0;left: 50%;z-index: 0;}#sk-container-id-5 div.sk-serial {display: flex;flex-direction: column;align-items: center;background-color: white;padding-right: 0.2em;padding-left: 0.2em;position: relative;}#sk-container-id-5 div.sk-item {position: relative;z-index: 1;}#sk-container-id-5 div.sk-parallel {display: flex;align-items: stretch;justify-content: center;background-color: white;position: relative;}#sk-container-id-5 div.sk-item::before, #sk-container-id-5 div.sk-parallel-item::before {content: \"\";position: absolute;border-left: 1px solid gray;box-sizing: border-box;top: 0;bottom: 0;left: 50%;z-index: -1;}#sk-container-id-5 div.sk-parallel-item {display: flex;flex-direction: column;z-index: 1;position: relative;background-color: white;}#sk-container-id-5 div.sk-parallel-item:first-child::after {align-self: flex-end;width: 50%;}#sk-container-id-5 div.sk-parallel-item:last-child::after {align-self: flex-start;width: 50%;}#sk-container-id-5 div.sk-parallel-item:only-child::after {width: 0;}#sk-container-id-5 div.sk-dashed-wrapped {border: 1px dashed gray;margin: 0 0.4em 0.5em 0.4em;box-sizing: border-box;padding-bottom: 0.4em;background-color: white;}#sk-container-id-5 div.sk-label label {font-family: monospace;font-weight: bold;display: inline-block;line-height: 1.2em;}#sk-container-id-5 div.sk-label-container {text-align: center;}#sk-container-id-5 div.sk-container {/* jupyter's `normalize.less` sets `[hidden] { display: none; }` but bootstrap.min.css set `[hidden] { display: none !important; }` so we also need the `!important` here to be able to override the default hidden behavior on the sphinx rendered scikit-learn.org. See: https://github.com/scikit-learn/scikit-learn/issues/21755 */display: inline-block !important;position: relative;}#sk-container-id-5 div.sk-text-repr-fallback {display: none;}</style><div id=\"sk-container-id-5\" class=\"sk-top-container\"><div class=\"sk-text-repr-fallback\"><pre>GaussianNB()</pre><b>In a Jupyter environment, please rerun this cell to show the HTML representation or trust the notebook. <br />On GitHub, the HTML representation is unable to render, please try loading this page with nbviewer.org.</b></div><div class=\"sk-container\" hidden><div class=\"sk-item\"><div class=\"sk-estimator sk-toggleable\"><input class=\"sk-toggleable__control sk-hidden--visually\" id=\"sk-estimator-id-5\" type=\"checkbox\" checked><label for=\"sk-estimator-id-5\" class=\"sk-toggleable__label sk-toggleable__label-arrow\">GaussianNB</label><div class=\"sk-toggleable__content\"><pre>GaussianNB()</pre></div></div></div></div></div>"
      ],
      "text/plain": [
       "GaussianNB()"
      ]
     },
     "execution_count": 98,
     "metadata": {},
     "output_type": "execute_result"
    }
   ],
   "source": [
    "# fit the model\n",
    "gnb.fit(x_train, y_train)"
   ]
  },
  {
   "cell_type": "code",
   "execution_count": 99,
   "id": "708fbdfe-9d4c-49a6-9551-99d28b3d6174",
   "metadata": {},
   "outputs": [],
   "source": [
    "y_train_pred = gnb.predict(x_train)"
   ]
  },
  {
   "cell_type": "code",
   "execution_count": 100,
   "id": "b8d0d388-33f1-42e9-98c1-6f1e28ea1ab9",
   "metadata": {},
   "outputs": [],
   "source": [
    "y_train_pred = pd.Series(y_train_pred)"
   ]
  },
  {
   "cell_type": "code",
   "execution_count": 101,
   "id": "3fed6cec-4a3d-4c96-8e39-916319511320",
   "metadata": {},
   "outputs": [],
   "source": [
    "Model_data_train = pd.DataFrame(y_train)"
   ]
  },
  {
   "cell_type": "code",
   "execution_count": 102,
   "id": "6ee0b767-9ad7-4331-8064-c092cbd6a651",
   "metadata": {},
   "outputs": [
    {
     "data": {
      "text/html": [
       "<div>\n",
       "<style scoped>\n",
       "    .dataframe tbody tr th:only-of-type {\n",
       "        vertical-align: middle;\n",
       "    }\n",
       "\n",
       "    .dataframe tbody tr th {\n",
       "        vertical-align: top;\n",
       "    }\n",
       "\n",
       "    .dataframe thead th {\n",
       "        text-align: right;\n",
       "    }\n",
       "</style>\n",
       "<table border=\"1\" class=\"dataframe\">\n",
       "  <thead>\n",
       "    <tr style=\"text-align: right;\">\n",
       "      <th></th>\n",
       "      <th>Attack</th>\n",
       "    </tr>\n",
       "  </thead>\n",
       "  <tbody>\n",
       "    <tr>\n",
       "      <th>269772</th>\n",
       "      <td>0</td>\n",
       "    </tr>\n",
       "    <tr>\n",
       "      <th>63807</th>\n",
       "      <td>1</td>\n",
       "    </tr>\n",
       "    <tr>\n",
       "      <th>176302</th>\n",
       "      <td>0</td>\n",
       "    </tr>\n",
       "    <tr>\n",
       "      <th>62059</th>\n",
       "      <td>1</td>\n",
       "    </tr>\n",
       "    <tr>\n",
       "      <th>56386</th>\n",
       "      <td>1</td>\n",
       "    </tr>\n",
       "    <tr>\n",
       "      <th>...</th>\n",
       "      <td>...</td>\n",
       "    </tr>\n",
       "    <tr>\n",
       "      <th>251221</th>\n",
       "      <td>0</td>\n",
       "    </tr>\n",
       "    <tr>\n",
       "      <th>47194</th>\n",
       "      <td>1</td>\n",
       "    </tr>\n",
       "    <tr>\n",
       "      <th>422526</th>\n",
       "      <td>0</td>\n",
       "    </tr>\n",
       "    <tr>\n",
       "      <th>212041</th>\n",
       "      <td>1</td>\n",
       "    </tr>\n",
       "    <tr>\n",
       "      <th>201167</th>\n",
       "      <td>0</td>\n",
       "    </tr>\n",
       "  </tbody>\n",
       "</table>\n",
       "<p>231204 rows × 1 columns</p>\n",
       "</div>"
      ],
      "text/plain": [
       "        Attack\n",
       "269772       0\n",
       "63807        1\n",
       "176302       0\n",
       "62059        1\n",
       "56386        1\n",
       "...        ...\n",
       "251221       0\n",
       "47194        1\n",
       "422526       0\n",
       "212041       1\n",
       "201167       0\n",
       "\n",
       "[231204 rows x 1 columns]"
      ]
     },
     "execution_count": 102,
     "metadata": {},
     "output_type": "execute_result"
    }
   ],
   "source": [
    "Model_data_train"
   ]
  },
  {
   "cell_type": "code",
   "execution_count": 103,
   "id": "b5b9e4db-491b-4ca3-ba81-3b15e11cd2f4",
   "metadata": {},
   "outputs": [
    {
     "data": {
      "text/plain": [
       "(231204, 1)"
      ]
     },
     "execution_count": 103,
     "metadata": {},
     "output_type": "execute_result"
    }
   ],
   "source": [
    "Model_data_train.shape"
   ]
  },
  {
   "cell_type": "code",
   "execution_count": 104,
   "id": "ad45572e-fdb6-4a01-a753-235553cdc2b4",
   "metadata": {},
   "outputs": [],
   "source": [
    "Model_data_train['y_pred'] = y_train_pred"
   ]
  },
  {
   "cell_type": "code",
   "execution_count": 105,
   "id": "2536d04c-6183-43b7-a8f9-8c889b717170",
   "metadata": {},
   "outputs": [
    {
     "data": {
      "text/html": [
       "<div>\n",
       "<style scoped>\n",
       "    .dataframe tbody tr th:only-of-type {\n",
       "        vertical-align: middle;\n",
       "    }\n",
       "\n",
       "    .dataframe tbody tr th {\n",
       "        vertical-align: top;\n",
       "    }\n",
       "\n",
       "    .dataframe thead th {\n",
       "        text-align: right;\n",
       "    }\n",
       "</style>\n",
       "<table border=\"1\" class=\"dataframe\">\n",
       "  <thead>\n",
       "    <tr style=\"text-align: right;\">\n",
       "      <th>y_pred</th>\n",
       "      <th>0.0</th>\n",
       "      <th>1.0</th>\n",
       "      <th>All</th>\n",
       "    </tr>\n",
       "    <tr>\n",
       "      <th>Attack</th>\n",
       "      <th></th>\n",
       "      <th></th>\n",
       "      <th></th>\n",
       "    </tr>\n",
       "  </thead>\n",
       "  <tbody>\n",
       "    <tr>\n",
       "      <th>0</th>\n",
       "      <td>23296</td>\n",
       "      <td>22935</td>\n",
       "      <td>46231</td>\n",
       "    </tr>\n",
       "    <tr>\n",
       "      <th>1</th>\n",
       "      <td>58200</td>\n",
       "      <td>57331</td>\n",
       "      <td>115531</td>\n",
       "    </tr>\n",
       "    <tr>\n",
       "      <th>All</th>\n",
       "      <td>81496</td>\n",
       "      <td>80266</td>\n",
       "      <td>161762</td>\n",
       "    </tr>\n",
       "  </tbody>\n",
       "</table>\n",
       "</div>"
      ],
      "text/plain": [
       "y_pred    0.0    1.0     All\n",
       "Attack                      \n",
       "0       23296  22935   46231\n",
       "1       58200  57331  115531\n",
       "All     81496  80266  161762"
      ]
     },
     "execution_count": 105,
     "metadata": {},
     "output_type": "execute_result"
    }
   ],
   "source": [
    "pd.crosstab(Model_data_train.Attack,Model_data_train.y_pred, margins = True)"
   ]
  },
  {
   "cell_type": "code",
   "execution_count": 106,
   "id": "f836ca8c-c9f2-48e4-8dbf-226ef830f46c",
   "metadata": {},
   "outputs": [
    {
     "name": "stdout",
     "output_type": "stream",
     "text": [
      "Confusion matrix\n",
      "\n",
      " [[115149    524]\n",
      " [  1746 113785]]\n",
      "\n",
      "True Positives(TP) =  115149\n",
      "\n",
      "True Negatives(TN) =  113785\n",
      "\n",
      "False Positives(FP) =  524\n",
      "\n",
      "False Negatives(FN) =  1746\n"
     ]
    },
    {
     "data": {
      "text/plain": [
       "(2, 2)"
      ]
     },
     "execution_count": 106,
     "metadata": {},
     "output_type": "execute_result"
    }
   ],
   "source": [
    "from sklearn.metrics import confusion_matrix\n",
    "\n",
    "data_table = confusion_matrix(y_train, y_train_pred)\n",
    "\n",
    "print('Confusion matrix\\n\\n', data_table)\n",
    "\n",
    "print('\\nTrue Positives(TP) = ', data_table[0,0])\n",
    "\n",
    "print('\\nTrue Negatives(TN) = ', data_table[1,1])\n",
    "\n",
    "print('\\nFalse Positives(FP) = ', data_table[0,1])\n",
    "\n",
    "print('\\nFalse Negatives(FN) = ', data_table[1,0])\n",
    "\n",
    "\n",
    "data_table.shape"
   ]
  },
  {
   "cell_type": "code",
   "execution_count": 107,
   "id": "9318d10a-19d9-4e60-8d12-b88e43b34d56",
   "metadata": {},
   "outputs": [
    {
     "data": {
      "text/plain": [
       "<Axes: >"
      ]
     },
     "execution_count": 107,
     "metadata": {},
     "output_type": "execute_result"
    },
    {
     "data": {
      "image/png": "[encoded data removed]",
      "text/plain": [
       "<Figure size 640x480 with 2 Axes>"
      ]
     },
     "metadata": {},
     "output_type": "display_data"
    }
   ],
   "source": [
    "matrix = pd.DataFrame(data=data_table, columns=['Actual Positive:1', 'Actual Negative:0'], \n",
    "                                 index=['Predict Positive:1', 'Predict Negative:0'])\n",
    "\n",
    "sns.heatmap(matrix, annot=True, fmt='d', cmap='YlGnBu')"
   ]
  },
  {
   "cell_type": "code",
   "execution_count": 135,
   "id": "bc4e6432-c18b-4718-a110-425176d2929a",
   "metadata": {
    "tags": []
   },
   "outputs": [],
   "source": [
    "GaussianNB_Train_Accuracy = accuracy_score(y_train,y_train_pred)"
   ]
  },
  {
   "cell_type": "code",
   "execution_count": 136,
   "id": "a1496f0b-2b02-4840-97cb-a79aba24248f",
   "metadata": {
    "tags": []
   },
   "outputs": [
    {
     "name": "stdout",
     "output_type": "stream",
     "text": [
      "0.9901818307641737\n"
     ]
    }
   ],
   "source": [
    "print(GaussianNB_Train_Accuracy)"
   ]
  },
  {
   "cell_type": "code",
   "execution_count": 108,
   "id": "02a68368-3f03-43b4-a8c9-c5940586b281",
   "metadata": {},
   "outputs": [
    {
     "name": "stdout",
     "output_type": "stream",
     "text": [
      "              precision    recall  f1-score   support\n",
      "\n",
      "           0       0.99      1.00      0.99    115673\n",
      "           1       1.00      0.98      0.99    115531\n",
      "\n",
      "    accuracy                           0.99    231204\n",
      "   macro avg       0.99      0.99      0.99    231204\n",
      "weighted avg       0.99      0.99      0.99    231204\n",
      "\n"
     ]
    }
   ],
   "source": [
    "print(classification_report(y_train,y_train_pred))"
   ]
  },
  {
   "cell_type": "code",
   "execution_count": 109,
   "id": "d1e64f18-6a53-4e9e-b515-15dbd8abab0d",
   "metadata": {},
   "outputs": [
    {
     "name": "stdout",
     "output_type": "stream",
     "text": [
      "model accuracy-->0.990\n"
     ]
    }
   ],
   "source": [
    "print('model accuracy-->{0:0.3f}'.format(accuracy_score(y_train,y_train_pred)))"
   ]
  },
  {
   "cell_type": "code",
   "execution_count": 110,
   "id": "005021af-7006-4fc3-a1fd-e1c17da45a7f",
   "metadata": {},
   "outputs": [],
   "source": [
    "# Data validation on x_test\n",
    "test_pred_naive=gnb.predict(x_test)"
   ]
  },
  {
   "cell_type": "code",
   "execution_count": 111,
   "id": "76cac358-6baf-4c33-a697-5fbb95ccf4e5",
   "metadata": {},
   "outputs": [],
   "source": [
    "# Data validation on x_test\n",
    "test_pred_naive=gnb.predict(x_test)"
   ]
  },
  {
   "cell_type": "markdown",
   "id": "94f3b8ea-c100-4d53-811c-41f077bd07fe",
   "metadata": {},
   "source": [
    "### Ensemble Learning Algorithm"
   ]
  },
  {
   "cell_type": "code",
   "execution_count": 116,
   "id": "38566050-153f-4b80-a30f-2e6e08ba02a3",
   "metadata": {},
   "outputs": [],
   "source": [
    "from sklearn.ensemble import BaggingClassifier, BaggingRegressor,RandomForestClassifier,RandomForestRegressor\n",
    "from sklearn.ensemble import GradientBoostingClassifier,GradientBoostingRegressor, AdaBoostClassifier, AdaBoostRegressor "
   ]
  },
  {
   "cell_type": "code",
   "execution_count": 117,
   "id": "7029cd20-56e2-45f2-ae30-f23553e3eec5",
   "metadata": {
    "tags": []
   },
   "outputs": [],
   "source": [
    "import sklearn"
   ]
  },
  {
   "cell_type": "code",
   "execution_count": 118,
   "id": "12aab555-de9e-4e99-92c1-7e30764087c3",
   "metadata": {
    "tags": []
   },
   "outputs": [],
   "source": [
    "pargrid_ada = {'n_estimators': [5,10,15,20,25,30,35,40]}"
   ]
  },
  {
   "cell_type": "code",
   "execution_count": 119,
   "id": "d7cb7052-7349-4e1d-b656-5da41eca6eb8",
   "metadata": {
    "tags": []
   },
   "outputs": [],
   "source": [
    "gscv_bagging = GridSearchCV(estimator=BaggingClassifier(), \n",
    "                        param_grid=pargrid_ada, \n",
    "                        cv=5,\n",
    "                        verbose=True, n_jobs=-1, scoring='roc_auc')"
   ]
  },
  {
   "cell_type": "code",
   "execution_count": 120,
   "id": "67c2bd30-59fa-484a-8552-6edef0724bdb",
   "metadata": {
    "tags": []
   },
   "outputs": [
    {
     "name": "stdout",
     "output_type": "stream",
     "text": [
      "Fitting 5 folds for each of 8 candidates, totalling 40 fits\n"
     ]
    }
   ],
   "source": [
    "gscv_results = gscv_bagging.fit(x_train, y_train)"
   ]
  },
  {
   "cell_type": "code",
   "execution_count": 121,
   "id": "9e4a89f3-1aaf-48a7-ab89-ab530fca78a6",
   "metadata": {
    "tags": []
   },
   "outputs": [
    {
     "data": {
      "text/plain": [
       "{'n_estimators': 40}"
      ]
     },
     "execution_count": 121,
     "metadata": {},
     "output_type": "execute_result"
    }
   ],
   "source": [
    "gscv_results.best_params_"
   ]
  },
  {
   "cell_type": "code",
   "execution_count": 122,
   "id": "823ce6fb-efc1-4e78-9bc6-c4e2a6be32d3",
   "metadata": {
    "tags": []
   },
   "outputs": [
    {
     "data": {
      "text/plain": [
       "0.9997795453243855"
      ]
     },
     "execution_count": 122,
     "metadata": {},
     "output_type": "execute_result"
    }
   ],
   "source": [
    "gscv_results.best_score_"
   ]
  },
  {
   "cell_type": "code",
   "execution_count": 123,
   "id": "c9e2b702-a4b8-416c-8acf-e5bcbbe49ea2",
   "metadata": {
    "tags": []
   },
   "outputs": [
    {
     "name": "stdout",
     "output_type": "stream",
     "text": [
      "0.9999894069938136\n"
     ]
    }
   ],
   "source": [
    "print(metrics.roc_auc_score(y_train, pd.DataFrame(gscv_results.predict_proba(x_train))[1]))"
   ]
  },
  {
   "cell_type": "code",
   "execution_count": 124,
   "id": "f22a2754-5a71-4a27-a699-391cb897f1b3",
   "metadata": {
    "tags": []
   },
   "outputs": [
    {
     "name": "stdout",
     "output_type": "stream",
     "text": [
      "0.9997499708953862\n"
     ]
    }
   ],
   "source": [
    "print(metrics.roc_auc_score(y_test, pd.DataFrame(gscv_results.predict_proba(x_test))[1]))"
   ]
  },
  {
   "cell_type": "code",
   "execution_count": 144,
   "id": "604cac5e-1e38-4209-bb8b-e69fc7203d59",
   "metadata": {
    "tags": []
   },
   "outputs": [
    {
     "data": {
      "image/png": "[encoded data removed]",
      "text/plain": [
       "<Figure size 1800x500 with 1 Axes>"
      ]
     },
     "metadata": {},
     "output_type": "display_data"
    }
   ],
   "source": [
    "#Create a bar graph for knn, decision tree, random forest, and logistic regression\n",
    "models = ['LogisticRegression', 'DecisionTreeClassifier','RandomForestClassifier', 'KNeighborsClassifier', 'GaussianNB',] \n",
    "accuracy_values = [LogisticRegression_Train_Accuracy, DecisionTreeClassifier_Train_Accuracy,RandomForestClassifier_Train_Accuracy, KNeighborsClassifier_Train_Accuracy, GaussianNB_Train_Accuracy] \n",
    "plt.figure(figsize=(18, 5))\n",
    "# # Plot the bar graph\n",
    "bars = plt.bar (models, accuracy_values, color=['blue', 'green', 'red', 'orange','pink'])\n",
    "#Add accuracy values on top of each bar\n",
    "#plt.bar_label (bars, labels = [f' (acc:.2f} for acc in accuracy_values])\n",
    "#Add Labels and title\n",
    "plt.xlabel('Models')\n",
    "plt.ylabel('Accuracy')\n",
    "plt.title('Accuracy Comparison for Different Models')\n",
    "#Show the plot\n",
    "plt.show()"
   ]
  },
  {
   "cell_type": "code",
   "execution_count": null,
   "id": "3f4f81e4-417f-4789-a647-bb6a291a56b0",
   "metadata": {},
   "outputs": [],
   "source": []
  }
 ],
 "metadata": {
  "kernelspec": {
   "display_name": "Python 3 (ipykernel)",
   "language": "python",
   "name": "python3"
  },
  "language_info": {
   "codemirror_mode": {
    "name": "ipython",
    "version": 3
   },
   "file_extension": ".py",
   "mimetype": "text/x-python",
   "name": "python",
   "nbconvert_exporter": "python",
   "pygments_lexer": "ipython3",
   "version": "3.11.5"
  }
 },
 "nbformat": 4,
 "nbformat_minor": 5
}
